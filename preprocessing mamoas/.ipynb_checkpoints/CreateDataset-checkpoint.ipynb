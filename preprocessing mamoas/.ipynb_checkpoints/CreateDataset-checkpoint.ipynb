{
 "cells": [
  {
   "cell_type": "markdown",
   "metadata": {
    "colab_type": "text",
    "id": "view-in-github"
   },
   "source": [
    "<a href=\"https://colab.research.google.com/github/fabriciobotelho99/odyssey-project/blob/main/preprocessing%20mamoas/CreateDataset.ipynb\" target=\"_parent\"><img src=\"https://colab.research.google.com/assets/colab-badge.svg\" alt=\"Open In Colab\"/></a>"
   ]
  },
  {
   "cell_type": "code",
   "execution_count": null,
   "metadata": {
    "colab": {
     "base_uri": "https://localhost:8080/"
    },
    "id": "8vKFYuGAZCBk",
    "outputId": "634461e3-2439-4eba-aeec-c8a8834531bc"
   },
   "outputs": [
    {
     "name": "stdout",
     "output_type": "stream",
     "text": [
      "Collecting split-folders\n",
      "  Downloading split_folders-0.5.1-py3-none-any.whl (8.4 kB)\n",
      "Installing collected packages: split-folders\n",
      "Successfully installed split-folders-0.5.1\n",
      "\u001b[33mWARNING: Skipping opencv-python-headless as it is not installed.\u001b[0m\n",
      "Found existing installation: albumentations 0.1.12\n",
      "Uninstalling albumentations-0.1.12:\n",
      "  Would remove:\n",
      "    /usr/local/lib/python3.7/dist-packages/albumentations-0.1.12.dist-info/*\n",
      "    /usr/local/lib/python3.7/dist-packages/albumentations/*\n",
      "Proceed (y/n)? y\n",
      "  Successfully uninstalled albumentations-0.1.12\n",
      "Collecting opencv-python-headless==4.1.2.30\n",
      "  Downloading opencv_python_headless-4.1.2.30-cp37-cp37m-manylinux1_x86_64.whl (21.8 MB)\n",
      "\u001b[K     |████████████████████████████████| 21.8 MB 1.3 MB/s \n",
      "\u001b[?25hRequirement already satisfied: numpy>=1.14.5 in /usr/local/lib/python3.7/dist-packages (from opencv-python-headless==4.1.2.30) (1.21.5)\n",
      "Installing collected packages: opencv-python-headless\n",
      "Successfully installed opencv-python-headless-4.1.2.30\n",
      "Collecting git+https://github.com/albumentations-team/albumentations\n",
      "  Cloning https://github.com/albumentations-team/albumentations to /tmp/pip-req-build-qy4t4p6d\n",
      "  Running command git clone -q https://github.com/albumentations-team/albumentations /tmp/pip-req-build-qy4t4p6d\n",
      "Requirement already satisfied: numpy>=1.11.1 in /usr/local/lib/python3.7/dist-packages (from albumentations==1.1.0) (1.21.5)\n",
      "Requirement already satisfied: scipy in /usr/local/lib/python3.7/dist-packages (from albumentations==1.1.0) (1.4.1)\n",
      "Requirement already satisfied: scikit-image<0.19,>=0.16.1 in /usr/local/lib/python3.7/dist-packages (from albumentations==1.1.0) (0.18.3)\n",
      "Requirement already satisfied: PyYAML in /usr/local/lib/python3.7/dist-packages (from albumentations==1.1.0) (3.13)\n",
      "Collecting qudida>=0.0.4\n",
      "  Downloading qudida-0.0.4-py3-none-any.whl (3.5 kB)\n",
      "Requirement already satisfied: opencv-python>=4.1.1 in /usr/local/lib/python3.7/dist-packages (from albumentations==1.1.0) (4.1.2.30)\n",
      "Requirement already satisfied: opencv-python-headless>=4.0.1 in /usr/local/lib/python3.7/dist-packages (from qudida>=0.0.4->albumentations==1.1.0) (4.1.2.30)\n",
      "Requirement already satisfied: scikit-learn>=0.19.1 in /usr/local/lib/python3.7/dist-packages (from qudida>=0.0.4->albumentations==1.1.0) (1.0.2)\n",
      "Requirement already satisfied: typing-extensions in /usr/local/lib/python3.7/dist-packages (from qudida>=0.0.4->albumentations==1.1.0) (3.10.0.2)\n",
      "Requirement already satisfied: imageio>=2.3.0 in /usr/local/lib/python3.7/dist-packages (from scikit-image<0.19,>=0.16.1->albumentations==1.1.0) (2.4.1)\n",
      "Requirement already satisfied: pillow!=7.1.0,!=7.1.1,>=4.3.0 in /usr/local/lib/python3.7/dist-packages (from scikit-image<0.19,>=0.16.1->albumentations==1.1.0) (7.1.2)\n",
      "Requirement already satisfied: tifffile>=2019.7.26 in /usr/local/lib/python3.7/dist-packages (from scikit-image<0.19,>=0.16.1->albumentations==1.1.0) (2021.11.2)\n",
      "Requirement already satisfied: PyWavelets>=1.1.1 in /usr/local/lib/python3.7/dist-packages (from scikit-image<0.19,>=0.16.1->albumentations==1.1.0) (1.3.0)\n",
      "Requirement already satisfied: matplotlib!=3.0.0,>=2.0.0 in /usr/local/lib/python3.7/dist-packages (from scikit-image<0.19,>=0.16.1->albumentations==1.1.0) (3.2.2)\n",
      "Requirement already satisfied: networkx>=2.0 in /usr/local/lib/python3.7/dist-packages (from scikit-image<0.19,>=0.16.1->albumentations==1.1.0) (2.6.3)\n",
      "Requirement already satisfied: python-dateutil>=2.1 in /usr/local/lib/python3.7/dist-packages (from matplotlib!=3.0.0,>=2.0.0->scikit-image<0.19,>=0.16.1->albumentations==1.1.0) (2.8.2)\n",
      "Requirement already satisfied: pyparsing!=2.0.4,!=2.1.2,!=2.1.6,>=2.0.1 in /usr/local/lib/python3.7/dist-packages (from matplotlib!=3.0.0,>=2.0.0->scikit-image<0.19,>=0.16.1->albumentations==1.1.0) (3.0.7)\n",
      "Requirement already satisfied: cycler>=0.10 in /usr/local/lib/python3.7/dist-packages (from matplotlib!=3.0.0,>=2.0.0->scikit-image<0.19,>=0.16.1->albumentations==1.1.0) (0.11.0)\n",
      "Requirement already satisfied: kiwisolver>=1.0.1 in /usr/local/lib/python3.7/dist-packages (from matplotlib!=3.0.0,>=2.0.0->scikit-image<0.19,>=0.16.1->albumentations==1.1.0) (1.4.0)\n",
      "Requirement already satisfied: six>=1.5 in /usr/local/lib/python3.7/dist-packages (from python-dateutil>=2.1->matplotlib!=3.0.0,>=2.0.0->scikit-image<0.19,>=0.16.1->albumentations==1.1.0) (1.15.0)\n",
      "Requirement already satisfied: threadpoolctl>=2.0.0 in /usr/local/lib/python3.7/dist-packages (from scikit-learn>=0.19.1->qudida>=0.0.4->albumentations==1.1.0) (3.1.0)\n",
      "Requirement already satisfied: joblib>=0.11 in /usr/local/lib/python3.7/dist-packages (from scikit-learn>=0.19.1->qudida>=0.0.4->albumentations==1.1.0) (1.1.0)\n",
      "Building wheels for collected packages: albumentations\n",
      "  Building wheel for albumentations (setup.py) ... \u001b[?25l\u001b[?25hdone\n",
      "  Created wheel for albumentations: filename=albumentations-1.1.0-py3-none-any.whl size=112723 sha256=58b0205ea2054a94ab2453e10cb5b1b5e9d53229eff23cbc3e71db8a4ca8a37f\n",
      "  Stored in directory: /tmp/pip-ephem-wheel-cache-j6w6r7fh/wheels/3a/25/ed/ec3b518e7a332d7f0a3bb37c280e1b784cf2f79b94b3c7d00b\n",
      "Successfully built albumentations\n",
      "Installing collected packages: qudida, albumentations\n",
      "Successfully installed albumentations-1.1.0 qudida-0.0.4\n"
     ]
    }
   ],
   "source": [
    "#install some requirements\n",
    "\n",
    "!pip install split-folders\n",
    "!pip uninstall opencv-python-headless\n",
    "!pip uninstall albumentations\n",
    "!pip install opencv-python-headless==4.1.2.30\n",
    "!pip install -U git+https://github.com/albumentations-team/albumentations"
   ]
  },
  {
   "cell_type": "code",
   "execution_count": null,
   "metadata": {
    "id": "6_2ojeCHdr0i"
   },
   "outputs": [],
   "source": [
    "import ee\n",
    "import os\n",
    "import cv2\n",
    "import glob\n",
    "import os.path\n",
    "from pathlib import Path\n",
    "import re\n",
    "import splitfolders\n",
    "import albumentations as A\n",
    "import shutil"
   ]
  },
  {
   "cell_type": "code",
   "execution_count": null,
   "metadata": {
    "colab": {
     "base_uri": "https://localhost:8080/"
    },
    "id": "Bgqj3WUveOff",
    "outputId": "397eb3c9-de12-4899-f652-a4223d1a7354"
   },
   "outputs": [
    {
     "name": "stdout",
     "output_type": "stream",
     "text": [
      "To authorize access needed by Earth Engine, open the following URL in a web browser and follow the instructions. If the web browser does not start automatically, please manually browse the URL below.\n",
      "\n",
      "    https://accounts.google.com/o/oauth2/auth?client_id=517222506229-vsmmajv00ul0bs7p89v5m89qs8eb9359.apps.googleusercontent.com&scope=https%3A%2F%2Fwww.googleapis.com%2Fauth%2Fearthengine+https%3A%2F%2Fwww.googleapis.com%2Fauth%2Fdevstorage.full_control&redirect_uri=urn%3Aietf%3Awg%3Aoauth%3A2.0%3Aoob&response_type=code&code_challenge=LCFu8_a_FY2b25gpNq-MrwkRMIpsytO2q6zQaG8gUU4&code_challenge_method=S256\n",
      "\n",
      "The authorization workflow will generate a code, which you should paste in the box below. \n",
      "Enter verification code: 4/1AX4XfWiTd2aHu3qj1HjE1HC-o0DhhPKul8svMSG1X01jWKbD6x1fA1omv9M\n",
      "\n",
      "Successfully saved authorization token.\n"
     ]
    }
   ],
   "source": [
    " #authentication of google earth engine to access some files as example the local relief model\n",
    " ee.Authenticate()"
   ]
  },
  {
   "cell_type": "code",
   "execution_count": null,
   "metadata": {
    "id": "aP2yacFN1Mub"
   },
   "outputs": [],
   "source": [
    "#initialization of google earth engine\n",
    "ee.Initialize()"
   ]
  },
  {
   "cell_type": "code",
   "execution_count": null,
   "metadata": {
    "colab": {
     "base_uri": "https://localhost:8080/"
    },
    "id": "yOArYEmV1nkL",
    "outputId": "9646522e-bfc3-48bf-99c0-28e76b1198a2"
   },
   "outputs": [
    {
     "name": "stdout",
     "output_type": "stream",
     "text": [
      "{'type': 'Image', 'bands': [{'id': 'b1', 'data_type': {'type': 'PixelType', 'precision': 'int', 'min': 0, 'max': 255}, 'dimensions': [69977, 63086], 'crs': 'EPSG:3763', 'crs_transform': [1, 0, -63978.5, 0, -1, 277085.5]}, {'id': 'b2', 'data_type': {'type': 'PixelType', 'precision': 'int', 'min': 0, 'max': 255}, 'dimensions': [69977, 63086], 'crs': 'EPSG:3763', 'crs_transform': [1, 0, -63978.5, 0, -1, 277085.5]}, {'id': 'b3', 'data_type': {'type': 'PixelType', 'precision': 'int', 'min': 0, 'max': 255}, 'dimensions': [69977, 63086], 'crs': 'EPSG:3763', 'crs_transform': [1, 0, -63978.5, 0, -1, 277085.5]}, {'id': 'b4', 'data_type': {'type': 'PixelType', 'precision': 'int', 'min': 0, 'max': 255}, 'dimensions': [69977, 63086], 'crs': 'EPSG:3763', 'crs_transform': [1, 0, -63978.5, 0, -1, 277085.5]}], 'version': 1644944174622534, 'id': 'users/fabriziobotelho/tiff_files', 'properties': {'system:footprint': {'type': 'LinearRing', 'coordinates': [[-8.900443739793436, 41.59280407757193], [-8.90044180338187, 41.59280385023925], [-8.480817396294407, 41.594838764562155], [-8.061167116942713, 41.59534200832047], [-8.061161538647156, 41.595345654744534], [-8.061155460803226, 41.59534880654306], [-8.061155044512567, 41.595350273710004], [-8.06051504207768, 42.16332088621641], [-8.060520037521659, 42.16332502758297], [-8.060524200391905, 42.16332960206025], [-8.06052619856971, 42.16332991059971], [-8.48391004012601, 42.16281651864927], [-8.907265089013235, 42.16074094055795], [-8.907270646157128, 42.1607372165317], [-8.907276708496369, 42.160734126206265], [-8.907277129492169, 42.16073259760965], [-8.903840447829172, 41.87677945117696], [-8.90045291670106, 41.592812735655464], [-8.900447949383958, 41.592808662801836], [-8.900443739793436, 41.59280407757193]]}, 'system:asset_size': 9047609123}}\n"
     ]
    }
   ],
   "source": [
    "LRM = ee.Image('users/fabriziobotelho/tiff_files')\n",
    "geometry = LRM.geometry()\n",
    "lrm_info = LRM.getInfo()\n",
    "print(lrm_info) #debug\n",
    "\n",
    "#geo-coordinates of upper left and lower right corners of LRM image\n",
    "upper_left = [-8.907277129492169,42.16335245423417]\n",
    "lower_right = [-8.06051504207768,41.59280385023923]\n",
    "\n",
    "points = ee.Geometry.MultiPoint([upper_left, lower_right])\n"
   ]
  },
  {
   "cell_type": "code",
   "execution_count": null,
   "metadata": {
    "id": "ZBUFWsgTVLPh"
   },
   "outputs": [],
   "source": [
    "from google.colab import drive\n",
    "drive.mount('/content/drive')"
   ]
  },
  {
   "cell_type": "code",
   "execution_count": null,
   "metadata": {
    "id": "kUucvuje2m_r"
   },
   "outputs": [],
   "source": [
    "#this function gets the dimention in pixel of LRM image\n",
    "def getDimentionsImage(img):\n",
    "  imgDescription = ee.Algorithms.Describe(img)\n",
    "  w = ee.List(ee.Dictionary(ee.List(ee.Dictionary(imgDescription).get(\"bands\")).get(0)).get(\"dimensions\")).get(0)\n",
    "  w = w.getInfo()\n",
    "  h = ee.List(ee.Dictionary(ee.List(ee.Dictionary(imgDescription).get(\"bands\")).get(0)).get(\"dimensions\")).get(1)\n",
    "  h = h.getInfo()\n",
    "\n",
    "  return w, h"
   ]
  },
  {
   "cell_type": "code",
   "execution_count": null,
   "metadata": {
    "colab": {
     "base_uri": "https://localhost:8080/"
    },
    "id": "6IJPcPO428iH",
    "outputId": "53c3d071-c9ba-40ec-8a49-dc0985a14035"
   },
   "outputs": [
    {
     "name": "stdout",
     "output_type": "stream",
     "text": [
      "width: 69977 height: 63086\n"
     ]
    }
   ],
   "source": [
    "width, height = getDimentionsImage(LRM)\n",
    "\n",
    "print('width:', width, 'height:', height)"
   ]
  },
  {
   "cell_type": "code",
   "execution_count": null,
   "metadata": {
    "colab": {
     "base_uri": "https://localhost:8080/"
    },
    "id": "uhft1mAp4NV7",
    "outputId": "1100eaca-3485-4c1e-8f8e-942c7f1e650a"
   },
   "outputs": [
    {
     "name": "stdout",
     "output_type": "stream",
     "text": [
      "m1: 82639.5052873298 b1: 736092.9754383798\n",
      "m2: -110569.01998932785 b2: 4661960.560329294\n"
     ]
    }
   ],
   "source": [
    "x_geo1 = upper_left[0]\n",
    "y_geo1 = upper_left[1]\n",
    "x_geo2 = lower_right[0]\n",
    "y_geo2 = lower_right[1]\n",
    "\n",
    "x1 = 0;\n",
    "y1 = 0;\n",
    "x2 = width - 1 \n",
    "y2 = height - 1\n",
    "\n",
    "#equations to convert geo-coordinates to pixel coordinates\n",
    "#x = x_geo * m1 + b1\n",
    "#y = y_geo * m2 + b2\n",
    "\n",
    "m1 = (x1 - x2)/(x_geo1 - x_geo2)\n",
    "b1 = x1 - x_geo1 * m1\n",
    "print('m1:', m1, 'b1:', b1)\n",
    "\n",
    "m2 = (y1 - y2)/(y_geo1 - y_geo2)\n",
    "b2 = y1 - y_geo1 * m2\n",
    "print('m2:', m2, 'b2:', b2)"
   ]
  },
  {
   "cell_type": "code",
   "execution_count": null,
   "metadata": {
    "id": "kPxLU-501_iT"
   },
   "outputs": [],
   "source": [
    "#this function uses the equations before obtained to convert a geo-coordinate to pixel coordinate\n",
    "def convert_GeoCoord_to_PixelCoord(geocoordinate, m1, m2, b1, b2):\n",
    "  x_geo = geocoordinate[0]\n",
    "  y_geo = geocoordinate[1]\n",
    "  x = round(x_geo * m1 + b1)\n",
    "  y = round(y_geo * m2 + b2)\n",
    "  \n",
    "  return x, y"
   ]
  },
  {
   "cell_type": "code",
   "execution_count": null,
   "metadata": {
    "colab": {
     "base_uri": "https://localhost:8080/"
    },
    "id": "54eO73Dk6tiT",
    "outputId": "248cb626-575a-45c6-fa81-c52e4f920b34"
   },
   "outputs": [
    {
     "name": "stdout",
     "output_type": "stream",
     "text": [
      "upper_left_pixels: (0, 0)\n",
      "lower_right_pixels: (69976, 63085)\n"
     ]
    }
   ],
   "source": [
    "#check the minimum and maximum coordinate of LRM image\n",
    "print('upper_left_pixels:', convert_GeoCoord_to_PixelCoord(upper_left, m1, m2, b1, b2))\n",
    "print('lower_right_pixels:', convert_GeoCoord_to_PixelCoord(lower_right, m1, m2, b1, b2))"
   ]
  },
  {
   "cell_type": "code",
   "execution_count": null,
   "metadata": {
    "colab": {
     "base_uri": "https://localhost:8080/"
    },
    "id": "H39G5ftR68NW",
    "outputId": "304b1a13-6e3d-4885-f592-bd5ac686afbf"
   },
   "outputs": [
    {
     "name": "stdout",
     "output_type": "stream",
     "text": [
      "Mamoas arcos coordinates: [[-8.443945496150414, 41.96002943539938], [-8.444422619963133, 41.95940962035295], [-8.445746972976004, 41.959075187773934], [-8.447164967111004, 41.95924463361397], [-8.392549897408395, 41.8905655591888], [-8.275476199250173, 41.97359402080396], [-8.270892243367232, 41.97545346594325], [-8.270575647192437, 41.97586816234122], [-8.269228998674299, 41.976938346594046], [-8.262134568898265, 41.99370010745395], [-8.261929450249806, 41.99408359014454], [-8.317177712302, 41.877424588384294], [-8.485071785166344, 41.84396795318029], [-8.418876430027941, 41.81337851995365], [-8.300126109873624, 41.87799089421808], [-8.300607692787395, 41.8513611427269], [-8.31359259505503, 41.87844572252554], [-8.317592408699971, 41.88951767044124], [-8.24084236136806, 42.008954692157786], [-8.24111436653232, 42.00840622272821], [-8.240793311256473, 42.010274586069606], [-8.240815606761739, 42.01068036426547], [-8.333658549795539, 41.948498200075164], [-8.500607293236548, 41.94226437680245], [-8.494761411755483, 41.82852608623221], [-8.350469360767027, 41.837141069467464], [-8.366062837150928, 41.92465092764134], [-8.366062837150928, 41.924802537077156], [-8.318849875197046, 41.87759403422433], [-8.388086337253895, 41.90367977538698], [-8.289232526000056, 41.94531440192301], [-8.455182430805095, 41.83820233551818], [-8.313383017305519, 41.879426724757295], [-8.313146684949688, 41.8798860121658], [-8.312482278892722, 41.88004653980372], [-8.31304858472651, 41.880077753511095], [-8.314310510324633, 41.87777685736751], [-8.313168980454952, 41.87716596052319], [-8.312602674621164, 41.880412186090105], [-8.283952950352775, 41.96563898452462], [-8.284693161127647, 41.966071517326796], [-8.290592551821357, 41.944440418116535], [-8.289972736774928, 41.94470796417974], [-8.292492128870125, 41.9456978846136], [-8.292358355838521, 41.94636674977162], [-8.291662736074183, 41.946812659876954], [-8.291252498777267, 41.94702223762648], [-8.290142182614957, 41.94766434817817], [-8.288750943086283, 41.94671455965379], [-8.288799993197872, 41.95161065261047], [-8.319376049121349, 41.839165501345725]]\n",
      "length: 51\n",
      "Mamoas laboreiro coordinates: [[-8.092653056058893, 42.041849480629054], [-8.10168273569212, 42.055779712320025], [-8.105950095400269, 42.06719501101684], [-8.10588766798552, 42.067342161351604], [-8.11414146403545, 42.05331382943747], [-8.09988125886653, 42.05490126941249], [-8.135045729774003, 42.044373331825305], [-8.101540044458412, 42.05582876243161], [-8.090931843052264, 42.04254064129235], [-8.112210673279309, 42.071903821729286], [-8.096577064985926, 42.07226054981356], [-8.096577064985926, 42.07226946801566], [-8.11822154149935, 42.07073553725328], [-8.084541951242675, 42.04506449248859], [-8.084528573939515, 42.04507341069069], [-8.105816322368668, 42.06838559099812], [-8.096492342065911, 42.07145791162394], [-8.10310072982712, 42.03975370313393], [-8.072043090989865, 42.04781129873752], [-8.099533448984358, 42.071725457687144], [-8.068743356210314, 42.060167467756614], [-8.102592392307026, 42.072630655200996], [-8.081411662303157, 42.038429350121056], [-8.099457644266451, 42.07189490352718], [-8.096496801166966, 42.061803957843225], [-8.108835133781849, 42.06357422096144], [-8.096264927912184, 42.071979626447195], [-8.139553880939037, 42.07392379450649], [-8.108795001872366, 42.05701934241287], [-8.117873731617184, 42.07082026017329], [-8.11178705867923, 42.063382479616145], [-8.139473617120077, 42.07423593158023], [-8.121061988870398, 42.06309263804767], [-8.102628065115452, 42.05371960763333], [-8.080800765458834, 42.05984195337971], [-8.077888972470934, 42.044730059909575], [-8.102324846243818, 42.06410039488575], [-8.080979129500973, 42.03826436338208], [-8.12393810904987, 42.05605171748428], [-8.096046431960566, 42.055115306263055], [-8.12361259467297, 42.06290535580343], [-8.119987345516515, 42.08031368631608], [-8.095355271297281, 42.0714133206134], [-8.089643162847818, 42.034781805459346], [-8.064498292007436, 42.057104065332894], [-8.110685660719026, 42.072153531388274], [-8.092100127528266, 42.073451129794826], [-8.092238359660925, 42.061103878977846], [-8.06443586459269, 42.05651100489279], [-8.129302407617166, 42.062370263677025], [-8.110538510384265, 42.07213569498407], [-8.095029756920383, 42.07207772667037], [-8.098365164508357, 42.052604832369965], [-8.11042703285793, 42.072447832057804], [-8.116736660848554, 42.06279833737815], [-8.091796908656631, 42.07350017990642], [-8.082628996890747, 42.062709155357076], [-8.10105846154464, 42.07154709364501], [-8.095078807031967, 42.05591794445268], [-8.089183875439312, 42.03549972072894], [-8.116593969614845, 42.06265118704338], [-8.129182011888721, 42.046192645055115], [-8.119563730916441, 42.06983479884048], [-8.097821154179837, 42.07158276645343], [-8.092073372921945, 42.03208404932201], [-8.11937198957114, 42.069995326478406], [-8.109976663651532, 42.06387298073203], [-8.072827892775273, 42.06025219067663], [-8.085045829661714, 42.07047690939218], [-8.1160811729937, 42.06216068592751], [-8.119019720587918, 42.07069540534379], [-8.106659092467767, 42.06456414139531], [-8.118917161263688, 42.07030746355215], [-8.112701174395184, 42.071582766453425], [-8.109517376243026, 42.0725147185736], [-8.082053772854854, 42.04566647113081], [-8.082254432402257, 42.02836515904344], [-8.078923483915332, 42.04319167004614], [-8.131090507139596, 42.07129292488496], [-8.1063781691014, 42.0680511584191], [-8.103212207353453, 42.07321925654004], [-8.115800249627332, 42.05645749568014], [-8.091346539450234, 42.03301154234113], [-8.10316761634292, 42.063609893769865], [-8.103292471172416, 42.054526704924]]\n",
      "length: 85\n"
     ]
    }
   ],
   "source": [
    "#read the shape files witch contains the geo-coordinates of archaeological objects\n",
    "shape_arcos = ee.FeatureCollection('users/fabriziobotelho/MamoasArcos')\n",
    "shape_arcos = shape_arcos.geometry()\n",
    "coordinates_arcos = shape_arcos.coordinates().getInfo()\n",
    "\n",
    "shape_lab = ee.FeatureCollection('users/fabriziobotelho/MamoasLaboreiro')\n",
    "shape_lab = shape_lab.geometry();\n",
    "coordinates_lab = shape_lab.coordinates().getInfo()\n",
    "\n",
    "print('Mamoas arcos coordinates:', coordinates_arcos)\n",
    "print('length:', len(coordinates_arcos))\n",
    "print('Mamoas laboreiro coordinates:', coordinates_lab)\n",
    "print('length:', len(coordinates_lab))"
   ]
  },
  {
   "cell_type": "code",
   "execution_count": null,
   "metadata": {
    "id": "bdI-j4m89HxK"
   },
   "outputs": [],
   "source": [
    "#this function is the inverse of the previous function, with it we can get the geo-coordinates that corresponds to the pixel coordinates\n",
    "def convert_PixelCoord_to_GeoCoord(pixelcoordinate, m1, m2, b1, b2):\n",
    "  x = pixelcoordinate[0]\n",
    "  y = pixelcoordinate[1]\n",
    "  x_geo = (x - b1)/m1\n",
    "  y_geo = (y - b2)/m2\n",
    "  \n",
    "  return x_geo, y_geo"
   ]
  },
  {
   "cell_type": "code",
   "execution_count": null,
   "metadata": {
    "colab": {
     "base_uri": "https://localhost:8080/"
    },
    "id": "94134UmYlyus",
    "outputId": "3757f02f-5428-41be-e284-c1ee89f78548"
   },
   "outputs": [
    {
     "name": "stdout",
     "output_type": "stream",
     "text": [
      "(-8.907277129492169, 42.16335245423417)\n",
      "(-8.06051504207768, 41.592794806114576)\n"
     ]
    }
   ],
   "source": [
    "#check if the previous functions works correctly\n",
    "print(convert_PixelCoord_to_GeoCoord((0,0), m1, m2, b1, b2))\n",
    "print(convert_PixelCoord_to_GeoCoord((69976,63086), m1, m2, b1, b2))"
   ]
  },
  {
   "cell_type": "code",
   "execution_count": null,
   "metadata": {
    "colab": {
     "base_uri": "https://localhost:8080/"
    },
    "id": "K22vMNqS974r",
    "outputId": "4599285e-f6e9-41bf-d684-5cc1826df0d8"
   },
   "outputs": [
    {
     "name": "stdout",
     "output_type": "stream",
     "text": [
      "(0, 0)\n",
      "(69976, 63085)\n"
     ]
    }
   ],
   "source": [
    "#example to verify if works correctly\n",
    "upper_left = [-8.907277129492169,42.16335245423417]\n",
    "lower_right = [-8.06051504207768,41.59280385023923]\n",
    "\n",
    "values = convert_GeoCoord_to_PixelCoord(upper_left, m1, m2, b1, b2)\n",
    "print(values)\n",
    "values = convert_GeoCoord_to_PixelCoord(lower_right, m1, m2, b1, b2)\n",
    "print(values)\n"
   ]
  },
  {
   "cell_type": "code",
   "execution_count": 1,
   "metadata": {
    "colab": {
     "base_uri": "https://localhost:8080/"
    },
    "id": "YFhzPC4T-h1a",
    "outputId": "9c0995c6-5917-42d9-a711-65d3f11d2abd"
   },
   "outputs": [
    {
     "ename": "NameError",
     "evalue": "name 'ee' is not defined",
     "output_type": "error",
     "traceback": [
      "\u001b[1;31m---------------------------------------------------------------------------\u001b[0m",
      "\u001b[1;31mNameError\u001b[0m                                 Traceback (most recent call last)",
      "\u001b[1;32m~\\AppData\\Local\\Temp\\ipykernel_124\\4270153323.py\u001b[0m in \u001b[0;36m<module>\u001b[1;34m\u001b[0m\n\u001b[0;32m      3\u001b[0m \u001b[0mresolution\u001b[0m \u001b[1;33m=\u001b[0m \u001b[1;36m100000\u001b[0m\u001b[1;33m\u001b[0m\u001b[1;33m\u001b[0m\u001b[0m\n\u001b[0;32m      4\u001b[0m \u001b[1;33m\u001b[0m\u001b[0m\n\u001b[1;32m----> 5\u001b[1;33m \u001b[0mnumber_y_points\u001b[0m \u001b[1;33m=\u001b[0m \u001b[0mee\u001b[0m\u001b[1;33m.\u001b[0m\u001b[0mNumber\u001b[0m\u001b[1;33m(\u001b[0m\u001b[0mheight\u001b[0m\u001b[1;33m)\u001b[0m\u001b[1;33m.\u001b[0m\u001b[0mdivide\u001b[0m\u001b[1;33m(\u001b[0m\u001b[0mresolution\u001b[0m\u001b[1;33m)\u001b[0m\u001b[1;33m.\u001b[0m\u001b[0mround\u001b[0m\u001b[1;33m(\u001b[0m\u001b[1;33m)\u001b[0m\u001b[1;33m.\u001b[0m\u001b[0madd\u001b[0m\u001b[1;33m(\u001b[0m\u001b[1;36m1\u001b[0m\u001b[1;33m)\u001b[0m\u001b[1;33m\u001b[0m\u001b[1;33m\u001b[0m\u001b[0m\n\u001b[0m\u001b[0;32m      6\u001b[0m \u001b[0mnumberColumns\u001b[0m \u001b[1;33m=\u001b[0m \u001b[0mround\u001b[0m\u001b[1;33m(\u001b[0m\u001b[1;33m(\u001b[0m\u001b[0mwidth\u001b[0m \u001b[1;33m+\u001b[0m \u001b[1;36m1\u001b[0m\u001b[1;33m)\u001b[0m \u001b[1;33m/\u001b[0m \u001b[0mresolution\u001b[0m\u001b[1;33m)\u001b[0m\u001b[1;33m\u001b[0m\u001b[1;33m\u001b[0m\u001b[0m\n\u001b[0;32m      7\u001b[0m \u001b[0mnumberRows\u001b[0m \u001b[1;33m=\u001b[0m \u001b[0mround\u001b[0m\u001b[1;33m(\u001b[0m\u001b[1;33m(\u001b[0m\u001b[0mheight\u001b[0m \u001b[1;33m+\u001b[0m \u001b[1;36m1\u001b[0m\u001b[1;33m)\u001b[0m\u001b[1;33m/\u001b[0m \u001b[0mresolution\u001b[0m\u001b[1;33m)\u001b[0m\u001b[1;33m\u001b[0m\u001b[1;33m\u001b[0m\u001b[0m\n",
      "\u001b[1;31mNameError\u001b[0m: name 'ee' is not defined"
     ]
    }
   ],
   "source": [
    "#initialy the resolution was 640 by 640 pixels, but the objective is get the images with less archaeological objects. So the resolution used is 320 pixels\n",
    "#and allow get more images that is good\n",
    "resolution = 320\n",
    "\n",
    "number_y_points = ee.Number(height).divide(resolution).round().add(1)\n",
    "numberColumns = round((width + 1) / resolution)\n",
    "numberRows = round((height + 1)/ resolution)\n",
    "print('numberColumns, n_y_points:', numberColumns, numberRows)"
   ]
  },
  {
   "cell_type": "code",
   "execution_count": null,
   "metadata": {
    "colab": {
     "base_uri": "https://localhost:8080/"
    },
    "id": "8DOHb7CSARGB",
    "outputId": "85e7f8d2-e6ef-483c-b2d7-366ab8f475dd"
   },
   "outputs": [
    {
     "name": "stdout",
     "output_type": "stream",
     "text": [
      "geo coordinates: [[-8.443945496150414, 41.96002943539938], [-8.444422619963133, 41.95940962035295], [-8.445746972976004, 41.959075187773934], [-8.447164967111004, 41.95924463361397], [-8.392549897408395, 41.8905655591888], [-8.275476199250173, 41.97359402080396], [-8.270892243367232, 41.97545346594325], [-8.270575647192437, 41.97586816234122], [-8.269228998674299, 41.976938346594046], [-8.262134568898265, 41.99370010745395], [-8.261929450249806, 41.99408359014454], [-8.317177712302, 41.877424588384294], [-8.485071785166344, 41.84396795318029], [-8.418876430027941, 41.81337851995365], [-8.300126109873624, 41.87799089421808], [-8.300607692787395, 41.8513611427269], [-8.31359259505503, 41.87844572252554], [-8.317592408699971, 41.88951767044124], [-8.24084236136806, 42.008954692157786], [-8.24111436653232, 42.00840622272821], [-8.240793311256473, 42.010274586069606], [-8.240815606761739, 42.01068036426547], [-8.333658549795539, 41.948498200075164], [-8.500607293236548, 41.94226437680245], [-8.494761411755483, 41.82852608623221], [-8.350469360767027, 41.837141069467464], [-8.366062837150928, 41.92465092764134], [-8.366062837150928, 41.924802537077156], [-8.318849875197046, 41.87759403422433], [-8.388086337253895, 41.90367977538698], [-8.289232526000056, 41.94531440192301], [-8.455182430805095, 41.83820233551818], [-8.313383017305519, 41.879426724757295], [-8.313146684949688, 41.8798860121658], [-8.312482278892722, 41.88004653980372], [-8.31304858472651, 41.880077753511095], [-8.314310510324633, 41.87777685736751], [-8.313168980454952, 41.87716596052319], [-8.312602674621164, 41.880412186090105], [-8.283952950352775, 41.96563898452462], [-8.284693161127647, 41.966071517326796], [-8.290592551821357, 41.944440418116535], [-8.289972736774928, 41.94470796417974], [-8.292492128870125, 41.9456978846136], [-8.292358355838521, 41.94636674977162], [-8.291662736074183, 41.946812659876954], [-8.291252498777267, 41.94702223762648], [-8.290142182614957, 41.94766434817817], [-8.288750943086283, 41.94671455965379], [-8.288799993197872, 41.95161065261047], [-8.319376049121349, 41.839165501345725]]\n",
      "pixel_coordinates: [(38289, 22481), (38250, 22550), (38141, 22587), (38023, 22568), (42537, 30162), (52212, 20981), (52591, 20776), (52617, 20730), (52728, 20612), (53314, 18758), (53331, 18716), (48766, 31615), (34891, 35314), (40361, 38696), (50175, 31552), (50135, 34497), (49062, 31502), (48731, 30278), (55074, 17072), (55051, 17132), (55078, 16926), (55076, 16881), (47404, 23756), (33607, 24445), (34090, 37021), (46014, 36069), (44726, 26393), (44726, 26376), (48627, 31596), (42906, 28712), (51075, 24108), (37361, 35952), (49079, 31393), (49099, 31343), (49154, 31325), (49107, 31321), (49002, 31576), (49097, 31643), (49144, 31284), (51511, 21861), (51450, 21813), (50963, 24205), (51014, 24175), (50806, 24066), (50817, 23992), (50874, 23943), (50908, 23919), (51000, 23848), (51115, 23953), (51111, 23412), (48584, 35845)]\n",
      "length: 51\n",
      "geo coordinates: [[-8.092653056058893, 42.041849480629054], [-8.10168273569212, 42.055779712320025], [-8.105950095400269, 42.06719501101684], [-8.10588766798552, 42.067342161351604], [-8.11414146403545, 42.05331382943747], [-8.09988125886653, 42.05490126941249], [-8.135045729774003, 42.044373331825305], [-8.101540044458412, 42.05582876243161], [-8.090931843052264, 42.04254064129235], [-8.112210673279309, 42.071903821729286], [-8.096577064985926, 42.07226054981356], [-8.096577064985926, 42.07226946801566], [-8.11822154149935, 42.07073553725328], [-8.084541951242675, 42.04506449248859], [-8.084528573939515, 42.04507341069069], [-8.105816322368668, 42.06838559099812], [-8.096492342065911, 42.07145791162394], [-8.10310072982712, 42.03975370313393], [-8.072043090989865, 42.04781129873752], [-8.099533448984358, 42.071725457687144], [-8.068743356210314, 42.060167467756614], [-8.102592392307026, 42.072630655200996], [-8.081411662303157, 42.038429350121056], [-8.099457644266451, 42.07189490352718], [-8.096496801166966, 42.061803957843225], [-8.108835133781849, 42.06357422096144], [-8.096264927912184, 42.071979626447195], [-8.139553880939037, 42.07392379450649], [-8.108795001872366, 42.05701934241287], [-8.117873731617184, 42.07082026017329], [-8.11178705867923, 42.063382479616145], [-8.139473617120077, 42.07423593158023], [-8.121061988870398, 42.06309263804767], [-8.102628065115452, 42.05371960763333], [-8.080800765458834, 42.05984195337971], [-8.077888972470934, 42.044730059909575], [-8.102324846243818, 42.06410039488575], [-8.080979129500973, 42.03826436338208], [-8.12393810904987, 42.05605171748428], [-8.096046431960566, 42.055115306263055], [-8.12361259467297, 42.06290535580343], [-8.119987345516515, 42.08031368631608], [-8.095355271297281, 42.0714133206134], [-8.089643162847818, 42.034781805459346], [-8.064498292007436, 42.057104065332894], [-8.110685660719026, 42.072153531388274], [-8.092100127528266, 42.073451129794826], [-8.092238359660925, 42.061103878977846], [-8.06443586459269, 42.05651100489279], [-8.129302407617166, 42.062370263677025], [-8.110538510384265, 42.07213569498407], [-8.095029756920383, 42.07207772667037], [-8.098365164508357, 42.052604832369965], [-8.11042703285793, 42.072447832057804], [-8.116736660848554, 42.06279833737815], [-8.091796908656631, 42.07350017990642], [-8.082628996890747, 42.062709155357076], [-8.10105846154464, 42.07154709364501], [-8.095078807031967, 42.05591794445268], [-8.089183875439312, 42.03549972072894], [-8.116593969614845, 42.06265118704338], [-8.129182011888721, 42.046192645055115], [-8.119563730916441, 42.06983479884048], [-8.097821154179837, 42.07158276645343], [-8.092073372921945, 42.03208404932201], [-8.11937198957114, 42.069995326478406], [-8.109976663651532, 42.06387298073203], [-8.072827892775273, 42.06025219067663], [-8.085045829661714, 42.07047690939218], [-8.1160811729937, 42.06216068592751], [-8.119019720587918, 42.07069540534379], [-8.106659092467767, 42.06456414139531], [-8.118917161263688, 42.07030746355215], [-8.112701174395184, 42.071582766453425], [-8.109517376243026, 42.0725147185736], [-8.082053772854854, 42.04566647113081], [-8.082254432402257, 42.02836515904344], [-8.078923483915332, 42.04319167004614], [-8.131090507139596, 42.07129292488496], [-8.1063781691014, 42.0680511584191], [-8.103212207353453, 42.07321925654004], [-8.115800249627332, 42.05645749568014], [-8.091346539450234, 42.03301154234113], [-8.10316761634292, 42.063609893769865], [-8.103292471172416, 42.054526704924]]\n",
      "pixel_coordinates: [(67320, 13434), (66574, 11894), (66221, 10632), (66226, 10616), (65544, 12167), (66723, 11991), (63817, 13155), (66586, 11889), (67462, 13358), (65704, 10111), (66996, 10072), (66996, 10071), (65207, 10241), (67990, 13079), (67992, 13078), (66232, 10500), (67003, 10161), (66457, 13666), (69023, 12775), (66752, 10131), (69296, 11409), (66499, 10031), (68249, 13813), (66758, 10112), (67002, 11228), (65983, 11032), (67022, 10103), (63444, 9888), (65986, 11757), (65236, 10231), (65739, 11054), (63451, 9854), (64972, 11086), (66496, 12122), (68300, 11445), (68540, 13116), (66521, 10974), (68285, 13831), (64735, 11864), (67040, 11968), (64762, 11106), (65061, 9182), (67097, 10166), (67569, 14216), (69647, 11748), (65830, 10084), (67366, 9940), (67354, 11306), (69652, 11813), (64291, 11166), (65842, 10086), (67124, 10092), (66848, 12245), (65851, 10051), (65330, 11118), (67391, 9935), (68149, 11128), (66626, 10151), (67120, 11879), (67607, 14137), (65342, 11134), (64301, 12954), (65096, 10340), (66893, 10147), (67368, 14514), (65112, 10322), (65889, 10999), (68958, 11400), (67949, 10269), (65384, 11189), (65141, 10245), (66163, 10923), (65150, 10288), (65663, 10147), (65926, 10044), (68196, 13012), (68179, 14925), (68455, 13286), (64144, 10179), (66186, 10537), (66448, 9966), (65407, 11819), (67428, 14412), (66451, 11028), (66441, 12033)]\n",
      "length: 85\n"
     ]
    }
   ],
   "source": [
    "arcos_pixel = []\n",
    "lab_pixel = []\n",
    "\n",
    "#for loops to convert the coordinates of archaeological objets to pixels coordinates\n",
    "for i in coordinates_arcos:\n",
    "  arcos_pixel.append(convert_GeoCoord_to_PixelCoord(i, m1, m2, b1, b2))\n",
    "\n",
    "print('geo coordinates:', coordinates_arcos)\n",
    "print('pixel_coordinates:', arcos_pixel) \n",
    "print('length:', len(arcos_pixel))\n",
    "\n",
    "for i in coordinates_lab:\n",
    "  lab_pixel.append(convert_GeoCoord_to_PixelCoord(i, m1, m2, b1, b2))\n",
    "\n",
    "print('geo coordinates:', coordinates_lab)\n",
    "print('pixel_coordinates:', lab_pixel) \n",
    "print('length:', len(lab_pixel))  "
   ]
  },
  {
   "cell_type": "code",
   "execution_count": null,
   "metadata": {
    "id": "X4esaOhC-_iE"
   },
   "outputs": [],
   "source": [
    "#this function counts the number of archaeological objects inside the block image, and we just want the images with this objects\n",
    "def CountNumberOfMamoas(Xmin, Ymin, Xmax, Ymax):\n",
    "  count = 0\n",
    "  arr1 = []\n",
    "  arr2 = []\n",
    "  center = []\n",
    "\n",
    "  #read mamoas of arcos (51 mamoas)\n",
    "  for i in arcos_pixel:\n",
    "    x = i[0]\n",
    "    y = i[1]\n",
    "\n",
    "    if x >= Xmin and x <= Xmax and y >= Ymin and y <= Ymax:\n",
    "      count = count + 1\n",
    "      arr1.append((x - Xmin))\n",
    "      arr2.append((y - Ymin))\n",
    "      center = list(zip(arr1, arr2))\n",
    "\n",
    "  #read mamoas of laboreiro (85 mamoas)\n",
    "  for i in lab_pixel:\n",
    "    x = i[0]\n",
    "    y = i[1]\n",
    "    if x >= Xmin and x <= Xmax and y >= Ymin and y <= Ymax:\n",
    "      count = count + 1\n",
    "      arr1.append((x - Xmin))\n",
    "      arr2.append((y - Ymin))\n",
    "      center = list(zip(arr1, arr2))\n",
    "\n",
    "  return count, center"
   ]
  },
  {
   "cell_type": "code",
   "execution_count": null,
   "metadata": {
    "colab": {
     "base_uri": "https://localhost:8080/"
    },
    "id": "NezfbkKMQBEY",
    "outputId": "f94d01cc-beb4-4201-957e-3176a4e8ca40"
   },
   "outputs": [
    {
     "name": "stdout",
     "output_type": "stream",
     "text": [
      "136\n"
     ]
    }
   ],
   "source": [
    "#just to check and debug\n",
    "n, c = CountNumberOfMamoas(0, 0, 70000, 70000)\n",
    "print(n)"
   ]
  },
  {
   "cell_type": "code",
   "execution_count": null,
   "metadata": {
    "id": "Il86-ULSFG7p"
   },
   "outputs": [],
   "source": [
    "#In this part of code is constructed a block that will go through the LRM image and crop/export the image inside that block \n",
    "#if the number of archaelogical objects is greater than zero\n",
    "#so the images cropped has the 320x320 of dimension and the scale used was 1 meter by pixel, that means each image corresponds to 320 x 320 meters on terrain\n",
    "\n",
    "#initialize parameters\n",
    "x11 = 0\n",
    "x12 = 0\n",
    "x21 = resolution\n",
    "x22 = 0\n",
    "x31 = resolution\n",
    "x32 = resolution\n",
    "x41 = 0\n",
    "x42 = resolution\n",
    "\n",
    "i = 0\n",
    "j = 0\n",
    "k = 0\n",
    "allPoints = []\n",
    "\n",
    "while i < numberRows:\n",
    "  while j < numberColumns:\n",
    "\n",
    "    x1 = convert_PixelCoord_to_GeoCoord([x11, x12], m1, m2, b1, b2)\n",
    "    x2 = convert_PixelCoord_to_GeoCoord([x21, x22], m1, m2, b1, b2)\n",
    "    x3 = convert_PixelCoord_to_GeoCoord([x31, x32], m1, m2, b1, b2)\n",
    "    x4 = convert_PixelCoord_to_GeoCoord([x41, x42], m1, m2, b1, b2)\n",
    "\n",
    "    nMamoas, centerPoint = CountNumberOfMamoas(x11, x12, x31, x32)\n",
    "\n",
    "    block = ee.Geometry.Polygon([[x1[0], x1[1]], [x2[0], x2[1]], [x3[0], x3[1]], [x4[0], x4[1]]])\n",
    "\n",
    "\n",
    "    if nMamoas > 0:\n",
    "      #print('Image: ' + str(k) + ' has ' + str(nMamoas) + ' mamoas')\n",
    "      #task = ee.batch.Export.image.toDrive(**{\n",
    "        #'image': LRM,\n",
    "        #'description': str(k) + \"_\" + str(nMamoas),\n",
    "        #'folder': 'dataset_mamoas_res_320',\n",
    "        #'scale': 1, #1m/px\n",
    "        #'region': block\n",
    "        #})\n",
    "      img = cv2.imread(\"/content/drive/MyDrive/dataset_mamoas_res_320/\" + str(k) + \"_\" + str(nMamoas) + \".tif\")\n",
    "\n",
    "      k = k + 1\n",
    "      #task.start()\n",
    "\n",
    "      for point in centerPoint:\n",
    "        img = cv2.circle(img, point, radius = 2, color = (0, 255, 0), thickness = -1)\n",
    "        xmin = point[0] - 10\n",
    "        xmax = point[0] + 10\n",
    "        ymin = point[1] - 10\n",
    "        ymax = point[1] + 10\n",
    "        img = cv2.rectangle(img, (xmin, ymin), (xmax, ymax), (0, 255, 0), 1)\n",
    "        cv2.imwrite(\"/content/drive/MyDrive/dataset_mamos_res_320_check/\" + str(k) + \".tif\", img)\n",
    "        \n",
    "      allPoints.append(centerPoint)\n",
    "\n",
    "    x11 = x21\n",
    "    x12 = x22\n",
    "    x21 = x21 + resolution\n",
    "    x22 = x22\n",
    "    x41 = x31\n",
    "    x42 = x42 \n",
    "    x31 = x31 + resolution\n",
    "    x32 = x32\n",
    "\n",
    "    j = j + 1\n",
    "  \n",
    "  x11 = 0\n",
    "  x21 = 0\n",
    "  x41 = 0\n",
    "  x31 = 0\n",
    "\n",
    "  x12 = x12 + resolution\n",
    "  x22 = x22 + resolution\n",
    "  x42 = x42 + resolution\n",
    "  x32 = x32 + resolution\n",
    "  j = 0\n",
    "  i = i + 1\n"
   ]
  },
  {
   "cell_type": "code",
   "execution_count": null,
   "metadata": {
    "colab": {
     "base_uri": "https://localhost:8080/"
    },
    "id": "U8KZhwg6Y4Tu",
    "outputId": "239b7f30-edf5-48c2-d1ac-e0baa177f033"
   },
   "outputs": [
    {
     "name": "stdout",
     "output_type": "stream",
     "text": [
      "[[(101, 222)], [(84, 288), (91, 254)], [(144, 259)], [(276, 311)], [(104, 191), (230, 164), (242, 166), (251, 131), (63, 227)], [(6, 124)], [(259, 111), (208, 46)], [(192, 211), (198, 192), (66, 231)], [(116, 152), (116, 151), (123, 241), (142, 183), (217, 246), (244, 172), (13, 227)], [(166, 20), (191, 15)], [(247, 1), (136, 100), (152, 82), (181, 5), (190, 48)], [(312, 260), (266, 297)], [(109, 29)], [(301, 72), (306, 56)], [(291, 286)], [(122, 226)], [(12, 206)], [(50, 238), (62, 254), (104, 309)], [(139, 174), (289, 119)], [(63, 152), (243, 43)], [(281, 94), (211, 148)], [(309, 248)], [(122, 28)], [(154, 106)], [(140, 245)], [(158, 200)], [(176, 209)], [(127, 299)], [(66, 237)], [(207, 228), (212, 293)], [(95, 24)], [(256, 282), (201, 193)], [(14, 54), (163, 151), (26, 49)], [(160, 128), (240, 39)], [(264, 7)], [(288, 85)], [(223, 295)], [(301, 154)], [(150, 279), (152, 278)], [(36, 212)], [(60, 316)], [(137, 35)], [(120, 314), (262, 238)], [(295, 166)], [(217, 226)], [(89, 53), (125, 71)], [(49, 136), (87, 57)], [(168, 114), (228, 12)], [(19, 205)], [(38, 286), (36, 241)], [(34, 112), (11, 172)], [(194, 198), (211, 156)], [(111, 296), (137, 250), (248, 132)], [(52, 181)], [(311, 101), (250, 53)], [(263, 168)], [(209, 81), (170, 150), (61, 187)], [(231, 52)], [(44, 76)], [(257, 312), (314, 263)], [(28, 239), (120, 168), (235, 273)], [(246, 66)], [(195, 108), (83, 205), (134, 175)], [(7, 125)], [(246, 153), (246, 136)], [(26, 232)], [(297, 82)], [(91, 198)], [(139, 303), (194, 285), (147, 281), (184, 244)], [(307, 236)], [(126, 255)], [(102, 142), (119, 33), (42, 216), (137, 283)], [(255, 192)], [(215, 257)], [(11, 114)], [(241, 112)], [(254, 229)], [(264, 5)], [(170, 221)], [(41, 296)]]\n"
     ]
    }
   ],
   "source": [
    "print(allPoints)"
   ]
  },
  {
   "cell_type": "code",
   "execution_count": null,
   "metadata": {
    "id": "8IXXvr4IyShB"
   },
   "outputs": [],
   "source": [
    "#obtain bounding boxes with georeferenced data\n",
    "#we have the center point of each archaological object (mamoa) converted to pixel coordinates \n",
    "#we have the limits xmin, xmax, ymin, ymax of each original image cropped of LRM\n",
    "\n",
    "#resize images to 640x640 and convert to jpg format\n",
    "src_path = \"/content/drive/MyDrive/dataset_mamoas_res_320/*.tif\" \n",
    "dst_path = \"/content/drive/MyDrive/dataset_mamoas_res_320_resized_to_640/data_35_35/\"\n",
    "\n",
    "#dimentions of to resize the images\n",
    "width = 640\n",
    "height = 640\n",
    "dim = (width, height)\n",
    "\n",
    "##obtain new coordinates of images after resized\n",
    "w_bbox = 35 #15, 20, 22, 25, 30, 35 \n",
    "h_bbox = 35 #15, 20, 22, 25, 30, 35 \n",
    "width_yolo = w_bbox / width  #to normalize\n",
    "heigth_yolo = h_bbox / height #to normalize\n",
    "\n",
    "ratio = 640 / 320 #note that now we have images twice as big\n",
    "\n",
    "classID = 0 #just have a mamoa\n",
    "\n",
    "name_of_image = []\n",
    "k = 0\n",
    "\n",
    "for i in glob.glob(src_path):\n",
    "  img = cv2.imread(i, cv2.IMREAD_UNCHANGED)\n",
    "\n",
    "  resized = cv2.resize(img, dim, interpolation = cv2.INTER_AREA)\n",
    "  \n",
    "  name_of_image.append(Path(i).stem)\n",
    "\n",
    "  cv2.imwrite(str(dst_path) + str(name_of_image[k]) + \".jpg\", resized)\n",
    "  #print('Resized Dimensions : ', resized.shape)\n",
    "  k = k + 1\n",
    "\n",
    "k = 0\n",
    "\n",
    "for points in allPoints:\n",
    "\n",
    "  info = [] #initialize list\n",
    "\n",
    "  # Write files\n",
    "  filename = os.path.join(dst_path, str(name_of_image[k]) +\".txt\")  \n",
    "  file = open(filename, \"w\")\n",
    "\n",
    "  name_of_image.sort(key = int)\n",
    "\n",
    "  for j in points:\n",
    "    x_yolo = round(j[0] * ratio) / width\n",
    "    y_yolo = round(j[1] * ratio) / height\n",
    "\n",
    "    #print(classID, x_yolo, y_yolo, width_yolo, heigth_yolo)\n",
    "    \n",
    "    info.append([classID, x_yolo, y_yolo, width_yolo, heigth_yolo])\n",
    "\n",
    "  for item in info:\n",
    "    text = re.sub(r\"[\\([{,})\\]]\", \"\", str(item))\n",
    "    file.write(\"%s\\n\" % text)\n",
    "\n",
    "  k = k + 1\n",
    "\n",
    "  file.close()\n"
   ]
  },
  {
   "cell_type": "code",
   "execution_count": null,
   "metadata": {
    "id": "s-1Meil-TZ2o"
   },
   "outputs": [],
   "source": [
    "#verify if bounding boxes are all correctly saved\n",
    "\n",
    "src_annotations = \"/content/drive/MyDrive/dataset_mamoas_res_320_resized_to_640/data_30_30/\"\n",
    "src_images = \"/content/drive/MyDrive/dataset_mamoas_res_320_resized_to_640/data_30_30/\"\n",
    "out_path = \"/content/drive/MyDrive/check_images/\"\n",
    "\n",
    "#read images \n",
    "resolution_of_img = 640\n",
    "\n",
    "for f in glob.glob(src_images + \"*.jpg\"):\n",
    "  img = cv2.imread(f)\n",
    "\n",
    "  content = open(src_annotations + str(Path(f).stem) + '.txt', 'r')\n",
    "  \n",
    "  # reading the file\n",
    "  data = content.read()\n",
    "  data_into_list = data.replace('\\n', '').split(' ')\n",
    "  data_into_list.pop(0)\n",
    "\n",
    "  i = 0\n",
    "  while data_into_list:\n",
    "    x_center = float(data_into_list[0]) * resolution_of_img\n",
    "    data_into_list.pop(0)\n",
    "    y_center = float(data_into_list[0]) * resolution_of_img\n",
    "    data_into_list.pop(0)\n",
    "    width = float(data_into_list[0]) * resolution_of_img\n",
    "    data_into_list.pop(0)\n",
    "    height = float(data_into_list[0]) * resolution_of_img\n",
    "    data_into_list.pop(0)\n",
    "\n",
    "    #print(i, x_center, y_center, width, height)\n",
    "    img = cv2.circle(img, (int(x_center), int(y_center)), radius = 2, color = (0, 255, 0), thickness = -1)\n",
    "    xmin = x_center - width\n",
    "    xmax = x_center + width\n",
    "    ymin = y_center - height\n",
    "    ymax = y_center + height\n",
    "    img = cv2.rectangle(img, (int(xmin), int(ymin)), (int(xmax), int(ymax)), (0, 255, 0), 1)\n",
    "    #print(xmin, xmax, ymin, ymax)\n",
    "    i = i + 1\n",
    "  cv2.imwrite(out_path + str(Path(f).stem) + \".jpg\", img)\n",
    "\n",
    "  content.close()"
   ]
  },
  {
   "cell_type": "code",
   "execution_count": null,
   "metadata": {
    "colab": {
     "base_uri": "https://localhost:8080/"
    },
    "id": "FGCMRlaCOhju",
    "outputId": "ba048bb6-5f70-4d2b-8610-69d85a523b90"
   },
   "outputs": [
    {
     "name": "stderr",
     "output_type": "stream",
     "text": [
      "Copying files: 480 files [00:12, 37.11 files/s]\n"
     ]
    }
   ],
   "source": [
    "#split the files into 60, 20, 20, whitch corresponds to train, validation and test\n",
    "\n",
    "srcpath = \"/content/drive/MyDrive/dataset_mamoas_res_320_resized_to_640/\"\n",
    "outpath = \"/content/drive/MyDrive/dataset/\"\n",
    "splitfolders.ratio(srcpath, output=outpath,\n",
    "    seed=1337, ratio=(.6, .2, .2), group_prefix=2, move=False) \n",
    "\n",
    "#remove txt files from test file if txt files are not needed for testing or check the ground truth\n",
    "#dir_name = \"/content/drive/MyDrive/dataset_mamoas/test/data/\"\n",
    "#test = os.listdir(dir_name)\n",
    "\n",
    "#for item in test:\n",
    "    #if item.endswith(\".txt\"):\n",
    "        #os.remove(os.path.join(dir_name, item))"
   ]
  },
  {
   "cell_type": "code",
   "execution_count": null,
   "metadata": {
    "id": "XPFd73U8hhLI"
   },
   "outputs": [],
   "source": [
    "##########################################################################################\n",
    "#reference: https://github.com/albumentations-team/albumentations/issues/459#issuecomment-734454278\n",
    "#change: /usr/local/lib/python3.7/dist-packages/albumentations/augmentations/bbox_utils.py\n",
    "#in function checkBlock():\n",
    "#my added block \n",
    "#bbox=list(bbox)\n",
    "#for i in range(4):\n",
    "  #if (bbox[i]<0) :\n",
    "    #bbox[i]=0\n",
    "  #elif (bbox[i]>1) :\n",
    "    #bbox[i]=1\n",
    "#bbox=tuple(bbox)\n",
    "#end of block\n",
    "##########################################################################################\n",
    "\n",
    "#dataset augmentation\n",
    "src_annotations = \"/content/drive/MyDrive/dataset/val/data_35_35/\"\n",
    "src_images = \"/content/drive/MyDrive/dataset/val/data_35_35/*.jpg\"\n",
    "dst_path = \"/content/drive/MyDrive/dataset/val/data_35_35/\"\n",
    "\n",
    "ratio = round(640 / 320)\n",
    "classID = 0 #mamoa\n",
    "resolution = 640\n",
    "name = []\n",
    "info = []\n",
    "\n",
    "for i in glob.glob(src_images):\n",
    "  content = open(src_annotations + str(Path(i).stem) + '.txt', 'r') #get the name of all text files in folder\n",
    "  \n",
    "  # reading the file\n",
    "  data = content.read()\n",
    "  data_into_list = data.replace('\\n', '').split(' ') #clean the information\n",
    "  data_into_list.pop(0)\n",
    "  content.close()\n",
    "\n",
    "  bboxes = []\n",
    "\n",
    "  k = 0\n",
    "  while data_into_list:\n",
    "    x_center = float(data_into_list[0])\n",
    "    data_into_list.pop(0)\n",
    "    y_center = float(data_into_list[0])\n",
    "    data_into_list.pop(0)\n",
    "    width = float(data_into_list[0])\n",
    "    data_into_list.pop(0)\n",
    "    height = float(data_into_list[0])\n",
    "    data_into_list.pop(0)\n",
    "    bboxes.append([x_center , y_center, width, height])\n",
    "\n",
    "  image = cv2.imread(src_annotations + Path(i).stem + \".jpg\")\n",
    "\n",
    "  transform = A.Compose(\n",
    "  [\n",
    "      A.Transpose(p=0.5),\n",
    "      A.HorizontalFlip(p=0.5),\n",
    "      A.VerticalFlip(p=0.5),\n",
    "      A.RGBShift(r_shift_limit=25, g_shift_limit=25, b_shift_limit=25, p = 0.9),\n",
    "      A.OneOf([\n",
    "            A.Blur(blur_limit = 3, p = 0.5),\n",
    "            A.ColorJitter(p = 0.5),    \n",
    "      ], p = 1.0), \n",
    "  ], bbox_params = A.BboxParams(format = \"yolo\", label_fields = [])\n",
    "  )\n",
    "\n",
    "  for j in range(10):\n",
    "    augmentations = transform(image = image, bboxes = bboxes)\n",
    "    augmented_img = augmentations[\"image\"]\n",
    "    cv2.imwrite(dst_path + Path(i).stem + \"_\" + str(j) + \".jpg\", augmented_img)\n",
    "\n",
    "    # Write files\n",
    "    filename = os.path.join(dst_path, Path(i).stem + \"_\" + str(j) + \".txt\")  \n",
    "    file = open(filename, \"w\")\n",
    "\n",
    "    for item in augmentations[\"bboxes\"]:\n",
    "      text = re.sub(r\"[\\([{,})\\]]\", \"\", str(item))\n",
    "      file.write(str(classID) + \" \" + \"%s\\n\" % text)\n",
    "    file.close()\n",
    "\n",
    "  k = k + 1  "
   ]
  }
 ],
 "metadata": {
  "colab": {
   "authorship_tag": "ABX9TyP8Kk8klx7kKxtmqn7Okqtq",
   "collapsed_sections": [],
   "include_colab_link": true,
   "mount_file_id": "1aauo1udlKOQ2E8GefBXo1sahSPBFYtXZ",
   "name": "CreateDataset.ipynb",
   "provenance": []
  },
  "kernelspec": {
   "display_name": "Python 3 (ipykernel)",
   "language": "python",
   "name": "python3"
  },
  "language_info": {
   "codemirror_mode": {
    "name": "ipython",
    "version": 3
   },
   "file_extension": ".py",
   "mimetype": "text/x-python",
   "name": "python",
   "nbconvert_exporter": "python",
   "pygments_lexer": "ipython3",
   "version": "3.9.12"
  }
 },
 "nbformat": 4,
 "nbformat_minor": 1
}
