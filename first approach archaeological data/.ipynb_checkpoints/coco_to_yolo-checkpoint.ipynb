{
 "cells": [
  {
   "cell_type": "code",
   "execution_count": 1,
   "id": "3a73e960",
   "metadata": {},
   "outputs": [],
   "source": [
    "#Author: Fabricio Botelho\n",
    "#date: 15/03/22\n",
    "\n",
    "#conversion json coco format to yolo format\n",
    "#extract the following information:\n",
    "#image ID\n",
    "#object class number\n",
    "#COCO formated bounding box\n",
    "\n",
    "#references:\n",
    "#https://www.youtube.com/watch?v=qESxRSqsAGw\n",
    "#https://blog.paperspace.com/train-yolov5-custom-data/"
   ]
  },
  {
   "cell_type": "code",
   "execution_count": 182,
   "id": "770886f2",
   "metadata": {},
   "outputs": [],
   "source": [
    "import json\n",
    "import os\n",
    "import numpy as np\n",
    "import cv2\n",
    "import os.path\n",
    "import re\n",
    "from pathlib import Path\n",
    "import random\n",
    "from PIL import Image, ImageDraw, ImageFont"
   ]
  },
  {
   "cell_type": "code",
   "execution_count": 183,
   "id": "5d8e910c",
   "metadata": {},
   "outputs": [],
   "source": [
    "path_train_images = \"C:\\\\Users\\\\fabri\\\\Desktop\\\\5ano\\\\dataset\\\\train\"\n",
    "path_test_images = \"C:\\\\Users\\\\fabri\\\\Desktop\\\\5ano\\\\dataset\\\\test\"\n",
    "\n",
    "path_train_json = \"C:\\\\Users\\\\fabri\\\\Desktop\\\\5ano\\\\dataset\\\\json_files\\\\train.json\"\n",
    "path_test_json = \"C:\\\\Users\\\\fabri\\\\Desktop\\\\5ano\\\\dataset\\\\json_files\\\\test.json\"\n",
    "\n",
    "#save_annotated = \"C:\\\\Users\\\\fabri\\\\Desktop\\\\5ano\\\\new_datafolder\\\\yolo_files\""
   ]
  },
  {
   "cell_type": "code",
   "execution_count": 199,
   "id": "c74d71f9",
   "metadata": {},
   "outputs": [],
   "source": [
    "def coco_to_yolo(annotation_json, train_images, save_annotated):\n",
    "    # Load json from file\n",
    "    json_file = open(annotation_json)\n",
    "    coco_json = json.load(json_file)\n",
    "    json_file.close()\n",
    "    \n",
    "    #get classes/categories and respective id\n",
    "    for category in coco_json['categories']:\n",
    "        category_id = category['id']\n",
    "        class_name = category['name']\n",
    "        #print(category_id, class_name)\n",
    "            \n",
    "    for images in coco_json['images']:\n",
    "        height_img = images['height']\n",
    "        width_img = images['width']\n",
    "        img_id = images['id']\n",
    "        name_image = images['file_name']\n",
    "        text = Path(name_image).stem\n",
    "        \n",
    "        #export this data\n",
    "        filename = os.path.join(save_annotated, str(text) +\".txt\")  \n",
    "        \n",
    "        # Write files\n",
    "        file = open(filename, \"w\")\n",
    "        \n",
    "        lista = [] #create a list for each image\n",
    "        for annotation in coco_json['annotations']:\n",
    "            image_id = annotation['image_id']\n",
    "            if image_id == img_id:\n",
    "                bbox = annotation['bbox']\n",
    "                class_id = annotation['category_id']\n",
    "                x_coco, y_coco, width_coco, height_coco = bbox[0], bbox[1], bbox[2], bbox[3] #bbox coco format\n",
    "                \n",
    "                #convertion COCO bounding box to YOLO bounding box\n",
    "                #width_yolo = width_coco/image_width\n",
    "                #height_yolo = height_coco/image_height\n",
    "                #x_yolo = (x_coco+(width_coco/2))/image_width\n",
    "                #y_yolo = (y_coco+(height_coco/2))/image_height\n",
    "                #Box coordinates must be normalized by the dimensions of the image (i.e. have values between 0 and 1)\n",
    "                #Class numbers are zero-indexed (start from 0).\n",
    "                \n",
    "                #note that values are divided by dimentions of image to get the final normalized values\n",
    "                width_yolo = width_coco/width_img\n",
    "                height_yolo = height_coco/height_img\n",
    "                x_yolo = (x_coco+(width_coco/2))/width_img\n",
    "                y_yolo = (y_coco+(height_coco/2))/height_img\n",
    "                class_id = class_id - 1 #yolo uses 0, so number of classID is classes-1 while COCO format uses 0 to background class\n",
    "                lista.append([class_id, x_yolo, y_yolo, width_yolo, height_yolo])\n",
    "\n",
    "        for item in lista:\n",
    "            text = re.sub(r\"[\\([{,})\\]]\", \"\", str(item))\n",
    "            print(text)\n",
    "            file.write(\"%s\\n\" % text)\n",
    "        file.close()"
   ]
  },
  {
   "cell_type": "code",
   "execution_count": null,
   "id": "46807932",
   "metadata": {},
   "outputs": [],
   "source": [
    "#convert train data COCO to YOLO\n",
    "coco_to_yolo(path_train_json, path_train_images, path_train_images)\n",
    "\n",
    "#convert test data COCO to YOLO\n",
    "coco_to_yolo(path_test_json, path_train_images, path_test_images)"
   ]
  },
  {
   "cell_type": "code",
   "execution_count": null,
   "id": "7624d10b",
   "metadata": {},
   "outputs": [],
   "source": []
  },
  {
   "cell_type": "code",
   "execution_count": 174,
   "id": "b2e4cd94",
   "metadata": {},
   "outputs": [],
   "source": []
  },
  {
   "cell_type": "code",
   "execution_count": null,
   "id": "a18c3b45",
   "metadata": {},
   "outputs": [],
   "source": []
  }
 ],
 "metadata": {
  "kernelspec": {
   "display_name": "Python 3",
   "language": "python",
   "name": "python3"
  },
  "language_info": {
   "codemirror_mode": {
    "name": "ipython",
    "version": 3
   },
   "file_extension": ".py",
   "mimetype": "text/x-python",
   "name": "python",
   "nbconvert_exporter": "python",
   "pygments_lexer": "ipython3",
   "version": "3.8.8"
  }
 },
 "nbformat": 4,
 "nbformat_minor": 5
}
