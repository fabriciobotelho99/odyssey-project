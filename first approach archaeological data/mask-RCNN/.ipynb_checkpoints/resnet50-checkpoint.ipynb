{
 "cells": [
  {
   "cell_type": "code",
   "execution_count": 1,
   "metadata": {
    "colab": {
     "base_uri": "https://localhost:8080/"
    },
    "executionInfo": {
     "elapsed": 98324,
     "status": "ok",
     "timestamp": 1647128433658,
     "user": {
      "displayName": "Fabrício Botelho",
      "photoUrl": "https://lh3.googleusercontent.com/a/default-user=s64",
      "userId": "01080532620311760965"
     },
     "user_tz": 0
    },
    "id": "EApklQ3GQ9ah",
    "outputId": "6bd77743-db81-4400-d4ff-43247e732322"
   },
   "outputs": [
    {
     "name": "stdout",
     "output_type": "stream",
     "text": [
      "Found existing installation: tensorflow 2.8.0\n",
      "Uninstalling tensorflow-2.8.0:\n",
      "  Would remove:\n",
      "    /usr/local/bin/estimator_ckpt_converter\n",
      "    /usr/local/bin/import_pb_to_tensorboard\n",
      "    /usr/local/bin/saved_model_cli\n",
      "    /usr/local/bin/tensorboard\n",
      "    /usr/local/bin/tf_upgrade_v2\n",
      "    /usr/local/bin/tflite_convert\n",
      "    /usr/local/bin/toco\n",
      "    /usr/local/bin/toco_from_protos\n",
      "    /usr/local/lib/python3.7/dist-packages/tensorflow-2.8.0.dist-info/*\n",
      "    /usr/local/lib/python3.7/dist-packages/tensorflow/*\n",
      "Proceed (y/n)? y\n",
      "  Successfully uninstalled tensorflow-2.8.0\n"
     ]
    }
   ],
   "source": [
    "!pip uninstall tensorflow"
   ]
  },
  {
   "cell_type": "code",
   "execution_count": 2,
   "metadata": {
    "colab": {
     "base_uri": "https://localhost:8080/",
     "height": 1000
    },
    "executionInfo": {
     "elapsed": 86731,
     "status": "ok",
     "timestamp": 1647128673616,
     "user": {
      "displayName": "Fabrício Botelho",
      "photoUrl": "https://lh3.googleusercontent.com/a/default-user=s64",
      "userId": "01080532620311760965"
     },
     "user_tz": 0
    },
    "id": "ikMD1Shu9QNu",
    "outputId": "3b5cf1a0-cc5e-4667-f37e-e2bd93fbf5f6"
   },
   "outputs": [
    {
     "name": "stdout",
     "output_type": "stream",
     "text": [
      "Collecting tensorflow==2.3.0\n",
      "  Downloading tensorflow-2.3.0-cp37-cp37m-manylinux2010_x86_64.whl (320.4 MB)\n",
      "\u001b[K     |████████████████████████████████| 320.4 MB 43 kB/s \n",
      "\u001b[?25hCollecting gast==0.3.3\n",
      "  Downloading gast-0.3.3-py2.py3-none-any.whl (9.7 kB)\n",
      "Requirement already satisfied: six>=1.12.0 in /usr/local/lib/python3.7/dist-packages (from tensorflow==2.3.0) (1.15.0)\n",
      "Requirement already satisfied: protobuf>=3.9.2 in /usr/local/lib/python3.7/dist-packages (from tensorflow==2.3.0) (3.17.3)\n",
      "Requirement already satisfied: wrapt>=1.11.1 in /usr/local/lib/python3.7/dist-packages (from tensorflow==2.3.0) (1.13.3)\n",
      "Requirement already satisfied: astunparse==1.6.3 in /usr/local/lib/python3.7/dist-packages (from tensorflow==2.3.0) (1.6.3)\n",
      "Requirement already satisfied: absl-py>=0.7.0 in /usr/local/lib/python3.7/dist-packages (from tensorflow==2.3.0) (1.0.0)\n",
      "Requirement already satisfied: tensorboard<3,>=2.3.0 in /usr/local/lib/python3.7/dist-packages (from tensorflow==2.3.0) (2.8.0)\n",
      "Collecting h5py<2.11.0,>=2.10.0\n",
      "  Downloading h5py-2.10.0-cp37-cp37m-manylinux1_x86_64.whl (2.9 MB)\n",
      "\u001b[K     |████████████████████████████████| 2.9 MB 58.3 MB/s \n",
      "\u001b[?25hRequirement already satisfied: google-pasta>=0.1.8 in /usr/local/lib/python3.7/dist-packages (from tensorflow==2.3.0) (0.2.0)\n",
      "Collecting tensorflow-estimator<2.4.0,>=2.3.0\n",
      "  Downloading tensorflow_estimator-2.3.0-py2.py3-none-any.whl (459 kB)\n",
      "\u001b[K     |████████████████████████████████| 459 kB 44.3 MB/s \n",
      "\u001b[?25hRequirement already satisfied: keras-preprocessing<1.2,>=1.1.1 in /usr/local/lib/python3.7/dist-packages (from tensorflow==2.3.0) (1.1.2)\n",
      "Requirement already satisfied: scipy==1.4.1 in /usr/local/lib/python3.7/dist-packages (from tensorflow==2.3.0) (1.4.1)\n",
      "Requirement already satisfied: grpcio>=1.8.6 in /usr/local/lib/python3.7/dist-packages (from tensorflow==2.3.0) (1.44.0)\n",
      "Requirement already satisfied: opt-einsum>=2.3.2 in /usr/local/lib/python3.7/dist-packages (from tensorflow==2.3.0) (3.3.0)\n",
      "Collecting numpy<1.19.0,>=1.16.0\n",
      "  Downloading numpy-1.18.5-cp37-cp37m-manylinux1_x86_64.whl (20.1 MB)\n",
      "\u001b[K     |████████████████████████████████| 20.1 MB 1.3 MB/s \n",
      "\u001b[?25hRequirement already satisfied: wheel>=0.26 in /usr/local/lib/python3.7/dist-packages (from tensorflow==2.3.0) (0.37.1)\n",
      "Requirement already satisfied: termcolor>=1.1.0 in /usr/local/lib/python3.7/dist-packages (from tensorflow==2.3.0) (1.1.0)\n",
      "Requirement already satisfied: google-auth<3,>=1.6.3 in /usr/local/lib/python3.7/dist-packages (from tensorboard<3,>=2.3.0->tensorflow==2.3.0) (1.35.0)\n",
      "Requirement already satisfied: requests<3,>=2.21.0 in /usr/local/lib/python3.7/dist-packages (from tensorboard<3,>=2.3.0->tensorflow==2.3.0) (2.23.0)\n",
      "Requirement already satisfied: google-auth-oauthlib<0.5,>=0.4.1 in /usr/local/lib/python3.7/dist-packages (from tensorboard<3,>=2.3.0->tensorflow==2.3.0) (0.4.6)\n",
      "Requirement already satisfied: tensorboard-plugin-wit>=1.6.0 in /usr/local/lib/python3.7/dist-packages (from tensorboard<3,>=2.3.0->tensorflow==2.3.0) (1.8.1)\n",
      "Requirement already satisfied: werkzeug>=0.11.15 in /usr/local/lib/python3.7/dist-packages (from tensorboard<3,>=2.3.0->tensorflow==2.3.0) (1.0.1)\n",
      "Requirement already satisfied: setuptools>=41.0.0 in /usr/local/lib/python3.7/dist-packages (from tensorboard<3,>=2.3.0->tensorflow==2.3.0) (57.4.0)\n",
      "Requirement already satisfied: tensorboard-data-server<0.7.0,>=0.6.0 in /usr/local/lib/python3.7/dist-packages (from tensorboard<3,>=2.3.0->tensorflow==2.3.0) (0.6.1)\n",
      "Requirement already satisfied: markdown>=2.6.8 in /usr/local/lib/python3.7/dist-packages (from tensorboard<3,>=2.3.0->tensorflow==2.3.0) (3.3.6)\n",
      "Requirement already satisfied: pyasn1-modules>=0.2.1 in /usr/local/lib/python3.7/dist-packages (from google-auth<3,>=1.6.3->tensorboard<3,>=2.3.0->tensorflow==2.3.0) (0.2.8)\n",
      "Requirement already satisfied: cachetools<5.0,>=2.0.0 in /usr/local/lib/python3.7/dist-packages (from google-auth<3,>=1.6.3->tensorboard<3,>=2.3.0->tensorflow==2.3.0) (4.2.4)\n",
      "Requirement already satisfied: rsa<5,>=3.1.4 in /usr/local/lib/python3.7/dist-packages (from google-auth<3,>=1.6.3->tensorboard<3,>=2.3.0->tensorflow==2.3.0) (4.8)\n",
      "Requirement already satisfied: requests-oauthlib>=0.7.0 in /usr/local/lib/python3.7/dist-packages (from google-auth-oauthlib<0.5,>=0.4.1->tensorboard<3,>=2.3.0->tensorflow==2.3.0) (1.3.1)\n",
      "Requirement already satisfied: importlib-metadata>=4.4 in /usr/local/lib/python3.7/dist-packages (from markdown>=2.6.8->tensorboard<3,>=2.3.0->tensorflow==2.3.0) (4.11.2)\n",
      "Requirement already satisfied: zipp>=0.5 in /usr/local/lib/python3.7/dist-packages (from importlib-metadata>=4.4->markdown>=2.6.8->tensorboard<3,>=2.3.0->tensorflow==2.3.0) (3.7.0)\n",
      "Requirement already satisfied: typing-extensions>=3.6.4 in /usr/local/lib/python3.7/dist-packages (from importlib-metadata>=4.4->markdown>=2.6.8->tensorboard<3,>=2.3.0->tensorflow==2.3.0) (3.10.0.2)\n",
      "Requirement already satisfied: pyasn1<0.5.0,>=0.4.6 in /usr/local/lib/python3.7/dist-packages (from pyasn1-modules>=0.2.1->google-auth<3,>=1.6.3->tensorboard<3,>=2.3.0->tensorflow==2.3.0) (0.4.8)\n",
      "Requirement already satisfied: chardet<4,>=3.0.2 in /usr/local/lib/python3.7/dist-packages (from requests<3,>=2.21.0->tensorboard<3,>=2.3.0->tensorflow==2.3.0) (3.0.4)\n",
      "Requirement already satisfied: certifi>=2017.4.17 in /usr/local/lib/python3.7/dist-packages (from requests<3,>=2.21.0->tensorboard<3,>=2.3.0->tensorflow==2.3.0) (2021.10.8)\n",
      "Requirement already satisfied: urllib3!=1.25.0,!=1.25.1,<1.26,>=1.21.1 in /usr/local/lib/python3.7/dist-packages (from requests<3,>=2.21.0->tensorboard<3,>=2.3.0->tensorflow==2.3.0) (1.24.3)\n",
      "Requirement already satisfied: idna<3,>=2.5 in /usr/local/lib/python3.7/dist-packages (from requests<3,>=2.21.0->tensorboard<3,>=2.3.0->tensorflow==2.3.0) (2.10)\n",
      "Requirement already satisfied: oauthlib>=3.0.0 in /usr/local/lib/python3.7/dist-packages (from requests-oauthlib>=0.7.0->google-auth-oauthlib<0.5,>=0.4.1->tensorboard<3,>=2.3.0->tensorflow==2.3.0) (3.2.0)\n",
      "Installing collected packages: numpy, tensorflow-estimator, h5py, gast, tensorflow\n",
      "  Attempting uninstall: numpy\n",
      "    Found existing installation: numpy 1.21.5\n",
      "    Uninstalling numpy-1.21.5:\n",
      "      Successfully uninstalled numpy-1.21.5\n",
      "  Attempting uninstall: tensorflow-estimator\n",
      "    Found existing installation: tensorflow-estimator 2.8.0\n",
      "    Uninstalling tensorflow-estimator-2.8.0:\n",
      "      Successfully uninstalled tensorflow-estimator-2.8.0\n",
      "  Attempting uninstall: h5py\n",
      "    Found existing installation: h5py 3.1.0\n",
      "    Uninstalling h5py-3.1.0:\n",
      "      Successfully uninstalled h5py-3.1.0\n",
      "  Attempting uninstall: gast\n",
      "    Found existing installation: gast 0.5.3\n",
      "    Uninstalling gast-0.5.3:\n",
      "      Successfully uninstalled gast-0.5.3\n",
      "\u001b[31mERROR: pip's dependency resolver does not currently take into account all the packages that are installed. This behaviour is the source of the following dependency conflicts.\n",
      "tables 3.7.0 requires numpy>=1.19.0, but you have numpy 1.18.5 which is incompatible.\n",
      "jaxlib 0.3.0+cuda11.cudnn805 requires numpy>=1.19, but you have numpy 1.18.5 which is incompatible.\n",
      "jax 0.3.1 requires numpy>=1.19, but you have numpy 1.18.5 which is incompatible.\n",
      "datascience 0.10.6 requires folium==0.2.1, but you have folium 0.8.3 which is incompatible.\n",
      "albumentations 0.1.12 requires imgaug<0.2.7,>=0.2.5, but you have imgaug 0.2.9 which is incompatible.\u001b[0m\n",
      "Successfully installed gast-0.3.3 h5py-2.10.0 numpy-1.18.5 tensorflow-2.3.0 tensorflow-estimator-2.3.0\n"
     ]
    },
    {
     "data": {
      "application/vnd.colab-display-data+json": {
       "pip_warning": {
        "packages": [
         "numpy"
        ]
       }
      }
     },
     "metadata": {},
     "output_type": "display_data"
    },
    {
     "name": "stdout",
     "output_type": "stream",
     "text": [
      "Collecting pixellib\n",
      "  Downloading pixellib-0.7.1-py3-none-any.whl (430 kB)\n",
      "\u001b[?25l\r",
      "\u001b[K     |▊                               | 10 kB 24.5 MB/s eta 0:00:01\r",
      "\u001b[K     |█▌                              | 20 kB 30.3 MB/s eta 0:00:01\r",
      "\u001b[K     |██▎                             | 30 kB 34.5 MB/s eta 0:00:01\r",
      "\u001b[K     |███                             | 40 kB 37.8 MB/s eta 0:00:01\r",
      "\u001b[K     |███▉                            | 51 kB 28.3 MB/s eta 0:00:01\r",
      "\u001b[K     |████▋                           | 61 kB 30.9 MB/s eta 0:00:01\r",
      "\u001b[K     |█████▎                          | 71 kB 27.3 MB/s eta 0:00:01\r",
      "\u001b[K     |██████                          | 81 kB 28.6 MB/s eta 0:00:01\r",
      "\u001b[K     |██████▉                         | 92 kB 31.0 MB/s eta 0:00:01\r",
      "\u001b[K     |███████▋                        | 102 kB 29.4 MB/s eta 0:00:01\r",
      "\u001b[K     |████████▍                       | 112 kB 29.4 MB/s eta 0:00:01\r",
      "\u001b[K     |█████████▏                      | 122 kB 29.4 MB/s eta 0:00:01\r",
      "\u001b[K     |██████████                      | 133 kB 29.4 MB/s eta 0:00:01\r",
      "\u001b[K     |██████████▋                     | 143 kB 29.4 MB/s eta 0:00:01\r",
      "\u001b[K     |███████████▍                    | 153 kB 29.4 MB/s eta 0:00:01\r",
      "\u001b[K     |████████████▏                   | 163 kB 29.4 MB/s eta 0:00:01\r",
      "\u001b[K     |█████████████                   | 174 kB 29.4 MB/s eta 0:00:01\r",
      "\u001b[K     |█████████████▊                  | 184 kB 29.4 MB/s eta 0:00:01\r",
      "\u001b[K     |██████████████▌                 | 194 kB 29.4 MB/s eta 0:00:01\r",
      "\u001b[K     |███████████████▎                | 204 kB 29.4 MB/s eta 0:00:01\r",
      "\u001b[K     |████████████████                | 215 kB 29.4 MB/s eta 0:00:01\r",
      "\u001b[K     |████████████████▊               | 225 kB 29.4 MB/s eta 0:00:01\r",
      "\u001b[K     |█████████████████▌              | 235 kB 29.4 MB/s eta 0:00:01\r",
      "\u001b[K     |██████████████████▎             | 245 kB 29.4 MB/s eta 0:00:01\r",
      "\u001b[K     |███████████████████             | 256 kB 29.4 MB/s eta 0:00:01\r",
      "\u001b[K     |███████████████████▉            | 266 kB 29.4 MB/s eta 0:00:01\r",
      "\u001b[K     |████████████████████▋           | 276 kB 29.4 MB/s eta 0:00:01\r",
      "\u001b[K     |█████████████████████▎          | 286 kB 29.4 MB/s eta 0:00:01\r",
      "\u001b[K     |██████████████████████          | 296 kB 29.4 MB/s eta 0:00:01\r",
      "\u001b[K     |██████████████████████▉         | 307 kB 29.4 MB/s eta 0:00:01\r",
      "\u001b[K     |███████████████████████▋        | 317 kB 29.4 MB/s eta 0:00:01\r",
      "\u001b[K     |████████████████████████▍       | 327 kB 29.4 MB/s eta 0:00:01\r",
      "\u001b[K     |█████████████████████████▏      | 337 kB 29.4 MB/s eta 0:00:01\r",
      "\u001b[K     |██████████████████████████      | 348 kB 29.4 MB/s eta 0:00:01\r",
      "\u001b[K     |██████████████████████████▋     | 358 kB 29.4 MB/s eta 0:00:01\r",
      "\u001b[K     |███████████████████████████▍    | 368 kB 29.4 MB/s eta 0:00:01\r",
      "\u001b[K     |████████████████████████████▏   | 378 kB 29.4 MB/s eta 0:00:01\r",
      "\u001b[K     |█████████████████████████████   | 389 kB 29.4 MB/s eta 0:00:01\r",
      "\u001b[K     |█████████████████████████████▊  | 399 kB 29.4 MB/s eta 0:00:01\r",
      "\u001b[K     |██████████████████████████████▌ | 409 kB 29.4 MB/s eta 0:00:01\r",
      "\u001b[K     |███████████████████████████████▏| 419 kB 29.4 MB/s eta 0:00:01\r",
      "\u001b[K     |████████████████████████████████| 430 kB 29.4 MB/s eta 0:00:01\r",
      "\u001b[K     |████████████████████████████████| 430 kB 29.4 MB/s \n",
      "\u001b[?25hCollecting pyQt5\n",
      "  Downloading PyQt5-5.15.6-cp36-abi3-manylinux1_x86_64.whl (8.3 MB)\n",
      "\u001b[K     |████████████████████████████████| 8.3 MB 31.9 MB/s \n",
      "\u001b[?25hRequirement already satisfied: termcolor in /usr/local/lib/python3.7/dist-packages (from pixellib) (1.1.0)\n",
      "Requirement already satisfied: pillow in /usr/local/lib/python3.7/dist-packages (from pixellib) (7.1.2)\n",
      "Collecting dataclasses\n",
      "  Downloading dataclasses-0.6-py3-none-any.whl (14 kB)\n",
      "Collecting yacs\n",
      "  Downloading yacs-0.1.8-py3-none-any.whl (14 kB)\n",
      "Requirement already satisfied: tabulate in /usr/local/lib/python3.7/dist-packages (from pixellib) (0.8.9)\n",
      "Requirement already satisfied: scikit-image in /usr/local/lib/python3.7/dist-packages (from pixellib) (0.18.3)\n",
      "Collecting fvcore\n",
      "  Downloading fvcore-0.1.5.post20220305.tar.gz (50 kB)\n",
      "\u001b[K     |████████████████████████████████| 50 kB 6.7 MB/s \n",
      "\u001b[?25hRequirement already satisfied: pydot in /usr/local/lib/python3.7/dist-packages (from pixellib) (1.3.0)\n",
      "Collecting iopath\n",
      "  Downloading iopath-0.1.9-py3-none-any.whl (27 kB)\n",
      "Requirement already satisfied: matplotlib in /usr/local/lib/python3.7/dist-packages (from pixellib) (3.2.2)\n",
      "Requirement already satisfied: tqdm in /usr/local/lib/python3.7/dist-packages (from pixellib) (4.63.0)\n",
      "Requirement already satisfied: cloudpickle in /usr/local/lib/python3.7/dist-packages (from pixellib) (1.3.0)\n",
      "Requirement already satisfied: opencv-python in /usr/local/lib/python3.7/dist-packages (from pixellib) (4.1.2.30)\n",
      "Collecting black\n",
      "  Downloading black-22.1.0-cp37-cp37m-manylinux_2_17_x86_64.manylinux2014_x86_64.whl (1.4 MB)\n",
      "\u001b[K     |████████████████████████████████| 1.4 MB 46.7 MB/s \n",
      "\u001b[?25hCollecting imantics\n",
      "  Downloading imantics-0.1.12.tar.gz (13 kB)\n",
      "Collecting omegaconf\n",
      "  Downloading omegaconf-2.1.1-py3-none-any.whl (74 kB)\n",
      "\u001b[K     |████████████████████████████████| 74 kB 3.6 MB/s \n",
      "\u001b[?25hRequirement already satisfied: imgaug in /usr/local/lib/python3.7/dist-packages (from pixellib) (0.2.9)\n",
      "Requirement already satisfied: Cython in /usr/local/lib/python3.7/dist-packages (from pixellib) (0.29.28)\n",
      "Collecting hydra-core\n",
      "  Downloading hydra_core-1.1.1-py3-none-any.whl (145 kB)\n",
      "\u001b[K     |████████████████████████████████| 145 kB 67.0 MB/s \n",
      "\u001b[?25hCollecting labelme2coco\n",
      "  Downloading labelme2coco-0.2.1-py3-none-any.whl (18 kB)\n",
      "Requirement already satisfied: future in /usr/local/lib/python3.7/dist-packages (from pixellib) (0.16.0)\n",
      "Requirement already satisfied: tomli>=1.1.0 in /usr/local/lib/python3.7/dist-packages (from black->pixellib) (2.0.1)\n",
      "Collecting mypy-extensions>=0.4.3\n",
      "  Downloading mypy_extensions-0.4.3-py2.py3-none-any.whl (4.5 kB)\n",
      "Requirement already satisfied: typing-extensions>=3.10.0.0 in /usr/local/lib/python3.7/dist-packages (from black->pixellib) (3.10.0.2)\n",
      "Collecting typed-ast>=1.4.2\n",
      "  Downloading typed_ast-1.5.2-cp37-cp37m-manylinux_2_5_x86_64.manylinux1_x86_64.manylinux_2_12_x86_64.manylinux2010_x86_64.whl (843 kB)\n",
      "\u001b[K     |████████████████████████████████| 843 kB 47.4 MB/s \n",
      "\u001b[?25hCollecting click>=8.0.0\n",
      "  Downloading click-8.0.4-py3-none-any.whl (97 kB)\n",
      "\u001b[K     |████████████████████████████████| 97 kB 7.0 MB/s \n",
      "\u001b[?25hCollecting pathspec>=0.9.0\n",
      "  Downloading pathspec-0.9.0-py2.py3-none-any.whl (31 kB)\n",
      "Collecting platformdirs>=2\n",
      "  Downloading platformdirs-2.5.1-py3-none-any.whl (14 kB)\n",
      "Requirement already satisfied: importlib-metadata in /usr/local/lib/python3.7/dist-packages (from click>=8.0.0->black->pixellib) (4.11.2)\n",
      "Requirement already satisfied: numpy in /usr/local/lib/python3.7/dist-packages (from fvcore->pixellib) (1.18.5)\n",
      "Collecting pyyaml>=5.1\n",
      "  Downloading PyYAML-6.0-cp37-cp37m-manylinux_2_5_x86_64.manylinux1_x86_64.manylinux_2_12_x86_64.manylinux2010_x86_64.whl (596 kB)\n",
      "\u001b[K     |████████████████████████████████| 596 kB 54.8 MB/s \n",
      "\u001b[?25hCollecting portalocker\n",
      "  Downloading portalocker-2.4.0-py2.py3-none-any.whl (16 kB)\n",
      "Collecting antlr4-python3-runtime==4.8\n",
      "  Downloading antlr4-python3-runtime-4.8.tar.gz (112 kB)\n",
      "\u001b[K     |████████████████████████████████| 112 kB 56.9 MB/s \n",
      "\u001b[?25hRequirement already satisfied: importlib-resources in /usr/local/lib/python3.7/dist-packages (from hydra-core->pixellib) (5.4.0)\n",
      "Requirement already satisfied: lxml in /usr/local/lib/python3.7/dist-packages (from imantics->pixellib) (4.2.6)\n",
      "Collecting xmljson\n",
      "  Downloading xmljson-0.2.1-py2.py3-none-any.whl (10 kB)\n",
      "Requirement already satisfied: imageio in /usr/local/lib/python3.7/dist-packages (from imgaug->pixellib) (2.4.1)\n",
      "Requirement already satisfied: six in /usr/local/lib/python3.7/dist-packages (from imgaug->pixellib) (1.15.0)\n",
      "Requirement already satisfied: Shapely in /usr/local/lib/python3.7/dist-packages (from imgaug->pixellib) (1.8.1.post1)\n",
      "Requirement already satisfied: scipy in /usr/local/lib/python3.7/dist-packages (from imgaug->pixellib) (1.4.1)\n",
      "Requirement already satisfied: tifffile>=2019.7.26 in /usr/local/lib/python3.7/dist-packages (from scikit-image->pixellib) (2021.11.2)\n",
      "Requirement already satisfied: networkx>=2.0 in /usr/local/lib/python3.7/dist-packages (from scikit-image->pixellib) (2.6.3)\n",
      "Requirement already satisfied: PyWavelets>=1.1.1 in /usr/local/lib/python3.7/dist-packages (from scikit-image->pixellib) (1.2.0)\n",
      "Requirement already satisfied: cycler>=0.10 in /usr/local/lib/python3.7/dist-packages (from matplotlib->pixellib) (0.11.0)\n",
      "Requirement already satisfied: python-dateutil>=2.1 in /usr/local/lib/python3.7/dist-packages (from matplotlib->pixellib) (2.8.2)\n",
      "Requirement already satisfied: kiwisolver>=1.0.1 in /usr/local/lib/python3.7/dist-packages (from matplotlib->pixellib) (1.3.2)\n",
      "Requirement already satisfied: pyparsing!=2.0.4,!=2.1.2,!=2.1.6,>=2.0.1 in /usr/local/lib/python3.7/dist-packages (from matplotlib->pixellib) (3.0.7)\n",
      "Requirement already satisfied: zipp>=0.5 in /usr/local/lib/python3.7/dist-packages (from importlib-metadata->click>=8.0.0->black->pixellib) (3.7.0)\n",
      "Collecting sahi>=0.8.19\n",
      "  Downloading sahi-0.9.0-py3-none-any.whl (78 kB)\n",
      "\u001b[K     |████████████████████████████████| 78 kB 7.3 MB/s \n",
      "\u001b[?25hRequirement already satisfied: jsonschema>=2.6.0 in /usr/local/lib/python3.7/dist-packages (from labelme2coco->pixellib) (4.3.3)\n",
      "Requirement already satisfied: pyrsistent!=0.17.0,!=0.17.1,!=0.17.2,>=0.14.0 in /usr/local/lib/python3.7/dist-packages (from jsonschema>=2.6.0->labelme2coco->pixellib) (0.18.1)\n",
      "Requirement already satisfied: attrs>=17.4.0 in /usr/local/lib/python3.7/dist-packages (from jsonschema>=2.6.0->labelme2coco->pixellib) (21.4.0)\n",
      "Collecting fire\n",
      "  Downloading fire-0.4.0.tar.gz (87 kB)\n",
      "\u001b[K     |████████████████████████████████| 87 kB 6.7 MB/s \n",
      "\u001b[?25hCollecting opencv-python\n",
      "  Downloading opencv_python-4.5.5.64-cp36-abi3-manylinux_2_17_x86_64.manylinux2014_x86_64.whl (60.5 MB)\n",
      "\u001b[K     |████████████████████████████████| 60.5 MB 117 kB/s \n",
      "\u001b[?25hCollecting pillow\n",
      "  Downloading Pillow-9.0.1-cp37-cp37m-manylinux_2_17_x86_64.manylinux2014_x86_64.whl (4.3 MB)\n",
      "\u001b[K     |████████████████████████████████| 4.3 MB 45.4 MB/s \n",
      "\u001b[?25hCollecting terminaltables\n",
      "  Downloading terminaltables-3.1.10-py2.py3-none-any.whl (15 kB)\n",
      "Requirement already satisfied: requests in /usr/local/lib/python3.7/dist-packages (from sahi>=0.8.19->labelme2coco->pixellib) (2.23.0)\n",
      "Collecting PyQt5-sip<13,>=12.8\n",
      "  Downloading PyQt5_sip-12.9.1-cp37-cp37m-manylinux1_x86_64.whl (338 kB)\n",
      "\u001b[K     |████████████████████████████████| 338 kB 58.5 MB/s \n",
      "\u001b[?25hCollecting PyQt5-Qt5>=5.15.2\n",
      "  Downloading PyQt5_Qt5-5.15.2-py3-none-manylinux2014_x86_64.whl (59.9 MB)\n",
      "\u001b[K     |████████████████████████████████| 59.9 MB 94 kB/s \n",
      "\u001b[?25hRequirement already satisfied: idna<3,>=2.5 in /usr/local/lib/python3.7/dist-packages (from requests->sahi>=0.8.19->labelme2coco->pixellib) (2.10)\n",
      "Requirement already satisfied: urllib3!=1.25.0,!=1.25.1,<1.26,>=1.21.1 in /usr/local/lib/python3.7/dist-packages (from requests->sahi>=0.8.19->labelme2coco->pixellib) (1.24.3)\n",
      "Requirement already satisfied: chardet<4,>=3.0.2 in /usr/local/lib/python3.7/dist-packages (from requests->sahi>=0.8.19->labelme2coco->pixellib) (3.0.4)\n",
      "Requirement already satisfied: certifi>=2017.4.17 in /usr/local/lib/python3.7/dist-packages (from requests->sahi>=0.8.19->labelme2coco->pixellib) (2021.10.8)\n",
      "Building wheels for collected packages: fvcore, antlr4-python3-runtime, imantics, fire\n",
      "  Building wheel for fvcore (setup.py) ... \u001b[?25l\u001b[?25hdone\n",
      "  Created wheel for fvcore: filename=fvcore-0.1.5.post20220305-py3-none-any.whl size=61214 sha256=0e85ce36b62f07c07d16cec3854490adddc31a3b16138bb1c4704a1bc8339431\n",
      "  Stored in directory: /root/.cache/pip/wheels/b5/b7/6e/43b1693d06fac3633af48db68557513b0a37ab38b0a8b798f9\n",
      "  Building wheel for antlr4-python3-runtime (setup.py) ... \u001b[?25l\u001b[?25hdone\n",
      "  Created wheel for antlr4-python3-runtime: filename=antlr4_python3_runtime-4.8-py3-none-any.whl size=141230 sha256=7e16b963b395310ce53ee22a10e2b77c16e84109fa2c56ad3be608457175382c\n",
      "  Stored in directory: /root/.cache/pip/wheels/ca/33/b7/336836125fc9bb4ceaa4376d8abca10ca8bc84ddc824baea6c\n",
      "  Building wheel for imantics (setup.py) ... \u001b[?25l\u001b[?25hdone\n",
      "  Created wheel for imantics: filename=imantics-0.1.12-py3-none-any.whl size=16033 sha256=96fb33b43b1d80b9fd52af5a4537e2cd4e68085e2de2f46251d354a4343a0bf1\n",
      "  Stored in directory: /root/.cache/pip/wheels/da/7c/3e/296fe3ed4eb3bd713e91dee0d0549f12f316d49939a64bdc96\n",
      "  Building wheel for fire (setup.py) ... \u001b[?25l\u001b[?25hdone\n",
      "  Created wheel for fire: filename=fire-0.4.0-py2.py3-none-any.whl size=115942 sha256=d307a43ee1d539f3bd951d548a9c865550978f7603b9e423bb839e968695c4c4\n",
      "  Stored in directory: /root/.cache/pip/wheels/8a/67/fb/2e8a12fa16661b9d5af1f654bd199366799740a85c64981226\n",
      "Successfully built fvcore antlr4-python3-runtime imantics fire\n",
      "Installing collected packages: pillow, terminaltables, pyyaml, portalocker, opencv-python, fire, antlr4-python3-runtime, yacs, xmljson, typed-ast, sahi, PyQt5-sip, PyQt5-Qt5, platformdirs, pathspec, omegaconf, mypy-extensions, iopath, click, pyQt5, labelme2coco, imantics, hydra-core, fvcore, dataclasses, black, pixellib\n",
      "  Attempting uninstall: pillow\n",
      "    Found existing installation: Pillow 7.1.2\n",
      "    Uninstalling Pillow-7.1.2:\n",
      "      Successfully uninstalled Pillow-7.1.2\n",
      "  Attempting uninstall: pyyaml\n",
      "    Found existing installation: PyYAML 3.13\n",
      "    Uninstalling PyYAML-3.13:\n",
      "      Successfully uninstalled PyYAML-3.13\n",
      "  Attempting uninstall: opencv-python\n",
      "    Found existing installation: opencv-python 4.1.2.30\n",
      "    Uninstalling opencv-python-4.1.2.30:\n",
      "      Successfully uninstalled opencv-python-4.1.2.30\n",
      "  Attempting uninstall: click\n",
      "    Found existing installation: click 7.1.2\n",
      "    Uninstalling click-7.1.2:\n",
      "      Successfully uninstalled click-7.1.2\n",
      "\u001b[31mERROR: pip's dependency resolver does not currently take into account all the packages that are installed. This behaviour is the source of the following dependency conflicts.\n",
      "flask 1.1.4 requires click<8.0,>=5.1, but you have click 8.0.4 which is incompatible.\n",
      "albumentations 0.1.12 requires imgaug<0.2.7,>=0.2.5, but you have imgaug 0.2.9 which is incompatible.\u001b[0m\n",
      "Successfully installed PyQt5-Qt5-5.15.2 PyQt5-sip-12.9.1 antlr4-python3-runtime-4.8 black-22.1.0 click-8.0.4 dataclasses-0.6 fire-0.4.0 fvcore-0.1.5.post20220305 hydra-core-1.1.1 imantics-0.1.12 iopath-0.1.9 labelme2coco-0.2.1 mypy-extensions-0.4.3 omegaconf-2.1.1 opencv-python-4.5.5.64 pathspec-0.9.0 pillow-9.0.1 pixellib-0.7.1 platformdirs-2.5.1 portalocker-2.4.0 pyQt5-5.15.6 pyyaml-6.0 sahi-0.9.0 terminaltables-3.1.10 typed-ast-1.5.2 xmljson-0.2.1 yacs-0.1.8\n"
     ]
    },
    {
     "data": {
      "application/vnd.colab-display-data+json": {
       "pip_warning": {
        "packages": [
         "PIL",
         "pydevd_plugins"
        ]
       }
      }
     },
     "metadata": {},
     "output_type": "display_data"
    },
    {
     "name": "stdout",
     "output_type": "stream",
     "text": [
      "Requirement already satisfied: tifffile in /usr/local/lib/python3.7/dist-packages (2021.11.2)\n",
      "Requirement already satisfied: numpy>=1.15.1 in /usr/local/lib/python3.7/dist-packages (from tifffile) (1.18.5)\n",
      "Collecting imagecodecs\n",
      "  Downloading imagecodecs-2021.11.20-cp37-cp37m-manylinux_2_17_x86_64.manylinux2014_x86_64.whl (31.0 MB)\n",
      "\u001b[K     |████████████████████████████████| 31.0 MB 5.9 MB/s \n",
      "\u001b[?25hRequirement already satisfied: numpy>=1.16.5 in /usr/local/lib/python3.7/dist-packages (from imagecodecs) (1.18.5)\n",
      "Installing collected packages: imagecodecs\n",
      "Successfully installed imagecodecs-2021.11.20\n",
      "Requirement already satisfied: imgaug in /usr/local/lib/python3.7/dist-packages (0.2.9)\n",
      "Requirement already satisfied: six in /usr/local/lib/python3.7/dist-packages (from imgaug) (1.15.0)\n",
      "Requirement already satisfied: scipy in /usr/local/lib/python3.7/dist-packages (from imgaug) (1.4.1)\n",
      "Requirement already satisfied: numpy>=1.15.0 in /usr/local/lib/python3.7/dist-packages (from imgaug) (1.18.5)\n",
      "Requirement already satisfied: Shapely in /usr/local/lib/python3.7/dist-packages (from imgaug) (1.8.1.post1)\n",
      "Requirement already satisfied: opencv-python in /usr/local/lib/python3.7/dist-packages (from imgaug) (4.5.5.64)\n",
      "Requirement already satisfied: imageio in /usr/local/lib/python3.7/dist-packages (from imgaug) (2.4.1)\n",
      "Requirement already satisfied: matplotlib in /usr/local/lib/python3.7/dist-packages (from imgaug) (3.2.2)\n",
      "Requirement already satisfied: Pillow in /usr/local/lib/python3.7/dist-packages (from imgaug) (9.0.1)\n",
      "Requirement already satisfied: scikit-image>=0.11.0 in /usr/local/lib/python3.7/dist-packages (from imgaug) (0.18.3)\n",
      "Requirement already satisfied: PyWavelets>=1.1.1 in /usr/local/lib/python3.7/dist-packages (from scikit-image>=0.11.0->imgaug) (1.2.0)\n",
      "Requirement already satisfied: networkx>=2.0 in /usr/local/lib/python3.7/dist-packages (from scikit-image>=0.11.0->imgaug) (2.6.3)\n",
      "Requirement already satisfied: tifffile>=2019.7.26 in /usr/local/lib/python3.7/dist-packages (from scikit-image>=0.11.0->imgaug) (2021.11.2)\n",
      "Requirement already satisfied: kiwisolver>=1.0.1 in /usr/local/lib/python3.7/dist-packages (from matplotlib->imgaug) (1.3.2)\n",
      "Requirement already satisfied: python-dateutil>=2.1 in /usr/local/lib/python3.7/dist-packages (from matplotlib->imgaug) (2.8.2)\n",
      "Requirement already satisfied: cycler>=0.10 in /usr/local/lib/python3.7/dist-packages (from matplotlib->imgaug) (0.11.0)\n",
      "Requirement already satisfied: pyparsing!=2.0.4,!=2.1.2,!=2.1.6,>=2.0.1 in /usr/local/lib/python3.7/dist-packages (from matplotlib->imgaug) (3.0.7)\n"
     ]
    }
   ],
   "source": [
    "!pip install tensorflow==2.3.0\n",
    "!pip install pixellib\n",
    "!pip install tifffile\n",
    "!pip install imagecodecs \n",
    "!pip install imgaug\n"
   ]
  },
  {
   "cell_type": "code",
   "execution_count": null,
   "metadata": {
    "colab": {
     "base_uri": "https://localhost:8080/"
    },
    "executionInfo": {
     "elapsed": 16,
     "status": "ok",
     "timestamp": 1647129786927,
     "user": {
      "displayName": "Fabrício Botelho",
      "photoUrl": "https://lh3.googleusercontent.com/a/default-user=s64",
      "userId": "01080532620311760965"
     },
     "user_tz": 0
    },
    "id": "vQG85qBYR6WY",
    "outputId": "a3a35444-a23d-41e8-d24b-7943b3c762c5"
   },
   "outputs": [],
   "source": [
    "import tensorflow\n",
    "import pixellib\n",
    "\n",
    "print(\"Tensorflow version: \", tensorflow.__version__)"
   ]
  },
  {
   "cell_type": "code",
   "execution_count": 2,
   "metadata": {
    "colab": {
     "base_uri": "https://localhost:8080/"
    },
    "executionInfo": {
     "elapsed": 21078,
     "status": "ok",
     "timestamp": 1647128718359,
     "user": {
      "displayName": "Fabrício Botelho",
      "photoUrl": "https://lh3.googleusercontent.com/a/default-user=s64",
      "userId": "01080532620311760965"
     },
     "user_tz": 0
    },
    "id": "q0eRTrV6_DaB",
    "outputId": "8ffc99b6-3ea3-47cf-bb70-ff7d88519484"
   },
   "outputs": [
    {
     "name": "stdout",
     "output_type": "stream",
     "text": [
      "Mounted at /content/drive\n"
     ]
    }
   ],
   "source": [
    "from google.colab import drive\n",
    "drive.mount('/content/drive')"
   ]
  },
  {
   "cell_type": "code",
   "execution_count": 2,
   "metadata": {
    "colab": {
     "base_uri": "https://localhost:8080/"
    },
    "executionInfo": {
     "elapsed": 14363,
     "status": "ok",
     "timestamp": 1647129786926,
     "user": {
      "displayName": "Fabrício Botelho",
      "photoUrl": "https://lh3.googleusercontent.com/a/default-user=s64",
      "userId": "01080532620311760965"
     },
     "user_tz": 0
    },
    "id": "j2OCjR4-9SbK",
    "outputId": "2f393274-ac4a-4629-eb5e-a9cbbe1da0b7"
   },
   "outputs": [
    {
     "name": "stdout",
     "output_type": "stream",
     "text": [
      "Using resnet50 as network backbone For Mask R-CNN model\n"
     ]
    }
   ],
   "source": [
    "from pixellib.custom_train import instance_custom_training\n",
    "\n",
    "train_maskrcnn = instance_custom_training()\n",
    "train_maskrcnn.modelConfig(network_backbone = \"resnet50\", num_classes= 3, batch_size=4)\n",
    "train_maskrcnn.load_pretrained_model(\"/content/drive/MyDrive/mask_rcnn_coco.h5\")"
   ]
  },
  {
   "cell_type": "code",
   "execution_count": 4,
   "metadata": {
    "executionInfo": {
     "elapsed": 393,
     "status": "ok",
     "timestamp": 1647129788903,
     "user": {
      "displayName": "Fabrício Botelho",
      "photoUrl": "https://lh3.googleusercontent.com/a/default-user=s64",
      "userId": "01080532620311760965"
     },
     "user_tz": 0
    },
    "id": "eP23hdwh9TAx"
   },
   "outputs": [],
   "source": [
    "train_maskrcnn.load_dataset(\"/content/drive/MyDrive/structures\")"
   ]
  },
  {
   "cell_type": "code",
   "execution_count": null,
   "metadata": {
    "colab": {
     "base_uri": "https://localhost:8080/"
    },
    "id": "iRAa1ndq9TQJ",
    "outputId": "1e8e6089-85c2-4878-9c9a-0097e808bf4f"
   },
   "outputs": [
    {
     "name": "stdout",
     "output_type": "stream",
     "text": [
      "Applying Default Augmentation on Dataset\n",
      "Train 285 images\n",
      "Validate 71 images\n",
      "Checkpoint Path: /content/drive/MyDrive/structures/mask_rcnn_models\n",
      "Selecting layers to train\n"
     ]
    },
    {
     "name": "stderr",
     "output_type": "stream",
     "text": [
      "/usr/local/lib/python3.7/dist-packages/skimage/transform/_warps.py:830: FutureWarning: Input image dtype is bool. Interpolation is not defined with bool data type. Please set order to 0 or explicitely cast input image to another data type. Starting from version 0.19 a ValueError will be raised instead of this warning.\n",
      "  order = _validate_interpolation_order(image.dtype, order)\n",
      "/usr/local/lib/python3.7/dist-packages/skimage/transform/_warps.py:830: FutureWarning: Input image dtype is bool. Interpolation is not defined with bool data type. Please set order to 0 or explicitely cast input image to another data type. Starting from version 0.19 a ValueError will be raised instead of this warning.\n",
      "  order = _validate_interpolation_order(image.dtype, order)\n",
      "/usr/local/lib/python3.7/dist-packages/skimage/transform/_warps.py:830: FutureWarning: Input image dtype is bool. Interpolation is not defined with bool data type. Please set order to 0 or explicitely cast input image to another data type. Starting from version 0.19 a ValueError will be raised instead of this warning.\n",
      "  order = _validate_interpolation_order(image.dtype, order)\n",
      "/usr/local/lib/python3.7/dist-packages/skimage/transform/_warps.py:830: FutureWarning: Input image dtype is bool. Interpolation is not defined with bool data type. Please set order to 0 or explicitely cast input image to another data type. Starting from version 0.19 a ValueError will be raised instead of this warning.\n",
      "  order = _validate_interpolation_order(image.dtype, order)\n",
      "/usr/local/lib/python3.7/dist-packages/skimage/transform/_warps.py:830: FutureWarning: Input image dtype is bool. Interpolation is not defined with bool data type. Please set order to 0 or explicitely cast input image to another data type. Starting from version 0.19 a ValueError will be raised instead of this warning.\n",
      "  order = _validate_interpolation_order(image.dtype, order)\n",
      "/usr/local/lib/python3.7/dist-packages/skimage/transform/_warps.py:830: FutureWarning: Input image dtype is bool. Interpolation is not defined with bool data type. Please set order to 0 or explicitely cast input image to another data type. Starting from version 0.19 a ValueError will be raised instead of this warning.\n",
      "  order = _validate_interpolation_order(image.dtype, order)\n",
      "/usr/local/lib/python3.7/dist-packages/skimage/transform/_warps.py:830: FutureWarning: Input image dtype is bool. Interpolation is not defined with bool data type. Please set order to 0 or explicitely cast input image to another data type. Starting from version 0.19 a ValueError will be raised instead of this warning.\n",
      "  order = _validate_interpolation_order(image.dtype, order)\n",
      "/usr/local/lib/python3.7/dist-packages/skimage/transform/_warps.py:830: FutureWarning: Input image dtype is bool. Interpolation is not defined with bool data type. Please set order to 0 or explicitely cast input image to another data type. Starting from version 0.19 a ValueError will be raised instead of this warning.\n",
      "  order = _validate_interpolation_order(image.dtype, order)\n",
      "/usr/local/lib/python3.7/dist-packages/skimage/transform/_warps.py:830: FutureWarning: Input image dtype is bool. Interpolation is not defined with bool data type. Please set order to 0 or explicitely cast input image to another data type. Starting from version 0.19 a ValueError will be raised instead of this warning.\n",
      "  order = _validate_interpolation_order(image.dtype, order)\n",
      "/usr/local/lib/python3.7/dist-packages/skimage/transform/_warps.py:830: FutureWarning: Input image dtype is bool. Interpolation is not defined with bool data type. Please set order to 0 or explicitely cast input image to another data type. Starting from version 0.19 a ValueError will be raised instead of this warning.\n",
      "  order = _validate_interpolation_order(image.dtype, order)\n",
      "/usr/local/lib/python3.7/dist-packages/skimage/transform/_warps.py:830: FutureWarning: Input image dtype is bool. Interpolation is not defined with bool data type. Please set order to 0 or explicitely cast input image to another data type. Starting from version 0.19 a ValueError will be raised instead of this warning.\n",
      "  order = _validate_interpolation_order(image.dtype, order)\n",
      "/usr/local/lib/python3.7/dist-packages/skimage/transform/_warps.py:830: FutureWarning: Input image dtype is bool. Interpolation is not defined with bool data type. Please set order to 0 or explicitely cast input image to another data type. Starting from version 0.19 a ValueError will be raised instead of this warning.\n",
      "  order = _validate_interpolation_order(image.dtype, order)\n",
      "/usr/local/lib/python3.7/dist-packages/skimage/transform/_warps.py:830: FutureWarning: Input image dtype is bool. Interpolation is not defined with bool data type. Please set order to 0 or explicitely cast input image to another data type. Starting from version 0.19 a ValueError will be raised instead of this warning.\n",
      "  order = _validate_interpolation_order(image.dtype, order)\n",
      "/usr/local/lib/python3.7/dist-packages/skimage/transform/_warps.py:830: FutureWarning: Input image dtype is bool. Interpolation is not defined with bool data type. Please set order to 0 or explicitely cast input image to another data type. Starting from version 0.19 a ValueError will be raised instead of this warning.\n",
      "  order = _validate_interpolation_order(image.dtype, order)\n",
      "/usr/local/lib/python3.7/dist-packages/skimage/transform/_warps.py:830: FutureWarning: Input image dtype is bool. Interpolation is not defined with bool data type. Please set order to 0 or explicitely cast input image to another data type. Starting from version 0.19 a ValueError will be raised instead of this warning.\n",
      "  order = _validate_interpolation_order(image.dtype, order)\n",
      "/usr/local/lib/python3.7/dist-packages/skimage/transform/_warps.py:830: FutureWarning: Input image dtype is bool. Interpolation is not defined with bool data type. Please set order to 0 or explicitely cast input image to another data type. Starting from version 0.19 a ValueError will be raised instead of this warning.\n",
      "  order = _validate_interpolation_order(image.dtype, order)\n",
      "/usr/local/lib/python3.7/dist-packages/skimage/transform/_warps.py:830: FutureWarning: Input image dtype is bool. Interpolation is not defined with bool data type. Please set order to 0 or explicitely cast input image to another data type. Starting from version 0.19 a ValueError will be raised instead of this warning.\n",
      "  order = _validate_interpolation_order(image.dtype, order)\n",
      "/usr/local/lib/python3.7/dist-packages/skimage/transform/_warps.py:830: FutureWarning: Input image dtype is bool. Interpolation is not defined with bool data type. Please set order to 0 or explicitely cast input image to another data type. Starting from version 0.19 a ValueError will be raised instead of this warning.\n",
      "  order = _validate_interpolation_order(image.dtype, order)\n",
      "/usr/local/lib/python3.7/dist-packages/skimage/transform/_warps.py:830: FutureWarning: Input image dtype is bool. Interpolation is not defined with bool data type. Please set order to 0 or explicitely cast input image to another data type. Starting from version 0.19 a ValueError will be raised instead of this warning.\n",
      "  order = _validate_interpolation_order(image.dtype, order)\n",
      "/usr/local/lib/python3.7/dist-packages/skimage/transform/_warps.py:830: FutureWarning: Input image dtype is bool. Interpolation is not defined with bool data type. Please set order to 0 or explicitely cast input image to another data type. Starting from version 0.19 a ValueError will be raised instead of this warning.\n",
      "  order = _validate_interpolation_order(image.dtype, order)\n",
      "/usr/local/lib/python3.7/dist-packages/skimage/transform/_warps.py:830: FutureWarning: Input image dtype is bool. Interpolation is not defined with bool data type. Please set order to 0 or explicitely cast input image to another data type. Starting from version 0.19 a ValueError will be raised instead of this warning.\n",
      "  order = _validate_interpolation_order(image.dtype, order)\n",
      "/usr/local/lib/python3.7/dist-packages/skimage/transform/_warps.py:830: FutureWarning: Input image dtype is bool. Interpolation is not defined with bool data type. Please set order to 0 or explicitely cast input image to another data type. Starting from version 0.19 a ValueError will be raised instead of this warning.\n",
      "  order = _validate_interpolation_order(image.dtype, order)\n",
      "/usr/local/lib/python3.7/dist-packages/skimage/transform/_warps.py:830: FutureWarning: Input image dtype is bool. Interpolation is not defined with bool data type. Please set order to 0 or explicitely cast input image to another data type. Starting from version 0.19 a ValueError will be raised instead of this warning.\n",
      "  order = _validate_interpolation_order(image.dtype, order)\n",
      "/usr/local/lib/python3.7/dist-packages/skimage/transform/_warps.py:830: FutureWarning: Input image dtype is bool. Interpolation is not defined with bool data type. Please set order to 0 or explicitely cast input image to another data type. Starting from version 0.19 a ValueError will be raised instead of this warning.\n",
      "  order = _validate_interpolation_order(image.dtype, order)\n",
      "/usr/local/lib/python3.7/dist-packages/skimage/transform/_warps.py:830: FutureWarning: Input image dtype is bool. Interpolation is not defined with bool data type. Please set order to 0 or explicitely cast input image to another data type. Starting from version 0.19 a ValueError will be raised instead of this warning.\n",
      "  order = _validate_interpolation_order(image.dtype, order)\n",
      "/usr/local/lib/python3.7/dist-packages/skimage/transform/_warps.py:830: FutureWarning: Input image dtype is bool. Interpolation is not defined with bool data type. Please set order to 0 or explicitely cast input image to another data type. Starting from version 0.19 a ValueError will be raised instead of this warning.\n",
      "  order = _validate_interpolation_order(image.dtype, order)\n",
      "/usr/local/lib/python3.7/dist-packages/skimage/transform/_warps.py:830: FutureWarning: Input image dtype is bool. Interpolation is not defined with bool data type. Please set order to 0 or explicitely cast input image to another data type. Starting from version 0.19 a ValueError will be raised instead of this warning.\n",
      "  order = _validate_interpolation_order(image.dtype, order)\n",
      "/usr/local/lib/python3.7/dist-packages/skimage/transform/_warps.py:830: FutureWarning: Input image dtype is bool. Interpolation is not defined with bool data type. Please set order to 0 or explicitely cast input image to another data type. Starting from version 0.19 a ValueError will be raised instead of this warning.\n",
      "  order = _validate_interpolation_order(image.dtype, order)\n",
      "/usr/local/lib/python3.7/dist-packages/skimage/transform/_warps.py:830: FutureWarning: Input image dtype is bool. Interpolation is not defined with bool data type. Please set order to 0 or explicitely cast input image to another data type. Starting from version 0.19 a ValueError will be raised instead of this warning.\n",
      "  order = _validate_interpolation_order(image.dtype, order)\n",
      "/usr/local/lib/python3.7/dist-packages/skimage/transform/_warps.py:830: FutureWarning: Input image dtype is bool. Interpolation is not defined with bool data type. Please set order to 0 or explicitely cast input image to another data type. Starting from version 0.19 a ValueError will be raised instead of this warning.\n",
      "  order = _validate_interpolation_order(image.dtype, order)\n",
      "/usr/local/lib/python3.7/dist-packages/skimage/transform/_warps.py:830: FutureWarning: Input image dtype is bool. Interpolation is not defined with bool data type. Please set order to 0 or explicitely cast input image to another data type. Starting from version 0.19 a ValueError will be raised instead of this warning.\n",
      "  order = _validate_interpolation_order(image.dtype, order)\n"
     ]
    },
    {
     "name": "stdout",
     "output_type": "stream",
     "text": [
      "Epoch 1/100\n"
     ]
    },
    {
     "name": "stderr",
     "output_type": "stream",
     "text": [
      "/usr/local/lib/python3.7/dist-packages/skimage/transform/_warps.py:830: FutureWarning: Input image dtype is bool. Interpolation is not defined with bool data type. Please set order to 0 or explicitely cast input image to another data type. Starting from version 0.19 a ValueError will be raised instead of this warning.\n",
      "  order = _validate_interpolation_order(image.dtype, order)\n",
      "/usr/local/lib/python3.7/dist-packages/skimage/transform/_warps.py:830: FutureWarning: Input image dtype is bool. Interpolation is not defined with bool data type. Please set order to 0 or explicitely cast input image to another data type. Starting from version 0.19 a ValueError will be raised instead of this warning.\n",
      "  order = _validate_interpolation_order(image.dtype, order)\n",
      "/usr/local/lib/python3.7/dist-packages/tensorflow/python/framework/indexed_slices.py:432: UserWarning: Converting sparse IndexedSlices to a dense Tensor of unknown shape. This may consume a large amount of memory.\n",
      "  \"Converting sparse IndexedSlices to a dense Tensor of unknown shape. \"\n",
      "/usr/local/lib/python3.7/dist-packages/skimage/transform/_warps.py:830: FutureWarning: Input image dtype is bool. Interpolation is not defined with bool data type. Please set order to 0 or explicitely cast input image to another data type. Starting from version 0.19 a ValueError will be raised instead of this warning.\n",
      "  order = _validate_interpolation_order(image.dtype, order)\n",
      "/usr/local/lib/python3.7/dist-packages/tensorflow/python/framework/indexed_slices.py:432: UserWarning: Converting sparse IndexedSlices to a dense Tensor of unknown shape. This may consume a large amount of memory.\n",
      "  \"Converting sparse IndexedSlices to a dense Tensor of unknown shape. \"\n",
      "/usr/local/lib/python3.7/dist-packages/skimage/transform/_warps.py:830: FutureWarning: Input image dtype is bool. Interpolation is not defined with bool data type. Please set order to 0 or explicitely cast input image to another data type. Starting from version 0.19 a ValueError will be raised instead of this warning.\n",
      "  order = _validate_interpolation_order(image.dtype, order)\n",
      "/usr/local/lib/python3.7/dist-packages/skimage/transform/_warps.py:830: FutureWarning: Input image dtype is bool. Interpolation is not defined with bool data type. Please set order to 0 or explicitely cast input image to another data type. Starting from version 0.19 a ValueError will be raised instead of this warning.\n",
      "  order = _validate_interpolation_order(image.dtype, order)\n",
      "/usr/local/lib/python3.7/dist-packages/skimage/transform/_warps.py:830: FutureWarning: Input image dtype is bool. Interpolation is not defined with bool data type. Please set order to 0 or explicitely cast input image to another data type. Starting from version 0.19 a ValueError will be raised instead of this warning.\n",
      "  order = _validate_interpolation_order(image.dtype, order)\n",
      "/usr/local/lib/python3.7/dist-packages/skimage/transform/_warps.py:830: FutureWarning: Input image dtype is bool. Interpolation is not defined with bool data type. Please set order to 0 or explicitely cast input image to another data type. Starting from version 0.19 a ValueError will be raised instead of this warning.\n",
      "  order = _validate_interpolation_order(image.dtype, order)\n",
      "/usr/local/lib/python3.7/dist-packages/tensorflow/python/framework/indexed_slices.py:432: UserWarning: Converting sparse IndexedSlices to a dense Tensor of unknown shape. This may consume a large amount of memory.\n",
      "  \"Converting sparse IndexedSlices to a dense Tensor of unknown shape. \"\n",
      "/usr/local/lib/python3.7/dist-packages/tensorflow/python/framework/indexed_slices.py:432: UserWarning: Converting sparse IndexedSlices to a dense Tensor of unknown shape. This may consume a large amount of memory.\n",
      "  \"Converting sparse IndexedSlices to a dense Tensor of unknown shape. \"\n",
      "/usr/local/lib/python3.7/dist-packages/skimage/transform/_warps.py:830: FutureWarning: Input image dtype is bool. Interpolation is not defined with bool data type. Please set order to 0 or explicitely cast input image to another data type. Starting from version 0.19 a ValueError will be raised instead of this warning.\n",
      "  order = _validate_interpolation_order(image.dtype, order)\n",
      "/usr/local/lib/python3.7/dist-packages/skimage/transform/_warps.py:830: FutureWarning: Input image dtype is bool. Interpolation is not defined with bool data type. Please set order to 0 or explicitely cast input image to another data type. Starting from version 0.19 a ValueError will be raised instead of this warning.\n",
      "  order = _validate_interpolation_order(image.dtype, order)\n",
      "/usr/local/lib/python3.7/dist-packages/skimage/transform/_warps.py:830: FutureWarning: Input image dtype is bool. Interpolation is not defined with bool data type. Please set order to 0 or explicitely cast input image to another data type. Starting from version 0.19 a ValueError will be raised instead of this warning.\n",
      "  order = _validate_interpolation_order(image.dtype, order)\n",
      "/usr/local/lib/python3.7/dist-packages/skimage/transform/_warps.py:830: FutureWarning: Input image dtype is bool. Interpolation is not defined with bool data type. Please set order to 0 or explicitely cast input image to another data type. Starting from version 0.19 a ValueError will be raised instead of this warning.\n",
      "  order = _validate_interpolation_order(image.dtype, order)\n"
     ]
    },
    {
     "name": "stdout",
     "output_type": "stream",
     "text": [
      "100/100 [==============================] - ETA: 0s - batch: 49.5000 - size: 4.0000 - loss: 3.1036 - rpn_class_loss: 0.3316 - rpn_bbox_loss: 1.3976 - mrcnn_class_loss: 0.1277 - mrcnn_bbox_loss: 0.7106 - mrcnn_mask_loss: 0.5360WARNING:tensorflow:From /usr/local/lib/python3.7/dist-packages/tensorflow/python/keras/engine/training_v1.py:2048: Model.state_updates (from tensorflow.python.keras.engine.training) is deprecated and will be removed in a future version.\n",
      "Instructions for updating:\n",
      "This property should not be used in TensorFlow 2.0, as updates are applied automatically.\n"
     ]
    },
    {
     "name": "stderr",
     "output_type": "stream",
     "text": [
      "03/12/2022 15:40:26 - WARNING - tensorflow -   From /usr/local/lib/python3.7/dist-packages/tensorflow/python/keras/engine/training_v1.py:2048: Model.state_updates (from tensorflow.python.keras.engine.training) is deprecated and will be removed in a future version.\n",
      "Instructions for updating:\n",
      "This property should not be used in TensorFlow 2.0, as updates are applied automatically.\n"
     ]
    },
    {
     "name": "stdout",
     "output_type": "stream",
     "text": [
      "\b\b\b\b\b\b\b\b\b\b\b\b\b\b\b\b\b\b\b\b\b\b\b\b\b\b\b\b\b\b\b\b\b\b\b\b\b\b\b\b\b\b\b\b\b\b\b\b\b\b\b\b\b\b\b\b\b\b\b\b\b\b\b\b\b\b\b\b\b\b\b\b\b\b\b\b\b\b\b\b\b\b\b\b\b\b\b\b\b\b\b\b\b\b\b\b\b\b\b\b\b\b\b\b\b\b\b\b\b\b\b\b\b\b\b\b\b\b\b\b\b\b\b\b\b\b\b\b\b\b\b\b\b\b\b\b\b\b\b\b\b\b\b\b\b\b\b\b\b\b\b\b\b\b\b\b\b\b\b\b\b\b\b\b\b\b\b\b\b\b\b\b\b\b\b\b\b\b\b\b\b\b\b\b\b\b\b\b\b\b\b\b\b\b\b\b\b\b\b\b\b\b\b\b\b\b\b\b\b\b\b\b\b\b\b\b\b\b\b\b\b\b\b\b\b\r",
      "100/100 [==============================] - 351s 4s/step - batch: 49.5000 - size: 4.0000 - loss: 3.1036 - rpn_class_loss: 0.3316 - rpn_bbox_loss: 1.3976 - mrcnn_class_loss: 0.1277 - mrcnn_bbox_loss: 0.7106 - mrcnn_mask_loss: 0.5360 - val_loss: 2.7642 - val_rpn_class_loss: 0.2468 - val_rpn_bbox_loss: 1.1445 - val_mrcnn_class_loss: 0.1432 - val_mrcnn_bbox_loss: 0.6807 - val_mrcnn_mask_loss: 0.5490\n",
      "Epoch 2/100\n",
      "100/100 [==============================] - 329s 3s/step - batch: 49.5000 - size: 4.0000 - loss: 2.8033 - rpn_class_loss: 0.2659 - rpn_bbox_loss: 1.3371 - mrcnn_class_loss: 0.1005 - mrcnn_bbox_loss: 0.5763 - mrcnn_mask_loss: 0.5234 - val_loss: 3.0699 - val_rpn_class_loss: 0.2040 - val_rpn_bbox_loss: 1.5941 - val_mrcnn_class_loss: 0.1172 - val_mrcnn_bbox_loss: 0.6435 - val_mrcnn_mask_loss: 0.5111\n",
      "Epoch 3/100\n",
      "100/100 [==============================] - 370s 4s/step - batch: 49.5000 - size: 4.0000 - loss: 2.5927 - rpn_class_loss: 0.2171 - rpn_bbox_loss: 1.2965 - mrcnn_class_loss: 0.1206 - mrcnn_bbox_loss: 0.4998 - mrcnn_mask_loss: 0.4588 - val_loss: 2.5118 - val_rpn_class_loss: 0.1885 - val_rpn_bbox_loss: 1.0536 - val_mrcnn_class_loss: 0.2203 - val_mrcnn_bbox_loss: 0.5273 - val_mrcnn_mask_loss: 0.5221\n",
      "Epoch 4/100\n",
      "100/100 [==============================] - 326s 3s/step - batch: 49.5000 - size: 4.0000 - loss: 2.4364 - rpn_class_loss: 0.2140 - rpn_bbox_loss: 1.2021 - mrcnn_class_loss: 0.1410 - mrcnn_bbox_loss: 0.4465 - mrcnn_mask_loss: 0.4328 - val_loss: 2.4652 - val_rpn_class_loss: 0.1691 - val_rpn_bbox_loss: 1.0582 - val_mrcnn_class_loss: 0.2627 - val_mrcnn_bbox_loss: 0.5494 - val_mrcnn_mask_loss: 0.4258\n",
      "Epoch 5/100\n",
      "100/100 [==============================] - 324s 3s/step - batch: 49.5000 - size: 4.0000 - loss: 2.2646 - rpn_class_loss: 0.1827 - rpn_bbox_loss: 1.1308 - mrcnn_class_loss: 0.1231 - mrcnn_bbox_loss: 0.4273 - mrcnn_mask_loss: 0.4007 - val_loss: 2.2585 - val_rpn_class_loss: 0.1410 - val_rpn_bbox_loss: 1.0758 - val_mrcnn_class_loss: 0.1833 - val_mrcnn_bbox_loss: 0.4559 - val_mrcnn_mask_loss: 0.4024\n",
      "Epoch 6/100\n",
      "100/100 [==============================] - 368s 4s/step - batch: 49.5000 - size: 4.0000 - loss: 2.2581 - rpn_class_loss: 0.1681 - rpn_bbox_loss: 1.1530 - mrcnn_class_loss: 0.1134 - mrcnn_bbox_loss: 0.4192 - mrcnn_mask_loss: 0.4044 - val_loss: 2.2595 - val_rpn_class_loss: 0.1563 - val_rpn_bbox_loss: 0.9493 - val_mrcnn_class_loss: 0.2110 - val_mrcnn_bbox_loss: 0.4891 - val_mrcnn_mask_loss: 0.4539\n",
      "Epoch 7/100\n",
      "100/100 [==============================] - 330s 3s/step - batch: 49.5000 - size: 4.0000 - loss: 2.2033 - rpn_class_loss: 0.1662 - rpn_bbox_loss: 1.1160 - mrcnn_class_loss: 0.1167 - mrcnn_bbox_loss: 0.4070 - mrcnn_mask_loss: 0.3974 - val_loss: 2.6172 - val_rpn_class_loss: 0.2177 - val_rpn_bbox_loss: 1.0401 - val_mrcnn_class_loss: 0.2583 - val_mrcnn_bbox_loss: 0.5061 - val_mrcnn_mask_loss: 0.5950\n",
      "Epoch 8/100\n",
      "100/100 [==============================] - 377s 4s/step - batch: 49.5000 - size: 4.0000 - loss: 1.9987 - rpn_class_loss: 0.1456 - rpn_bbox_loss: 0.9602 - mrcnn_class_loss: 0.1241 - mrcnn_bbox_loss: 0.3877 - mrcnn_mask_loss: 0.3811 - val_loss: 2.5631 - val_rpn_class_loss: 0.1619 - val_rpn_bbox_loss: 0.9551 - val_mrcnn_class_loss: 0.3736 - val_mrcnn_bbox_loss: 0.5739 - val_mrcnn_mask_loss: 0.4986\n",
      "Epoch 9/100\n",
      "100/100 [==============================] - 325s 3s/step - batch: 49.5000 - size: 4.0000 - loss: 2.0584 - rpn_class_loss: 0.1485 - rpn_bbox_loss: 1.0472 - mrcnn_class_loss: 0.1202 - mrcnn_bbox_loss: 0.3649 - mrcnn_mask_loss: 0.3777 - val_loss: 2.9622 - val_rpn_class_loss: 0.1489 - val_rpn_bbox_loss: 1.2028 - val_mrcnn_class_loss: 0.4183 - val_mrcnn_bbox_loss: 0.5805 - val_mrcnn_mask_loss: 0.6117\n",
      "Epoch 10/100\n",
      "100/100 [==============================] - 328s 3s/step - batch: 49.5000 - size: 4.0000 - loss: 1.9849 - rpn_class_loss: 0.1366 - rpn_bbox_loss: 0.9940 - mrcnn_class_loss: 0.1204 - mrcnn_bbox_loss: 0.3667 - mrcnn_mask_loss: 0.3673 - val_loss: 2.4760 - val_rpn_class_loss: 0.1590 - val_rpn_bbox_loss: 1.0199 - val_mrcnn_class_loss: 0.1832 - val_mrcnn_bbox_loss: 0.4976 - val_mrcnn_mask_loss: 0.6163\n",
      "Epoch 11/100\n",
      "100/100 [==============================] - 370s 4s/step - batch: 49.5000 - size: 4.0000 - loss: 2.0043 - rpn_class_loss: 0.1453 - rpn_bbox_loss: 1.0172 - mrcnn_class_loss: 0.1092 - mrcnn_bbox_loss: 0.3591 - mrcnn_mask_loss: 0.3735 - val_loss: 2.5091 - val_rpn_class_loss: 0.1532 - val_rpn_bbox_loss: 0.9638 - val_mrcnn_class_loss: 0.2995 - val_mrcnn_bbox_loss: 0.5462 - val_mrcnn_mask_loss: 0.5464\n",
      "Epoch 12/100\n",
      "100/100 [==============================] - 333s 3s/step - batch: 49.5000 - size: 4.0000 - loss: 1.9248 - rpn_class_loss: 0.1324 - rpn_bbox_loss: 0.9799 - mrcnn_class_loss: 0.1115 - mrcnn_bbox_loss: 0.3474 - mrcnn_mask_loss: 0.3536 - val_loss: 2.1897 - val_rpn_class_loss: 0.1413 - val_rpn_bbox_loss: 1.0465 - val_mrcnn_class_loss: 0.1216 - val_mrcnn_bbox_loss: 0.4599 - val_mrcnn_mask_loss: 0.4205\n",
      "Epoch 13/100\n",
      "100/100 [==============================] - 357s 4s/step - batch: 49.5000 - size: 4.0000 - loss: 1.8844 - rpn_class_loss: 0.1386 - rpn_bbox_loss: 0.9696 - mrcnn_class_loss: 0.0886 - mrcnn_bbox_loss: 0.3390 - mrcnn_mask_loss: 0.3487 - val_loss: 2.3683 - val_rpn_class_loss: 0.1075 - val_rpn_bbox_loss: 1.0222 - val_mrcnn_class_loss: 0.3061 - val_mrcnn_bbox_loss: 0.4835 - val_mrcnn_mask_loss: 0.4490\n",
      "Epoch 14/100\n",
      "100/100 [==============================] - 355s 4s/step - batch: 49.5000 - size: 4.0000 - loss: 1.8283 - rpn_class_loss: 0.1172 - rpn_bbox_loss: 0.9207 - mrcnn_class_loss: 0.1040 - mrcnn_bbox_loss: 0.3245 - mrcnn_mask_loss: 0.3619 - val_loss: 2.5769 - val_rpn_class_loss: 0.2029 - val_rpn_bbox_loss: 1.0585 - val_mrcnn_class_loss: 0.4139 - val_mrcnn_bbox_loss: 0.4742 - val_mrcnn_mask_loss: 0.4272\n",
      "Epoch 15/100\n",
      "100/100 [==============================] - 324s 3s/step - batch: 49.5000 - size: 4.0000 - loss: 1.8125 - rpn_class_loss: 0.1262 - rpn_bbox_loss: 0.9016 - mrcnn_class_loss: 0.1159 - mrcnn_bbox_loss: 0.3120 - mrcnn_mask_loss: 0.3567 - val_loss: 2.5328 - val_rpn_class_loss: 0.1454 - val_rpn_bbox_loss: 1.2929 - val_mrcnn_class_loss: 0.1809 - val_mrcnn_bbox_loss: 0.4349 - val_mrcnn_mask_loss: 0.4787\n",
      "Epoch 16/100\n",
      "100/100 [==============================] - 389s 4s/step - batch: 49.5000 - size: 4.0000 - loss: 1.9595 - rpn_class_loss: 0.1279 - rpn_bbox_loss: 1.0598 - mrcnn_class_loss: 0.0981 - mrcnn_bbox_loss: 0.3300 - mrcnn_mask_loss: 0.3437 - val_loss: 2.3982 - val_rpn_class_loss: 0.1380 - val_rpn_bbox_loss: 0.9803 - val_mrcnn_class_loss: 0.2296 - val_mrcnn_bbox_loss: 0.5023 - val_mrcnn_mask_loss: 0.5481\n",
      "Epoch 17/100\n",
      "100/100 [==============================] - 330s 3s/step - batch: 49.5000 - size: 4.0000 - loss: 1.8020 - rpn_class_loss: 0.1234 - rpn_bbox_loss: 0.9233 - mrcnn_class_loss: 0.0923 - mrcnn_bbox_loss: 0.3133 - mrcnn_mask_loss: 0.3498 - val_loss: 2.4302 - val_rpn_class_loss: 0.1424 - val_rpn_bbox_loss: 0.8772 - val_mrcnn_class_loss: 0.3844 - val_mrcnn_bbox_loss: 0.5190 - val_mrcnn_mask_loss: 0.5073\n",
      "Epoch 18/100\n",
      "100/100 [==============================] - 364s 4s/step - batch: 49.5000 - size: 4.0000 - loss: 1.6207 - rpn_class_loss: 0.1145 - rpn_bbox_loss: 0.7900 - mrcnn_class_loss: 0.1048 - mrcnn_bbox_loss: 0.2921 - mrcnn_mask_loss: 0.3193 - val_loss: 2.5947 - val_rpn_class_loss: 0.1274 - val_rpn_bbox_loss: 1.1635 - val_mrcnn_class_loss: 0.2766 - val_mrcnn_bbox_loss: 0.4709 - val_mrcnn_mask_loss: 0.5564\n",
      "Epoch 19/100\n",
      "100/100 [==============================] - 342s 3s/step - batch: 49.5000 - size: 4.0000 - loss: 1.8843 - rpn_class_loss: 0.1222 - rpn_bbox_loss: 1.0541 - mrcnn_class_loss: 0.0872 - mrcnn_bbox_loss: 0.2945 - mrcnn_mask_loss: 0.3261 - val_loss: 2.5888 - val_rpn_class_loss: 0.1679 - val_rpn_bbox_loss: 1.0320 - val_mrcnn_class_loss: 0.3493 - val_mrcnn_bbox_loss: 0.4660 - val_mrcnn_mask_loss: 0.5737\n",
      "Epoch 20/100\n",
      "100/100 [==============================] - 322s 3s/step - batch: 49.5000 - size: 4.0000 - loss: 1.5895 - rpn_class_loss: 0.1103 - rpn_bbox_loss: 0.7395 - mrcnn_class_loss: 0.1013 - mrcnn_bbox_loss: 0.2890 - mrcnn_mask_loss: 0.3494 - val_loss: 2.3056 - val_rpn_class_loss: 0.1417 - val_rpn_bbox_loss: 0.9187 - val_mrcnn_class_loss: 0.3413 - val_mrcnn_bbox_loss: 0.4624 - val_mrcnn_mask_loss: 0.4414\n",
      "Epoch 21/100\n",
      "100/100 [==============================] - 381s 4s/step - batch: 49.5000 - size: 4.0000 - loss: 1.5724 - rpn_class_loss: 0.1040 - rpn_bbox_loss: 0.7617 - mrcnn_class_loss: 0.1012 - mrcnn_bbox_loss: 0.2939 - mrcnn_mask_loss: 0.3115 - val_loss: 2.3376 - val_rpn_class_loss: 0.1558 - val_rpn_bbox_loss: 1.0261 - val_mrcnn_class_loss: 0.2213 - val_mrcnn_bbox_loss: 0.4352 - val_mrcnn_mask_loss: 0.4993\n",
      "Epoch 22/100\n",
      "100/100 [==============================] - 334s 3s/step - batch: 49.5000 - size: 4.0000 - loss: 1.4674 - rpn_class_loss: 0.0873 - rpn_bbox_loss: 0.7240 - mrcnn_class_loss: 0.0923 - mrcnn_bbox_loss: 0.2622 - mrcnn_mask_loss: 0.3016 - val_loss: 2.4508 - val_rpn_class_loss: 0.2605 - val_rpn_bbox_loss: 1.0659 - val_mrcnn_class_loss: 0.2394 - val_mrcnn_bbox_loss: 0.4353 - val_mrcnn_mask_loss: 0.4497\n",
      "Epoch 23/100\n",
      "100/100 [==============================] - 324s 3s/step - batch: 49.5000 - size: 4.0000 - loss: 1.6305 - rpn_class_loss: 0.0948 - rpn_bbox_loss: 0.8378 - mrcnn_class_loss: 0.1054 - mrcnn_bbox_loss: 0.2781 - mrcnn_mask_loss: 0.3144 - val_loss: 2.7089 - val_rpn_class_loss: 0.1759 - val_rpn_bbox_loss: 1.1365 - val_mrcnn_class_loss: 0.3067 - val_mrcnn_bbox_loss: 0.5382 - val_mrcnn_mask_loss: 0.5516\n",
      "Epoch 24/100\n",
      "100/100 [==============================] - 375s 4s/step - batch: 49.5000 - size: 4.0000 - loss: 1.4064 - rpn_class_loss: 0.0919 - rpn_bbox_loss: 0.6683 - mrcnn_class_loss: 0.0888 - mrcnn_bbox_loss: 0.2642 - mrcnn_mask_loss: 0.2933 - val_loss: 2.5606 - val_rpn_class_loss: 0.1613 - val_rpn_bbox_loss: 1.2128 - val_mrcnn_class_loss: 0.2664 - val_mrcnn_bbox_loss: 0.4512 - val_mrcnn_mask_loss: 0.4690\n",
      "Epoch 25/100\n",
      "100/100 [==============================] - 330s 3s/step - batch: 49.5000 - size: 4.0000 - loss: 1.6504 - rpn_class_loss: 0.1054 - rpn_bbox_loss: 0.8796 - mrcnn_class_loss: 0.0987 - mrcnn_bbox_loss: 0.2683 - mrcnn_mask_loss: 0.2984 - val_loss: 2.4946 - val_rpn_class_loss: 0.1298 - val_rpn_bbox_loss: 0.8990 - val_mrcnn_class_loss: 0.3795 - val_mrcnn_bbox_loss: 0.5422 - val_mrcnn_mask_loss: 0.5443\n",
      "Epoch 26/100\n",
      "100/100 [==============================] - 365s 4s/step - batch: 49.5000 - size: 4.0000 - loss: 1.4683 - rpn_class_loss: 0.0852 - rpn_bbox_loss: 0.7525 - mrcnn_class_loss: 0.0915 - mrcnn_bbox_loss: 0.2510 - mrcnn_mask_loss: 0.2881 - val_loss: 2.6708 - val_rpn_class_loss: 0.1423 - val_rpn_bbox_loss: 0.9973 - val_mrcnn_class_loss: 0.4149 - val_mrcnn_bbox_loss: 0.5030 - val_mrcnn_mask_loss: 0.6133\n",
      "Epoch 27/100\n",
      "100/100 [==============================] - 356s 4s/step - batch: 49.5000 - size: 4.0000 - loss: 1.4337 - rpn_class_loss: 0.0856 - rpn_bbox_loss: 0.6905 - mrcnn_class_loss: 0.0909 - mrcnn_bbox_loss: 0.2586 - mrcnn_mask_loss: 0.3082 - val_loss: 2.7338 - val_rpn_class_loss: 0.1684 - val_rpn_bbox_loss: 1.0895 - val_mrcnn_class_loss: 0.4078 - val_mrcnn_bbox_loss: 0.4920 - val_mrcnn_mask_loss: 0.5761\n",
      "Epoch 28/100\n",
      "100/100 [==============================] - 332s 3s/step - batch: 49.5000 - size: 4.0000 - loss: 1.4612 - rpn_class_loss: 0.0824 - rpn_bbox_loss: 0.7202 - mrcnn_class_loss: 0.0926 - mrcnn_bbox_loss: 0.2664 - mrcnn_mask_loss: 0.2996 - val_loss: 2.6673 - val_rpn_class_loss: 0.1662 - val_rpn_bbox_loss: 1.0714 - val_mrcnn_class_loss: 0.3920 - val_mrcnn_bbox_loss: 0.5118 - val_mrcnn_mask_loss: 0.5258\n",
      "Epoch 29/100\n",
      "100/100 [==============================] - 361s 4s/step - batch: 49.5000 - size: 4.0000 - loss: 1.4699 - rpn_class_loss: 0.0860 - rpn_bbox_loss: 0.7273 - mrcnn_class_loss: 0.0888 - mrcnn_bbox_loss: 0.2611 - mrcnn_mask_loss: 0.3065 - val_loss: 2.2535 - val_rpn_class_loss: 0.1351 - val_rpn_bbox_loss: 0.9468 - val_mrcnn_class_loss: 0.3502 - val_mrcnn_bbox_loss: 0.4439 - val_mrcnn_mask_loss: 0.3776\n",
      "Epoch 30/100\n",
      "100/100 [==============================] - 326s 3s/step - batch: 49.5000 - size: 4.0000 - loss: 1.4342 - rpn_class_loss: 0.0876 - rpn_bbox_loss: 0.7303 - mrcnn_class_loss: 0.0902 - mrcnn_bbox_loss: 0.2538 - mrcnn_mask_loss: 0.2723 - val_loss: 2.5088 - val_rpn_class_loss: 0.1424 - val_rpn_bbox_loss: 0.9624 - val_mrcnn_class_loss: 0.3326 - val_mrcnn_bbox_loss: 0.4906 - val_mrcnn_mask_loss: 0.5808\n",
      "Epoch 31/100\n",
      "100/100 [==============================] - 381s 4s/step - batch: 49.5000 - size: 4.0000 - loss: 1.4220 - rpn_class_loss: 0.0762 - rpn_bbox_loss: 0.7349 - mrcnn_class_loss: 0.0896 - mrcnn_bbox_loss: 0.2360 - mrcnn_mask_loss: 0.2852 - val_loss: 2.5151 - val_rpn_class_loss: 0.1438 - val_rpn_bbox_loss: 0.9527 - val_mrcnn_class_loss: 0.4364 - val_mrcnn_bbox_loss: 0.5102 - val_mrcnn_mask_loss: 0.4720\n",
      "Epoch 32/100\n",
      "100/100 [==============================] - 334s 3s/step - batch: 49.5000 - size: 4.0000 - loss: 1.5129 - rpn_class_loss: 0.0895 - rpn_bbox_loss: 0.7719 - mrcnn_class_loss: 0.0871 - mrcnn_bbox_loss: 0.2568 - mrcnn_mask_loss: 0.3076 - val_loss: 2.8216 - val_rpn_class_loss: 0.1892 - val_rpn_bbox_loss: 1.1923 - val_mrcnn_class_loss: 0.3675 - val_mrcnn_bbox_loss: 0.4840 - val_mrcnn_mask_loss: 0.5887\n",
      "Epoch 33/100\n",
      "100/100 [==============================] - 326s 3s/step - batch: 49.5000 - size: 4.0000 - loss: 1.2738 - rpn_class_loss: 0.0754 - rpn_bbox_loss: 0.6121 - mrcnn_class_loss: 0.0833 - mrcnn_bbox_loss: 0.2286 - mrcnn_mask_loss: 0.2744 - val_loss: 2.7190 - val_rpn_class_loss: 0.1633 - val_rpn_bbox_loss: 1.1741 - val_mrcnn_class_loss: 0.3037 - val_mrcnn_bbox_loss: 0.5362 - val_mrcnn_mask_loss: 0.5418\n",
      "Epoch 34/100\n",
      "100/100 [==============================] - 366s 4s/step - batch: 49.5000 - size: 4.0000 - loss: 1.3581 - rpn_class_loss: 0.0823 - rpn_bbox_loss: 0.6741 - mrcnn_class_loss: 0.0854 - mrcnn_bbox_loss: 0.2348 - mrcnn_mask_loss: 0.2815 - val_loss: 2.6424 - val_rpn_class_loss: 0.1381 - val_rpn_bbox_loss: 0.9148 - val_mrcnn_class_loss: 0.3593 - val_mrcnn_bbox_loss: 0.5074 - val_mrcnn_mask_loss: 0.7228\n",
      "Epoch 35/100\n",
      "100/100 [==============================] - 323s 3s/step - batch: 49.5000 - size: 4.0000 - loss: 1.3265 - rpn_class_loss: 0.0765 - rpn_bbox_loss: 0.6723 - mrcnn_class_loss: 0.0879 - mrcnn_bbox_loss: 0.2174 - mrcnn_mask_loss: 0.2724 - val_loss: 2.4873 - val_rpn_class_loss: 0.1118 - val_rpn_bbox_loss: 0.9010 - val_mrcnn_class_loss: 0.3273 - val_mrcnn_bbox_loss: 0.4908 - val_mrcnn_mask_loss: 0.6565\n",
      "Epoch 36/100\n",
      "100/100 [==============================] - 369s 4s/step - batch: 49.5000 - size: 4.0000 - loss: 1.3113 - rpn_class_loss: 0.0739 - rpn_bbox_loss: 0.6519 - mrcnn_class_loss: 0.0816 - mrcnn_bbox_loss: 0.2293 - mrcnn_mask_loss: 0.2747 - val_loss: 2.7033 - val_rpn_class_loss: 0.1271 - val_rpn_bbox_loss: 0.9919 - val_mrcnn_class_loss: 0.4654 - val_mrcnn_bbox_loss: 0.5564 - val_mrcnn_mask_loss: 0.5624\n",
      "Epoch 37/100\n",
      "100/100 [==============================] - 329s 3s/step - batch: 49.5000 - size: 4.0000 - loss: 1.2894 - rpn_class_loss: 0.0692 - rpn_bbox_loss: 0.6386 - mrcnn_class_loss: 0.0727 - mrcnn_bbox_loss: 0.2275 - mrcnn_mask_loss: 0.2813 - val_loss: 2.5556 - val_rpn_class_loss: 0.1540 - val_rpn_bbox_loss: 0.8675 - val_mrcnn_class_loss: 0.3755 - val_mrcnn_bbox_loss: 0.5268 - val_mrcnn_mask_loss: 0.6319\n",
      "Epoch 38/100\n",
      "100/100 [==============================] - 321s 3s/step - batch: 49.5000 - size: 4.0000 - loss: 1.3169 - rpn_class_loss: 0.0663 - rpn_bbox_loss: 0.6978 - mrcnn_class_loss: 0.0771 - mrcnn_bbox_loss: 0.2116 - mrcnn_mask_loss: 0.2642 - val_loss: 2.5835 - val_rpn_class_loss: 0.1542 - val_rpn_bbox_loss: 0.8639 - val_mrcnn_class_loss: 0.4428 - val_mrcnn_bbox_loss: 0.5701 - val_mrcnn_mask_loss: 0.5524\n",
      "Epoch 39/100\n",
      "100/100 [==============================] - 376s 4s/step - batch: 49.5000 - size: 4.0000 - loss: 1.2883 - rpn_class_loss: 0.0728 - rpn_bbox_loss: 0.6467 - mrcnn_class_loss: 0.0799 - mrcnn_bbox_loss: 0.2153 - mrcnn_mask_loss: 0.2736 - val_loss: 2.6394 - val_rpn_class_loss: 0.1789 - val_rpn_bbox_loss: 1.0902 - val_mrcnn_class_loss: 0.3308 - val_mrcnn_bbox_loss: 0.5103 - val_mrcnn_mask_loss: 0.5293\n",
      "Epoch 40/100\n",
      "100/100 [==============================] - 343s 3s/step - batch: 49.5000 - size: 4.0000 - loss: 1.2995 - rpn_class_loss: 0.0688 - rpn_bbox_loss: 0.7061 - mrcnn_class_loss: 0.0723 - mrcnn_bbox_loss: 0.1927 - mrcnn_mask_loss: 0.2596 - val_loss: 2.5400 - val_rpn_class_loss: 0.1586 - val_rpn_bbox_loss: 0.9676 - val_mrcnn_class_loss: 0.3168 - val_mrcnn_bbox_loss: 0.5398 - val_mrcnn_mask_loss: 0.5572\n",
      "Epoch 41/100\n",
      "100/100 [==============================] - 322s 3s/step - batch: 49.5000 - size: 4.0000 - loss: 1.3030 - rpn_class_loss: 0.0732 - rpn_bbox_loss: 0.6574 - mrcnn_class_loss: 0.0828 - mrcnn_bbox_loss: 0.2132 - mrcnn_mask_loss: 0.2764 - val_loss: 2.5021 - val_rpn_class_loss: 0.1112 - val_rpn_bbox_loss: 0.8740 - val_mrcnn_class_loss: 0.3632 - val_mrcnn_bbox_loss: 0.5055 - val_mrcnn_mask_loss: 0.6481\n",
      "Epoch 42/100\n",
      "100/100 [==============================] - 387s 4s/step - batch: 49.5000 - size: 4.0000 - loss: 1.1704 - rpn_class_loss: 0.0634 - rpn_bbox_loss: 0.5621 - mrcnn_class_loss: 0.0694 - mrcnn_bbox_loss: 0.2076 - mrcnn_mask_loss: 0.2678 - val_loss: 2.8459 - val_rpn_class_loss: 0.2105 - val_rpn_bbox_loss: 1.0357 - val_mrcnn_class_loss: 0.3811 - val_mrcnn_bbox_loss: 0.5534 - val_mrcnn_mask_loss: 0.6652\n",
      "Epoch 43/100\n",
      "100/100 [==============================] - 341s 3s/step - batch: 49.5000 - size: 4.0000 - loss: 1.1555 - rpn_class_loss: 0.0678 - rpn_bbox_loss: 0.5455 - mrcnn_class_loss: 0.0840 - mrcnn_bbox_loss: 0.1973 - mrcnn_mask_loss: 0.2608 - val_loss: 2.7182 - val_rpn_class_loss: 0.1907 - val_rpn_bbox_loss: 1.0363 - val_mrcnn_class_loss: 0.3571 - val_mrcnn_bbox_loss: 0.4619 - val_mrcnn_mask_loss: 0.6722\n",
      "Epoch 44/100\n",
      "100/100 [==============================] - 366s 4s/step - batch: 49.5000 - size: 4.0000 - loss: 1.2479 - rpn_class_loss: 0.0662 - rpn_bbox_loss: 0.6412 - mrcnn_class_loss: 0.0722 - mrcnn_bbox_loss: 0.2139 - mrcnn_mask_loss: 0.2545 - val_loss: 2.4255 - val_rpn_class_loss: 0.1658 - val_rpn_bbox_loss: 0.8611 - val_mrcnn_class_loss: 0.2829 - val_mrcnn_bbox_loss: 0.4558 - val_mrcnn_mask_loss: 0.6598\n",
      "Epoch 45/100\n",
      "100/100 [==============================] - 327s 3s/step - batch: 49.5000 - size: 4.0000 - loss: 1.1528 - rpn_class_loss: 0.0548 - rpn_bbox_loss: 0.5707 - mrcnn_class_loss: 0.0734 - mrcnn_bbox_loss: 0.1905 - mrcnn_mask_loss: 0.2634 - val_loss: 2.6102 - val_rpn_class_loss: 0.2118 - val_rpn_bbox_loss: 0.9449 - val_mrcnn_class_loss: 0.4206 - val_mrcnn_bbox_loss: 0.4865 - val_mrcnn_mask_loss: 0.5464\n",
      "Epoch 46/100\n",
      "100/100 [==============================] - 331s 3s/step - batch: 49.5000 - size: 4.0000 - loss: 1.1393 - rpn_class_loss: 0.0588 - rpn_bbox_loss: 0.5550 - mrcnn_class_loss: 0.0757 - mrcnn_bbox_loss: 0.1971 - mrcnn_mask_loss: 0.2526 - val_loss: 2.7545 - val_rpn_class_loss: 0.1634 - val_rpn_bbox_loss: 1.1511 - val_mrcnn_class_loss: 0.3120 - val_mrcnn_bbox_loss: 0.5113 - val_mrcnn_mask_loss: 0.6168\n",
      "Epoch 47/100\n",
      " 57/100 [================>.............] - ETA: 1:53 - batch: 28.0000 - size: 4.0000 - loss: 1.0078 - rpn_class_loss: 0.0486 - rpn_bbox_loss: 0.4829 - mrcnn_class_loss: 0.0584 - mrcnn_bbox_loss: 0.1884 - mrcnn_mask_loss: 0.2295"
     ]
    }
   ],
   "source": [
    "train_maskrcnn.train_model(num_epochs = 100, augmentation=True, path_trained_models= \"/content/drive/MyDrive/structures/mask_rcnn_models\")\n",
    "  "
   ]
  },
  {
   "cell_type": "code",
   "execution_count": 5,
   "metadata": {
    "colab": {
     "base_uri": "https://localhost:8080/"
    },
    "executionInfo": {
     "elapsed": 335434,
     "status": "ok",
     "timestamp": 1647130128081,
     "user": {
      "displayName": "Fabrício Botelho",
      "photoUrl": "https://lh3.googleusercontent.com/a/default-user=s64",
      "userId": "01080532620311760965"
     },
     "user_tz": 0
    },
    "id": "SUNaxc5KPQyC",
    "outputId": "7cbb8071-eec5-48e5-a339-13e9e1822900"
   },
   "outputs": [
    {
     "name": "stdout",
     "output_type": "stream",
     "text": [
      "Using resnet50 as network backbone For Mask R-CNN model\n",
      "WARNING:tensorflow:From /usr/local/lib/python3.7/dist-packages/tensorflow/python/util/deprecation.py:574: calling map_fn_v2 (from tensorflow.python.ops.map_fn) with dtype is deprecated and will be removed in a future version.\n",
      "Instructions for updating:\n",
      "Use fn_output_signature instead\n"
     ]
    },
    {
     "name": "stderr",
     "output_type": "stream",
     "text": [
      "03/13/2022 00:03:16 - WARNING - tensorflow -   From /usr/local/lib/python3.7/dist-packages/tensorflow/python/util/deprecation.py:574: calling map_fn_v2 (from tensorflow.python.ops.map_fn) with dtype is deprecated and will be removed in a future version.\n",
      "Instructions for updating:\n",
      "Use fn_output_signature instead\n"
     ]
    },
    {
     "name": "stdout",
     "output_type": "stream",
     "text": [
      "WARNING:tensorflow:From /usr/local/lib/python3.7/dist-packages/tensorflow/python/keras/engine/training_v1.py:2070: Model.state_updates (from tensorflow.python.keras.engine.training) is deprecated and will be removed in a future version.\n",
      "Instructions for updating:\n",
      "This property should not be used in TensorFlow 2.0, as updates are applied automatically.\n"
     ]
    },
    {
     "name": "stderr",
     "output_type": "stream",
     "text": [
      "03/13/2022 00:03:21 - WARNING - tensorflow -   From /usr/local/lib/python3.7/dist-packages/tensorflow/python/keras/engine/training_v1.py:2070: Model.state_updates (from tensorflow.python.keras.engine.training) is deprecated and will be removed in a future version.\n",
      "Instructions for updating:\n",
      "This property should not be used in TensorFlow 2.0, as updates are applied automatically.\n"
     ]
    },
    {
     "name": "stdout",
     "output_type": "stream",
     "text": [
      "/content/drive/MyDrive/structures/mask_rcnn.h5 evaluation using iou_threshold 0.5 is 0.000000 \n",
      "\n"
     ]
    }
   ],
   "source": [
    "#Evaluate the models \n",
    "train_evaluate = instance_custom_training()\n",
    "train_evaluate.modelConfig(network_backbone = \"resnet50\", num_classes= 3)\n",
    "train_evaluate.load_dataset(\"/content/drive/MyDrive/structures\")\n",
    "train_evaluate.evaluate_model(\"/content/drive/MyDrive/structures/mask_rcnn.h5\")"
   ]
  },
  {
   "cell_type": "code",
   "execution_count": 5,
   "metadata": {
    "colab": {
     "base_uri": "https://localhost:8080/"
    },
    "executionInfo": {
     "elapsed": 18463,
     "status": "ok",
     "timestamp": 1647129526806,
     "user": {
      "displayName": "Fabrício Botelho",
      "photoUrl": "https://lh3.googleusercontent.com/a/default-user=s64",
      "userId": "01080532620311760965"
     },
     "user_tz": 0
    },
    "id": "2Q8VOzmMUsc5",
    "outputId": "56794b6b-d34c-47f3-dbff-c04a2cd40937"
   },
   "outputs": [
    {
     "name": "stdout",
     "output_type": "stream",
     "text": [
      "Processed image saved successfully in your current working directory.\n"
     ]
    },
    {
     "data": {
      "text/plain": [
       "({'class_ids': array([2], dtype=int32), 'masks': array([[[False],\n",
       "          [False],\n",
       "          [False],\n",
       "          ...,\n",
       "          [False],\n",
       "          [False],\n",
       "          [False]],\n",
       "  \n",
       "         [[False],\n",
       "          [False],\n",
       "          [False],\n",
       "          ...,\n",
       "          [False],\n",
       "          [False],\n",
       "          [False]],\n",
       "  \n",
       "         [[False],\n",
       "          [False],\n",
       "          [False],\n",
       "          ...,\n",
       "          [False],\n",
       "          [False],\n",
       "          [False]],\n",
       "  \n",
       "         ...,\n",
       "  \n",
       "         [[False],\n",
       "          [False],\n",
       "          [False],\n",
       "          ...,\n",
       "          [False],\n",
       "          [False],\n",
       "          [False]],\n",
       "  \n",
       "         [[False],\n",
       "          [False],\n",
       "          [False],\n",
       "          ...,\n",
       "          [False],\n",
       "          [False],\n",
       "          [False]],\n",
       "  \n",
       "         [[False],\n",
       "          [False],\n",
       "          [False],\n",
       "          ...,\n",
       "          [False],\n",
       "          [False],\n",
       "          [False]]]), 'rois': array([[ 181,  310, 1122, 1365]], dtype=int32), 'scores': array([0.7307579], dtype=float32)},\n",
       " array([[[106, 110, 134],\n",
       "         [106, 110, 134],\n",
       "         [104, 108, 132],\n",
       "         ...,\n",
       "         [127, 142, 175],\n",
       "         [124, 139, 172],\n",
       "         [119, 134, 167]],\n",
       " \n",
       "        [[ 97, 101, 125],\n",
       "         [107, 111, 135],\n",
       "         [115, 119, 143],\n",
       "         ...,\n",
       "         [127, 142, 175],\n",
       "         [122, 137, 170],\n",
       "         [117, 132, 165]],\n",
       " \n",
       "        [[112, 116, 140],\n",
       "         [108, 112, 136],\n",
       "         [104, 108, 132],\n",
       "         ...,\n",
       "         [125, 140, 173],\n",
       "         [122, 137, 170],\n",
       "         [119, 134, 167]],\n",
       " \n",
       "        ...,\n",
       " \n",
       "        [[127, 137, 167],\n",
       "         [115, 126, 154],\n",
       "         [ 82,  96, 119],\n",
       "         ...,\n",
       "         [126, 137, 167],\n",
       "         [137, 151, 180],\n",
       "         [135, 151, 180]],\n",
       " \n",
       "        [[121, 130, 163],\n",
       "         [124, 135, 165],\n",
       "         [111, 126, 152],\n",
       "         ...,\n",
       "         [120, 134, 163],\n",
       "         [134, 148, 177],\n",
       "         [139, 155, 184]],\n",
       " \n",
       "        [[110, 121, 151],\n",
       "         [118, 132, 161],\n",
       "         [129, 147, 176],\n",
       "         ...,\n",
       "         [138, 150, 178],\n",
       "         [130, 144, 172],\n",
       "         [119, 133, 161]]], dtype=uint8))"
      ]
     },
     "execution_count": 5,
     "metadata": {},
     "output_type": "execute_result"
    }
   ],
   "source": [
    "from pixellib.instance import custom_segmentation\n",
    "\n",
    "segment_image = custom_segmentation()\n",
    "segment_image.inferConfig(num_classes= 3, class_names= [\"qanat\", \"mounded sites\", \"ruined structure\"])\n",
    "segment_image.load_model(\"/content/drive/MyDrive/structures/mask_rcnn.h5\")\n",
    "segment_image.segmentImage(\"/content/drive/MyDrive/structures/test_segmentation/test/mounded sites/15532659296_0260edfba6_o.jpg\", show_bboxes=True, output_image_name=\"/content/drive/MyDrive/structures/sample_out.jpg\")\n"
   ]
  }
 ],
 "metadata": {
  "accelerator": "GPU",
  "colab": {
   "authorship_tag": "ABX9TyMElbk3gHaoaOiay1+Yl1BO",
   "collapsed_sections": [],
   "mount_file_id": "1vwcz1TNb2hn7vwqtFmwPwIK9lRDyOfyY",
   "name": "Untitled0.ipynb",
   "provenance": []
  },
  "kernelspec": {
   "display_name": "Python 3",
   "language": "python",
   "name": "python3"
  },
  "language_info": {
   "codemirror_mode": {
    "name": "ipython",
    "version": 3
   },
   "file_extension": ".py",
   "mimetype": "text/x-python",
   "name": "python",
   "nbconvert_exporter": "python",
   "pygments_lexer": "ipython3",
   "version": "3.8.8"
  }
 },
 "nbformat": 4,
 "nbformat_minor": 1
}
