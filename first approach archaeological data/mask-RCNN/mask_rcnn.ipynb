{
  "cells": [
    {
      "cell_type": "code",
      "execution_count": 1,
      "metadata": {
        "colab": {
          "base_uri": "https://localhost:8080/"
        },
        "id": "NeWVBhf1VxlH",
        "outputId": "78eceb33-4537-444e-dbc6-68f5d111e65e"
      },
      "outputs": [
        {
          "output_type": "stream",
          "name": "stdout",
          "text": [
            "Found existing installation: tensorflow 2.8.0+zzzcolab20220506162203\n",
            "Uninstalling tensorflow-2.8.0+zzzcolab20220506162203:\n",
            "  Would remove:\n",
            "    /usr/local/bin/estimator_ckpt_converter\n",
            "    /usr/local/bin/import_pb_to_tensorboard\n",
            "    /usr/local/bin/saved_model_cli\n",
            "    /usr/local/bin/tensorboard\n",
            "    /usr/local/bin/tf_upgrade_v2\n",
            "    /usr/local/bin/tflite_convert\n",
            "    /usr/local/bin/toco\n",
            "    /usr/local/bin/toco_from_protos\n",
            "    /usr/local/lib/python3.7/dist-packages/tensorflow-2.8.0+zzzcolab20220506162203.dist-info/*\n",
            "    /usr/local/lib/python3.7/dist-packages/tensorflow/*\n",
            "Proceed (y/n)? y\n",
            "  Successfully uninstalled tensorflow-2.8.0+zzzcolab20220506162203\n"
          ]
        }
      ],
      "source": [
        "!pip uninstall tensorflow"
      ]
    },
    {
      "cell_type": "code",
      "execution_count": 3,
      "metadata": {
        "colab": {
          "base_uri": "https://localhost:8080/",
          "height": 1000
        },
        "id": "-XbfkU7BeziQ",
        "outputId": "f9004de2-594c-44fb-b956-94e41e0578c7"
      },
      "outputs": [
        {
          "output_type": "stream",
          "name": "stdout",
          "text": [
            "Requirement already satisfied: tensorflow==2.3.0 in /usr/local/lib/python3.7/dist-packages (2.3.0)\n",
            "Requirement already satisfied: tensorboard<3,>=2.3.0 in /usr/local/lib/python3.7/dist-packages (from tensorflow==2.3.0) (2.8.0)\n",
            "Requirement already satisfied: keras-preprocessing<1.2,>=1.1.1 in /usr/local/lib/python3.7/dist-packages (from tensorflow==2.3.0) (1.1.2)\n",
            "Requirement already satisfied: h5py<2.11.0,>=2.10.0 in /usr/local/lib/python3.7/dist-packages (from tensorflow==2.3.0) (2.10.0)\n",
            "Requirement already satisfied: wrapt>=1.11.1 in /usr/local/lib/python3.7/dist-packages (from tensorflow==2.3.0) (1.14.1)\n",
            "Requirement already satisfied: six>=1.12.0 in /usr/local/lib/python3.7/dist-packages (from tensorflow==2.3.0) (1.15.0)\n",
            "Requirement already satisfied: grpcio>=1.8.6 in /usr/local/lib/python3.7/dist-packages (from tensorflow==2.3.0) (1.46.1)\n",
            "Requirement already satisfied: termcolor>=1.1.0 in /usr/local/lib/python3.7/dist-packages (from tensorflow==2.3.0) (1.1.0)\n",
            "Requirement already satisfied: opt-einsum>=2.3.2 in /usr/local/lib/python3.7/dist-packages (from tensorflow==2.3.0) (3.3.0)\n",
            "Requirement already satisfied: tensorflow-estimator<2.4.0,>=2.3.0 in /usr/local/lib/python3.7/dist-packages (from tensorflow==2.3.0) (2.3.0)\n",
            "Requirement already satisfied: google-pasta>=0.1.8 in /usr/local/lib/python3.7/dist-packages (from tensorflow==2.3.0) (0.2.0)\n",
            "Requirement already satisfied: wheel>=0.26 in /usr/local/lib/python3.7/dist-packages (from tensorflow==2.3.0) (0.37.1)\n",
            "Requirement already satisfied: gast==0.3.3 in /usr/local/lib/python3.7/dist-packages (from tensorflow==2.3.0) (0.3.3)\n",
            "Requirement already satisfied: astunparse==1.6.3 in /usr/local/lib/python3.7/dist-packages (from tensorflow==2.3.0) (1.6.3)\n",
            "Requirement already satisfied: absl-py>=0.7.0 in /usr/local/lib/python3.7/dist-packages (from tensorflow==2.3.0) (1.0.0)\n",
            "Requirement already satisfied: protobuf>=3.9.2 in /usr/local/lib/python3.7/dist-packages (from tensorflow==2.3.0) (3.17.3)\n",
            "Requirement already satisfied: scipy==1.4.1 in /usr/local/lib/python3.7/dist-packages (from tensorflow==2.3.0) (1.4.1)\n",
            "Requirement already satisfied: numpy<1.19.0,>=1.16.0 in /usr/local/lib/python3.7/dist-packages (from tensorflow==2.3.0) (1.18.5)\n",
            "Requirement already satisfied: markdown>=2.6.8 in /usr/local/lib/python3.7/dist-packages (from tensorboard<3,>=2.3.0->tensorflow==2.3.0) (3.3.7)\n",
            "Requirement already satisfied: werkzeug>=0.11.15 in /usr/local/lib/python3.7/dist-packages (from tensorboard<3,>=2.3.0->tensorflow==2.3.0) (1.0.1)\n",
            "Requirement already satisfied: tensorboard-data-server<0.7.0,>=0.6.0 in /usr/local/lib/python3.7/dist-packages (from tensorboard<3,>=2.3.0->tensorflow==2.3.0) (0.6.1)\n",
            "Requirement already satisfied: google-auth<3,>=1.6.3 in /usr/local/lib/python3.7/dist-packages (from tensorboard<3,>=2.3.0->tensorflow==2.3.0) (1.35.0)\n",
            "Requirement already satisfied: requests<3,>=2.21.0 in /usr/local/lib/python3.7/dist-packages (from tensorboard<3,>=2.3.0->tensorflow==2.3.0) (2.23.0)\n",
            "Requirement already satisfied: tensorboard-plugin-wit>=1.6.0 in /usr/local/lib/python3.7/dist-packages (from tensorboard<3,>=2.3.0->tensorflow==2.3.0) (1.8.1)\n",
            "Requirement already satisfied: setuptools>=41.0.0 in /usr/local/lib/python3.7/dist-packages (from tensorboard<3,>=2.3.0->tensorflow==2.3.0) (57.4.0)\n",
            "Requirement already satisfied: google-auth-oauthlib<0.5,>=0.4.1 in /usr/local/lib/python3.7/dist-packages (from tensorboard<3,>=2.3.0->tensorflow==2.3.0) (0.4.6)\n",
            "Requirement already satisfied: cachetools<5.0,>=2.0.0 in /usr/local/lib/python3.7/dist-packages (from google-auth<3,>=1.6.3->tensorboard<3,>=2.3.0->tensorflow==2.3.0) (4.2.4)\n",
            "Requirement already satisfied: pyasn1-modules>=0.2.1 in /usr/local/lib/python3.7/dist-packages (from google-auth<3,>=1.6.3->tensorboard<3,>=2.3.0->tensorflow==2.3.0) (0.2.8)\n",
            "Requirement already satisfied: rsa<5,>=3.1.4 in /usr/local/lib/python3.7/dist-packages (from google-auth<3,>=1.6.3->tensorboard<3,>=2.3.0->tensorflow==2.3.0) (4.8)\n",
            "Requirement already satisfied: requests-oauthlib>=0.7.0 in /usr/local/lib/python3.7/dist-packages (from google-auth-oauthlib<0.5,>=0.4.1->tensorboard<3,>=2.3.0->tensorflow==2.3.0) (1.3.1)\n",
            "Requirement already satisfied: importlib-metadata>=4.4 in /usr/local/lib/python3.7/dist-packages (from markdown>=2.6.8->tensorboard<3,>=2.3.0->tensorflow==2.3.0) (4.11.3)\n",
            "Requirement already satisfied: zipp>=0.5 in /usr/local/lib/python3.7/dist-packages (from importlib-metadata>=4.4->markdown>=2.6.8->tensorboard<3,>=2.3.0->tensorflow==2.3.0) (3.8.0)\n",
            "Requirement already satisfied: typing-extensions>=3.6.4 in /usr/local/lib/python3.7/dist-packages (from importlib-metadata>=4.4->markdown>=2.6.8->tensorboard<3,>=2.3.0->tensorflow==2.3.0) (4.2.0)\n",
            "Requirement already satisfied: pyasn1<0.5.0,>=0.4.6 in /usr/local/lib/python3.7/dist-packages (from pyasn1-modules>=0.2.1->google-auth<3,>=1.6.3->tensorboard<3,>=2.3.0->tensorflow==2.3.0) (0.4.8)\n",
            "Requirement already satisfied: chardet<4,>=3.0.2 in /usr/local/lib/python3.7/dist-packages (from requests<3,>=2.21.0->tensorboard<3,>=2.3.0->tensorflow==2.3.0) (3.0.4)\n",
            "Requirement already satisfied: urllib3!=1.25.0,!=1.25.1,<1.26,>=1.21.1 in /usr/local/lib/python3.7/dist-packages (from requests<3,>=2.21.0->tensorboard<3,>=2.3.0->tensorflow==2.3.0) (1.24.3)\n",
            "Requirement already satisfied: idna<3,>=2.5 in /usr/local/lib/python3.7/dist-packages (from requests<3,>=2.21.0->tensorboard<3,>=2.3.0->tensorflow==2.3.0) (2.10)\n",
            "Requirement already satisfied: certifi>=2017.4.17 in /usr/local/lib/python3.7/dist-packages (from requests<3,>=2.21.0->tensorboard<3,>=2.3.0->tensorflow==2.3.0) (2021.10.8)\n",
            "Requirement already satisfied: oauthlib>=3.0.0 in /usr/local/lib/python3.7/dist-packages (from requests-oauthlib>=0.7.0->google-auth-oauthlib<0.5,>=0.4.1->tensorboard<3,>=2.3.0->tensorflow==2.3.0) (3.2.0)\n",
            "Collecting pixellib==0.6.6\n",
            "  Downloading pixellib-0.6.6-py3-none-any.whl (69 kB)\n",
            "\u001b[K     |████████████████████████████████| 69 kB 4.8 MB/s \n",
            "\u001b[?25hCollecting labelme2coco\n",
            "  Downloading labelme2coco-0.2.1-py3-none-any.whl (18 kB)\n",
            "Collecting imantics\n",
            "  Downloading imantics-0.1.12.tar.gz (13 kB)\n",
            "Requirement already satisfied: scikit-image in /usr/local/lib/python3.7/dist-packages (from pixellib==0.6.6) (0.18.3)\n",
            "Requirement already satisfied: matplotlib in /usr/local/lib/python3.7/dist-packages (from pixellib==0.6.6) (3.2.2)\n",
            "Requirement already satisfied: imgaug in /usr/local/lib/python3.7/dist-packages (from pixellib==0.6.6) (0.2.9)\n",
            "Requirement already satisfied: pillow in /usr/local/lib/python3.7/dist-packages (from pixellib==0.6.6) (7.1.2)\n",
            "Requirement already satisfied: opencv-python in /usr/local/lib/python3.7/dist-packages (from pixellib==0.6.6) (4.1.2.30)\n",
            "Requirement already satisfied: numpy in /usr/local/lib/python3.7/dist-packages (from imantics->pixellib==0.6.6) (1.18.5)\n",
            "Requirement already satisfied: lxml in /usr/local/lib/python3.7/dist-packages (from imantics->pixellib==0.6.6) (4.2.6)\n",
            "Collecting xmljson\n",
            "  Downloading xmljson-0.2.1-py2.py3-none-any.whl (10 kB)\n",
            "Requirement already satisfied: scipy in /usr/local/lib/python3.7/dist-packages (from imgaug->pixellib==0.6.6) (1.4.1)\n",
            "Requirement already satisfied: Shapely in /usr/local/lib/python3.7/dist-packages (from imgaug->pixellib==0.6.6) (1.8.2)\n",
            "Requirement already satisfied: imageio in /usr/local/lib/python3.7/dist-packages (from imgaug->pixellib==0.6.6) (2.4.1)\n",
            "Requirement already satisfied: six in /usr/local/lib/python3.7/dist-packages (from imgaug->pixellib==0.6.6) (1.15.0)\n",
            "Requirement already satisfied: tifffile>=2019.7.26 in /usr/local/lib/python3.7/dist-packages (from scikit-image->pixellib==0.6.6) (2021.11.2)\n",
            "Requirement already satisfied: networkx>=2.0 in /usr/local/lib/python3.7/dist-packages (from scikit-image->pixellib==0.6.6) (2.6.3)\n",
            "Requirement already satisfied: PyWavelets>=1.1.1 in /usr/local/lib/python3.7/dist-packages (from scikit-image->pixellib==0.6.6) (1.3.0)\n",
            "Requirement already satisfied: python-dateutil>=2.1 in /usr/local/lib/python3.7/dist-packages (from matplotlib->pixellib==0.6.6) (2.8.2)\n",
            "Requirement already satisfied: pyparsing!=2.0.4,!=2.1.2,!=2.1.6,>=2.0.1 in /usr/local/lib/python3.7/dist-packages (from matplotlib->pixellib==0.6.6) (3.0.9)\n",
            "Requirement already satisfied: kiwisolver>=1.0.1 in /usr/local/lib/python3.7/dist-packages (from matplotlib->pixellib==0.6.6) (1.4.2)\n",
            "Requirement already satisfied: cycler>=0.10 in /usr/local/lib/python3.7/dist-packages (from matplotlib->pixellib==0.6.6) (0.11.0)\n",
            "Requirement already satisfied: typing-extensions in /usr/local/lib/python3.7/dist-packages (from kiwisolver>=1.0.1->matplotlib->pixellib==0.6.6) (4.2.0)\n",
            "Collecting sahi>=0.8.19\n",
            "  Downloading sahi-0.9.3-py3-none-any.whl (80 kB)\n",
            "\u001b[K     |████████████████████████████████| 80 kB 10.6 MB/s \n",
            "\u001b[?25hRequirement already satisfied: jsonschema>=2.6.0 in /usr/local/lib/python3.7/dist-packages (from labelme2coco->pixellib==0.6.6) (4.3.3)\n",
            "Requirement already satisfied: importlib-resources>=1.4.0 in /usr/local/lib/python3.7/dist-packages (from jsonschema>=2.6.0->labelme2coco->pixellib==0.6.6) (5.7.1)\n",
            "Requirement already satisfied: attrs>=17.4.0 in /usr/local/lib/python3.7/dist-packages (from jsonschema>=2.6.0->labelme2coco->pixellib==0.6.6) (21.4.0)\n",
            "Requirement already satisfied: pyrsistent!=0.17.0,!=0.17.1,!=0.17.2,>=0.14.0 in /usr/local/lib/python3.7/dist-packages (from jsonschema>=2.6.0->labelme2coco->pixellib==0.6.6) (0.18.1)\n",
            "Requirement already satisfied: importlib-metadata in /usr/local/lib/python3.7/dist-packages (from jsonschema>=2.6.0->labelme2coco->pixellib==0.6.6) (4.11.3)\n",
            "Requirement already satisfied: zipp>=3.1.0 in /usr/local/lib/python3.7/dist-packages (from importlib-resources>=1.4.0->jsonschema>=2.6.0->labelme2coco->pixellib==0.6.6) (3.8.0)\n",
            "Requirement already satisfied: tqdm>=4.48.2 in /usr/local/lib/python3.7/dist-packages (from sahi>=0.8.19->labelme2coco->pixellib==0.6.6) (4.64.0)\n",
            "Collecting fire\n",
            "  Downloading fire-0.4.0.tar.gz (87 kB)\n",
            "\u001b[K     |████████████████████████████████| 87 kB 8.2 MB/s \n",
            "\u001b[?25hCollecting opencv-python\n",
            "  Downloading opencv_python-4.5.5.64-cp36-abi3-manylinux_2_17_x86_64.manylinux2014_x86_64.whl (60.5 MB)\n",
            "\u001b[K     |████████████████████████████████| 60.5 MB 1.2 MB/s \n",
            "\u001b[?25hRequirement already satisfied: pyyaml in /usr/local/lib/python3.7/dist-packages (from sahi>=0.8.19->labelme2coco->pixellib==0.6.6) (3.13)\n",
            "Collecting pillow\n",
            "  Downloading Pillow-9.1.1-cp37-cp37m-manylinux_2_17_x86_64.manylinux2014_x86_64.whl (3.1 MB)\n",
            "\u001b[K     |████████████████████████████████| 3.1 MB 53.9 MB/s \n",
            "\u001b[?25hCollecting click==8.0.4\n",
            "  Downloading click-8.0.4-py3-none-any.whl (97 kB)\n",
            "\u001b[K     |████████████████████████████████| 97 kB 8.7 MB/s \n",
            "\u001b[?25hRequirement already satisfied: requests in /usr/local/lib/python3.7/dist-packages (from sahi>=0.8.19->labelme2coco->pixellib==0.6.6) (2.23.0)\n",
            "Collecting terminaltables\n",
            "  Downloading terminaltables-3.1.10-py2.py3-none-any.whl (15 kB)\n",
            "Requirement already satisfied: termcolor in /usr/local/lib/python3.7/dist-packages (from fire->sahi>=0.8.19->labelme2coco->pixellib==0.6.6) (1.1.0)\n",
            "Requirement already satisfied: urllib3!=1.25.0,!=1.25.1,<1.26,>=1.21.1 in /usr/local/lib/python3.7/dist-packages (from requests->sahi>=0.8.19->labelme2coco->pixellib==0.6.6) (1.24.3)\n",
            "Requirement already satisfied: idna<3,>=2.5 in /usr/local/lib/python3.7/dist-packages (from requests->sahi>=0.8.19->labelme2coco->pixellib==0.6.6) (2.10)\n",
            "Requirement already satisfied: certifi>=2017.4.17 in /usr/local/lib/python3.7/dist-packages (from requests->sahi>=0.8.19->labelme2coco->pixellib==0.6.6) (2021.10.8)\n",
            "Requirement already satisfied: chardet<4,>=3.0.2 in /usr/local/lib/python3.7/dist-packages (from requests->sahi>=0.8.19->labelme2coco->pixellib==0.6.6) (3.0.4)\n",
            "Building wheels for collected packages: imantics, fire\n",
            "  Building wheel for imantics (setup.py) ... \u001b[?25l\u001b[?25hdone\n",
            "  Created wheel for imantics: filename=imantics-0.1.12-py3-none-any.whl size=16033 sha256=b3281037827c8a356aaa022b7f063c199056a55be87801c0a32404767f1272a3\n",
            "  Stored in directory: /root/.cache/pip/wheels/da/7c/3e/296fe3ed4eb3bd713e91dee0d0549f12f316d49939a64bdc96\n",
            "  Building wheel for fire (setup.py) ... \u001b[?25l\u001b[?25hdone\n",
            "  Created wheel for fire: filename=fire-0.4.0-py2.py3-none-any.whl size=115942 sha256=ae19f0de8f0ed2d553bbcbcdfb2581746107dbddb95c4d7b99022a149c7c6f6e\n",
            "  Stored in directory: /root/.cache/pip/wheels/8a/67/fb/2e8a12fa16661b9d5af1f654bd199366799740a85c64981226\n",
            "Successfully built imantics fire\n",
            "Installing collected packages: pillow, terminaltables, opencv-python, fire, click, xmljson, sahi, labelme2coco, imantics, pixellib\n",
            "  Attempting uninstall: pillow\n",
            "    Found existing installation: Pillow 7.1.2\n",
            "    Uninstalling Pillow-7.1.2:\n",
            "      Successfully uninstalled Pillow-7.1.2\n",
            "  Attempting uninstall: opencv-python\n",
            "    Found existing installation: opencv-python 4.1.2.30\n",
            "    Uninstalling opencv-python-4.1.2.30:\n",
            "      Successfully uninstalled opencv-python-4.1.2.30\n",
            "  Attempting uninstall: click\n",
            "    Found existing installation: click 7.1.2\n",
            "    Uninstalling click-7.1.2:\n",
            "      Successfully uninstalled click-7.1.2\n",
            "\u001b[31mERROR: pip's dependency resolver does not currently take into account all the packages that are installed. This behaviour is the source of the following dependency conflicts.\n",
            "flask 1.1.4 requires click<8.0,>=5.1, but you have click 8.0.4 which is incompatible.\n",
            "albumentations 0.1.12 requires imgaug<0.2.7,>=0.2.5, but you have imgaug 0.2.9 which is incompatible.\u001b[0m\n",
            "Successfully installed click-8.0.4 fire-0.4.0 imantics-0.1.12 labelme2coco-0.2.1 opencv-python-4.5.5.64 pillow-9.1.1 pixellib-0.6.6 sahi-0.9.3 terminaltables-3.1.10 xmljson-0.2.1\n"
          ]
        },
        {
          "output_type": "display_data",
          "data": {
            "application/vnd.colab-display-data+json": {
              "pip_warning": {
                "packages": [
                  "PIL"
                ]
              }
            }
          },
          "metadata": {}
        },
        {
          "output_type": "stream",
          "name": "stdout",
          "text": [
            "Requirement already satisfied: tifffile in /usr/local/lib/python3.7/dist-packages (2021.11.2)\n",
            "Requirement already satisfied: numpy>=1.15.1 in /usr/local/lib/python3.7/dist-packages (from tifffile) (1.18.5)\n",
            "Requirement already satisfied: imagecodecs in /usr/local/lib/python3.7/dist-packages (2021.11.20)\n",
            "Requirement already satisfied: numpy>=1.16.5 in /usr/local/lib/python3.7/dist-packages (from imagecodecs) (1.18.5)\n",
            "Requirement already satisfied: imgaug in /usr/local/lib/python3.7/dist-packages (0.2.9)\n",
            "Requirement already satisfied: matplotlib in /usr/local/lib/python3.7/dist-packages (from imgaug) (3.2.2)\n",
            "Requirement already satisfied: imageio in /usr/local/lib/python3.7/dist-packages (from imgaug) (2.4.1)\n",
            "Requirement already satisfied: six in /usr/local/lib/python3.7/dist-packages (from imgaug) (1.15.0)\n",
            "Requirement already satisfied: scipy in /usr/local/lib/python3.7/dist-packages (from imgaug) (1.4.1)\n",
            "Requirement already satisfied: scikit-image>=0.11.0 in /usr/local/lib/python3.7/dist-packages (from imgaug) (0.18.3)\n",
            "Requirement already satisfied: Pillow in /usr/local/lib/python3.7/dist-packages (from imgaug) (9.1.1)\n",
            "Requirement already satisfied: opencv-python in /usr/local/lib/python3.7/dist-packages (from imgaug) (4.5.5.64)\n",
            "Requirement already satisfied: numpy>=1.15.0 in /usr/local/lib/python3.7/dist-packages (from imgaug) (1.18.5)\n",
            "Requirement already satisfied: Shapely in /usr/local/lib/python3.7/dist-packages (from imgaug) (1.8.2)\n",
            "Requirement already satisfied: PyWavelets>=1.1.1 in /usr/local/lib/python3.7/dist-packages (from scikit-image>=0.11.0->imgaug) (1.3.0)\n",
            "Requirement already satisfied: networkx>=2.0 in /usr/local/lib/python3.7/dist-packages (from scikit-image>=0.11.0->imgaug) (2.6.3)\n",
            "Requirement already satisfied: tifffile>=2019.7.26 in /usr/local/lib/python3.7/dist-packages (from scikit-image>=0.11.0->imgaug) (2021.11.2)\n",
            "Requirement already satisfied: cycler>=0.10 in /usr/local/lib/python3.7/dist-packages (from matplotlib->imgaug) (0.11.0)\n",
            "Requirement already satisfied: pyparsing!=2.0.4,!=2.1.2,!=2.1.6,>=2.0.1 in /usr/local/lib/python3.7/dist-packages (from matplotlib->imgaug) (3.0.9)\n",
            "Requirement already satisfied: python-dateutil>=2.1 in /usr/local/lib/python3.7/dist-packages (from matplotlib->imgaug) (2.8.2)\n",
            "Requirement already satisfied: kiwisolver>=1.0.1 in /usr/local/lib/python3.7/dist-packages (from matplotlib->imgaug) (1.4.2)\n",
            "Requirement already satisfied: typing-extensions in /usr/local/lib/python3.7/dist-packages (from kiwisolver>=1.0.1->matplotlib->imgaug) (4.2.0)\n"
          ]
        }
      ],
      "source": [
        "!pip install tensorflow==2.3.0\n",
        "!pip install pixellib==0.6.6\n",
        "!pip install tifffile\n",
        "!pip install imagecodecs \n",
        "!pip install imgaug"
      ]
    },
    {
      "cell_type": "code",
      "source": [
        "import tensorflow as tf\n",
        "\n",
        "print(\"Tensorflow version == \", tf.__version__)\n",
        "print(\"Num GPUs Available: \", len(tf.config.list_physical_devices('GPU')))\n",
        "\n",
        "!nvidia-smi\n"
      ],
      "metadata": {
        "id": "_PreYyku08fR",
        "outputId": "6b462042-c6f7-4585-86a1-7a6be1eafb1b",
        "colab": {
          "base_uri": "https://localhost:8080/"
        }
      },
      "execution_count": 1,
      "outputs": [
        {
          "output_type": "stream",
          "name": "stdout",
          "text": [
            "Tensorflow version ==  2.3.0\n",
            "Num GPUs Available:  1\n",
            "Fri May 20 21:27:16 2022       \n",
            "+-----------------------------------------------------------------------------+\n",
            "| NVIDIA-SMI 460.32.03    Driver Version: 460.32.03    CUDA Version: 11.2     |\n",
            "|-------------------------------+----------------------+----------------------+\n",
            "| GPU  Name        Persistence-M| Bus-Id        Disp.A | Volatile Uncorr. ECC |\n",
            "| Fan  Temp  Perf  Pwr:Usage/Cap|         Memory-Usage | GPU-Util  Compute M. |\n",
            "|                               |                      |               MIG M. |\n",
            "|===============================+======================+======================|\n",
            "|   0  Tesla T4            Off  | 00000000:00:04.0 Off |                    0 |\n",
            "| N/A   63C    P8    13W /  70W |      3MiB / 15109MiB |      0%      Default |\n",
            "|                               |                      |                  N/A |\n",
            "+-------------------------------+----------------------+----------------------+\n",
            "                                                                               \n",
            "+-----------------------------------------------------------------------------+\n",
            "| Processes:                                                                  |\n",
            "|  GPU   GI   CI        PID   Type   Process name                  GPU Memory |\n",
            "|        ID   ID                                                   Usage      |\n",
            "|=============================================================================|\n",
            "|  No running processes found                                                 |\n",
            "+-----------------------------------------------------------------------------+\n"
          ]
        }
      ]
    },
    {
      "cell_type": "code",
      "source": [
        "print(\"Tensorflow version == \", tf.__version__)\n",
        "print(\"keras version == \", tf.keras.__version__)\n",
        "\n",
        "import pixellib\n",
        "from pixellib.custom_train import instance_custom_training\n",
        "%load_ext tensorboard"
      ],
      "metadata": {
        "id": "aZuvstCu7alg",
        "colab": {
          "base_uri": "https://localhost:8080/"
        },
        "outputId": "bb2f3e6f-ee54-4407-9718-33a62c710a00"
      },
      "execution_count": 2,
      "outputs": [
        {
          "output_type": "stream",
          "name": "stdout",
          "text": [
            "Tensorflow version ==  2.3.0\n",
            "keras version ==  2.4.0\n"
          ]
        }
      ]
    },
    {
      "cell_type": "code",
      "source": [
        "train_maskrcnn = instance_custom_training()\n",
        "train_maskrcnn.modelConfig(network_backbone = \"resnet101\", num_classes= 3, batch_size=6)\n",
        "train_maskrcnn.load_pretrained_model(\"/content/drive/MyDrive/mask_rcnn_coco.h5\")\n",
        "train_maskrcnn.load_dataset(\"/content/drive/MyDrive/structures\")"
      ],
      "metadata": {
        "id": "3l9ivCz71anQ",
        "outputId": "ad42a4fa-7cab-45ee-ea3c-42acd269a26e",
        "colab": {
          "base_uri": "https://localhost:8080/"
        }
      },
      "execution_count": 4,
      "outputs": [
        {
          "output_type": "stream",
          "name": "stdout",
          "text": [
            "Using resnet101 as network backbone For Mask R-CNN model\n"
          ]
        }
      ]
    },
    {
      "cell_type": "code",
      "source": [
        "train_maskrcnn.train_model(num_epochs = 100, augmentation=True, path_trained_models= \"/content/drive/MyDrive/structures/models_resnet101\")"
      ],
      "metadata": {
        "id": "mb6aRzQzgflP",
        "colab": {
          "base_uri": "https://localhost:8080/"
        },
        "outputId": "447eb8e8-1889-410f-fa8a-c4d4ed2feb3a"
      },
      "execution_count": null,
      "outputs": [
        {
          "output_type": "stream",
          "name": "stdout",
          "text": [
            "Applying Default Augmentation on Dataset\n",
            "Train 285 images\n",
            "Validate 71 images\n",
            "Checkpoint Path: /content/drive/MyDrive/structures/models_resnet101\n",
            "Selecting layers to train\n"
          ]
        },
        {
          "output_type": "stream",
          "name": "stderr",
          "text": [
            "/usr/local/lib/python3.7/dist-packages/skimage/transform/_warps.py:830: FutureWarning: Input image dtype is bool. Interpolation is not defined with bool data type. Please set order to 0 or explicitely cast input image to another data type. Starting from version 0.19 a ValueError will be raised instead of this warning.\n",
            "  order = _validate_interpolation_order(image.dtype, order)\n",
            "/usr/local/lib/python3.7/dist-packages/skimage/transform/_warps.py:830: FutureWarning: Input image dtype is bool. Interpolation is not defined with bool data type. Please set order to 0 or explicitely cast input image to another data type. Starting from version 0.19 a ValueError will be raised instead of this warning.\n",
            "  order = _validate_interpolation_order(image.dtype, order)\n",
            "/usr/local/lib/python3.7/dist-packages/skimage/transform/_warps.py:830: FutureWarning: Input image dtype is bool. Interpolation is not defined with bool data type. Please set order to 0 or explicitely cast input image to another data type. Starting from version 0.19 a ValueError will be raised instead of this warning.\n",
            "  order = _validate_interpolation_order(image.dtype, order)\n",
            "/usr/local/lib/python3.7/dist-packages/skimage/transform/_warps.py:830: FutureWarning: Input image dtype is bool. Interpolation is not defined with bool data type. Please set order to 0 or explicitely cast input image to another data type. Starting from version 0.19 a ValueError will be raised instead of this warning.\n",
            "  order = _validate_interpolation_order(image.dtype, order)\n",
            "/usr/local/lib/python3.7/dist-packages/skimage/transform/_warps.py:830: FutureWarning: Input image dtype is bool. Interpolation is not defined with bool data type. Please set order to 0 or explicitely cast input image to another data type. Starting from version 0.19 a ValueError will be raised instead of this warning.\n",
            "  order = _validate_interpolation_order(image.dtype, order)\n",
            "/usr/local/lib/python3.7/dist-packages/skimage/transform/_warps.py:830: FutureWarning: Input image dtype is bool. Interpolation is not defined with bool data type. Please set order to 0 or explicitely cast input image to another data type. Starting from version 0.19 a ValueError will be raised instead of this warning.\n",
            "  order = _validate_interpolation_order(image.dtype, order)\n"
          ]
        },
        {
          "output_type": "stream",
          "name": "stdout",
          "text": [
            "Epoch 1/100\n",
            "100/100 [==============================] - ETA: 0s - batch: 49.5000 - size: 6.0000 - loss: 3.0494 - rpn_class_loss: 0.3343 - rpn_bbox_loss: 1.3475 - mrcnn_class_loss: 0.1326 - mrcnn_bbox_loss: 0.6724 - mrcnn_mask_loss: 0.5626WARNING:tensorflow:From /usr/local/lib/python3.7/dist-packages/tensorflow/python/keras/engine/training_v1.py:2048: Model.state_updates (from tensorflow.python.keras.engine.training) is deprecated and will be removed in a future version.\n",
            "Instructions for updating:\n",
            "This property should not be used in TensorFlow 2.0, as updates are applied automatically.\n"
          ]
        },
        {
          "output_type": "stream",
          "name": "stderr",
          "text": [
            "05/20/2022 21:39:28 - WARNING - tensorflow -   From /usr/local/lib/python3.7/dist-packages/tensorflow/python/keras/engine/training_v1.py:2048: Model.state_updates (from tensorflow.python.keras.engine.training) is deprecated and will be removed in a future version.\n",
            "Instructions for updating:\n",
            "This property should not be used in TensorFlow 2.0, as updates are applied automatically.\n"
          ]
        },
        {
          "output_type": "stream",
          "name": "stdout",
          "text": [
            "\b\b\b\b\b\b\b\b\b\b\b\b\b\b\b\b\b\b\b\b\b\b\b\b\b\b\b\b\b\b\b\b\b\b\b\b\b\b\b\b\b\b\b\b\b\b\b\b\b\b\b\b\b\b\b\b\b\b\b\b\b\b\b\b\b\b\b\b\b\b\b\b\b\b\b\b\b\b\b\b\b\b\b\b\b\b\b\b\b\b\b\b\b\b\b\b\b\b\b\b\b\b\b\b\b\b\b\b\b\b\b\b\b\b\b\b\b\b\b\b\b\b\b\b\b\b\b\b\b\b\b\b\b\b\b\b\b\b\b\b\b\b\b\b\b\b\b\b\b\b\b\b\b\b\b\b\b\b\b\b\b\b\b\b\b\b\b\b\b\b\b\b\b\b\b\b\b\b\b\b\b\b\b\b\b\b\b\b\b\b\b\b\b\b\b\b\b\b\b\b\b\b\b\b\b\b\b\b\b\b\b\b\b\b\b\b\b\b\b\b\b\b\b\b\b\r100/100 [==============================] - 486s 5s/step - batch: 49.5000 - size: 6.0000 - loss: 3.0494 - rpn_class_loss: 0.3343 - rpn_bbox_loss: 1.3475 - mrcnn_class_loss: 0.1326 - mrcnn_bbox_loss: 0.6724 - mrcnn_mask_loss: 0.5626 - val_loss: 2.8220 - val_rpn_class_loss: 0.2453 - val_rpn_bbox_loss: 1.4757 - val_mrcnn_class_loss: 0.1876 - val_mrcnn_bbox_loss: 0.4493 - val_mrcnn_mask_loss: 0.4641\n",
            "Epoch 2/100\n",
            "100/100 [==============================] - 411s 4s/step - batch: 49.5000 - size: 6.0000 - loss: 2.5128 - rpn_class_loss: 0.2086 - rpn_bbox_loss: 1.2518 - mrcnn_class_loss: 0.1282 - mrcnn_bbox_loss: 0.4740 - mrcnn_mask_loss: 0.4502 - val_loss: 2.3927 - val_rpn_class_loss: 0.1791 - val_rpn_bbox_loss: 1.0673 - val_mrcnn_class_loss: 0.2245 - val_mrcnn_bbox_loss: 0.5135 - val_mrcnn_mask_loss: 0.4084\n",
            "Epoch 3/100\n",
            "100/100 [==============================] - 403s 4s/step - batch: 49.5000 - size: 6.0000 - loss: 2.3519 - rpn_class_loss: 0.1782 - rpn_bbox_loss: 1.1948 - mrcnn_class_loss: 0.1200 - mrcnn_bbox_loss: 0.4305 - mrcnn_mask_loss: 0.4283 - val_loss: 2.3850 - val_rpn_class_loss: 0.1297 - val_rpn_bbox_loss: 1.2007 - val_mrcnn_class_loss: 0.2303 - val_mrcnn_bbox_loss: 0.4298 - val_mrcnn_mask_loss: 0.3945\n",
            "Epoch 4/100\n",
            "100/100 [==============================] - 381s 4s/step - batch: 49.5000 - size: 6.0000 - loss: 2.1394 - rpn_class_loss: 0.1532 - rpn_bbox_loss: 1.0928 - mrcnn_class_loss: 0.1149 - mrcnn_bbox_loss: 0.3811 - mrcnn_mask_loss: 0.3974 - val_loss: 2.0938 - val_rpn_class_loss: 0.1329 - val_rpn_bbox_loss: 0.9820 - val_mrcnn_class_loss: 0.1948 - val_mrcnn_bbox_loss: 0.4222 - val_mrcnn_mask_loss: 0.3619\n",
            "Epoch 5/100\n",
            "100/100 [==============================] - 357s 4s/step - batch: 49.5000 - size: 6.0000 - loss: 1.9804 - rpn_class_loss: 0.1470 - rpn_bbox_loss: 1.0300 - mrcnn_class_loss: 0.1018 - mrcnn_bbox_loss: 0.3402 - mrcnn_mask_loss: 0.3613 - val_loss: 2.3280 - val_rpn_class_loss: 0.1519 - val_rpn_bbox_loss: 0.9755 - val_mrcnn_class_loss: 0.3129 - val_mrcnn_bbox_loss: 0.4388 - val_mrcnn_mask_loss: 0.4489\n",
            "Epoch 6/100\n",
            "100/100 [==============================] - 362s 4s/step - batch: 49.5000 - size: 6.0000 - loss: 1.9221 - rpn_class_loss: 0.1438 - rpn_bbox_loss: 0.9608 - mrcnn_class_loss: 0.1022 - mrcnn_bbox_loss: 0.3365 - mrcnn_mask_loss: 0.3789 - val_loss: 2.6865 - val_rpn_class_loss: 0.1709 - val_rpn_bbox_loss: 1.5266 - val_mrcnn_class_loss: 0.2337 - val_mrcnn_bbox_loss: 0.3930 - val_mrcnn_mask_loss: 0.3624\n",
            "Epoch 7/100\n",
            "100/100 [==============================] - 351s 4s/step - batch: 49.5000 - size: 6.0000 - loss: 1.8764 - rpn_class_loss: 0.1357 - rpn_bbox_loss: 0.9268 - mrcnn_class_loss: 0.1040 - mrcnn_bbox_loss: 0.3422 - mrcnn_mask_loss: 0.3677 - val_loss: 2.6356 - val_rpn_class_loss: 0.1661 - val_rpn_bbox_loss: 1.3797 - val_mrcnn_class_loss: 0.2542 - val_mrcnn_bbox_loss: 0.4603 - val_mrcnn_mask_loss: 0.3753\n",
            "Epoch 8/100\n",
            "100/100 [==============================] - 358s 4s/step - batch: 49.5000 - size: 6.0000 - loss: 1.7896 - rpn_class_loss: 0.1167 - rpn_bbox_loss: 0.9020 - mrcnn_class_loss: 0.0936 - mrcnn_bbox_loss: 0.3200 - mrcnn_mask_loss: 0.3572 - val_loss: 2.2353 - val_rpn_class_loss: 0.1201 - val_rpn_bbox_loss: 1.2434 - val_mrcnn_class_loss: 0.1374 - val_mrcnn_bbox_loss: 0.4187 - val_mrcnn_mask_loss: 0.3158\n",
            "Epoch 9/100\n",
            "100/100 [==============================] - 344s 3s/step - batch: 49.5000 - size: 6.0000 - loss: 1.9179 - rpn_class_loss: 0.1358 - rpn_bbox_loss: 1.0007 - mrcnn_class_loss: 0.1060 - mrcnn_bbox_loss: 0.3262 - mrcnn_mask_loss: 0.3493 - val_loss: 2.1666 - val_rpn_class_loss: 0.1359 - val_rpn_bbox_loss: 0.9970 - val_mrcnn_class_loss: 0.2255 - val_mrcnn_bbox_loss: 0.4066 - val_mrcnn_mask_loss: 0.4017\n",
            "Epoch 10/100\n",
            "100/100 [==============================] - 346s 3s/step - batch: 49.5000 - size: 6.0000 - loss: 1.6922 - rpn_class_loss: 0.1102 - rpn_bbox_loss: 0.8436 - mrcnn_class_loss: 0.0937 - mrcnn_bbox_loss: 0.3077 - mrcnn_mask_loss: 0.3371 - val_loss: 2.3848 - val_rpn_class_loss: 0.1591 - val_rpn_bbox_loss: 1.1107 - val_mrcnn_class_loss: 0.2877 - val_mrcnn_bbox_loss: 0.4749 - val_mrcnn_mask_loss: 0.3524\n",
            "Epoch 11/100\n",
            "100/100 [==============================] - 345s 3s/step - batch: 49.5000 - size: 6.0000 - loss: 1.6481 - rpn_class_loss: 0.1076 - rpn_bbox_loss: 0.8302 - mrcnn_class_loss: 0.0982 - mrcnn_bbox_loss: 0.2921 - mrcnn_mask_loss: 0.3200 - val_loss: 2.2171 - val_rpn_class_loss: 0.1514 - val_rpn_bbox_loss: 1.0581 - val_mrcnn_class_loss: 0.2502 - val_mrcnn_bbox_loss: 0.4283 - val_mrcnn_mask_loss: 0.3291\n",
            "Epoch 12/100\n",
            "100/100 [==============================] - 412s 4s/step - batch: 49.5000 - size: 6.0000 - loss: 1.6717 - rpn_class_loss: 0.0953 - rpn_bbox_loss: 0.8648 - mrcnn_class_loss: 0.0915 - mrcnn_bbox_loss: 0.2892 - mrcnn_mask_loss: 0.3309 - val_loss: 2.0675 - val_rpn_class_loss: 0.1306 - val_rpn_bbox_loss: 0.9072 - val_mrcnn_class_loss: 0.2446 - val_mrcnn_bbox_loss: 0.4105 - val_mrcnn_mask_loss: 0.3747\n",
            "Epoch 13/100\n",
            "100/100 [==============================] - 373s 4s/step - batch: 49.5000 - size: 6.0000 - loss: 1.6240 - rpn_class_loss: 0.1001 - rpn_bbox_loss: 0.8260 - mrcnn_class_loss: 0.1023 - mrcnn_bbox_loss: 0.2856 - mrcnn_mask_loss: 0.3100 - val_loss: 2.4266 - val_rpn_class_loss: 0.1868 - val_rpn_bbox_loss: 1.0845 - val_mrcnn_class_loss: 0.2041 - val_mrcnn_bbox_loss: 0.4436 - val_mrcnn_mask_loss: 0.5076\n",
            "Epoch 14/100\n",
            "100/100 [==============================] - 378s 4s/step - batch: 49.5000 - size: 6.0000 - loss: 1.4763 - rpn_class_loss: 0.0785 - rpn_bbox_loss: 0.7299 - mrcnn_class_loss: 0.0809 - mrcnn_bbox_loss: 0.2689 - mrcnn_mask_loss: 0.3181 - val_loss: 2.2664 - val_rpn_class_loss: 0.1326 - val_rpn_bbox_loss: 1.0397 - val_mrcnn_class_loss: 0.2598 - val_mrcnn_bbox_loss: 0.4551 - val_mrcnn_mask_loss: 0.3792\n",
            "Epoch 15/100\n",
            "100/100 [==============================] - 372s 4s/step - batch: 49.5000 - size: 6.0000 - loss: 1.5104 - rpn_class_loss: 0.0807 - rpn_bbox_loss: 0.7591 - mrcnn_class_loss: 0.0905 - mrcnn_bbox_loss: 0.2641 - mrcnn_mask_loss: 0.3160 - val_loss: 2.0382 - val_rpn_class_loss: 0.1207 - val_rpn_bbox_loss: 0.9538 - val_mrcnn_class_loss: 0.2048 - val_mrcnn_bbox_loss: 0.4278 - val_mrcnn_mask_loss: 0.3311\n",
            "Epoch 16/100\n",
            "100/100 [==============================] - 367s 4s/step - batch: 49.5000 - size: 6.0000 - loss: 1.4901 - rpn_class_loss: 0.0834 - rpn_bbox_loss: 0.7425 - mrcnn_class_loss: 0.0882 - mrcnn_bbox_loss: 0.2637 - mrcnn_mask_loss: 0.3123 - val_loss: 2.0284 - val_rpn_class_loss: 0.1492 - val_rpn_bbox_loss: 0.8840 - val_mrcnn_class_loss: 0.2390 - val_mrcnn_bbox_loss: 0.4125 - val_mrcnn_mask_loss: 0.3436\n",
            "Epoch 17/100\n",
            "100/100 [==============================] - 390s 4s/step - batch: 49.5000 - size: 6.0000 - loss: 1.3924 - rpn_class_loss: 0.0714 - rpn_bbox_loss: 0.6975 - mrcnn_class_loss: 0.0871 - mrcnn_bbox_loss: 0.2423 - mrcnn_mask_loss: 0.2942 - val_loss: 2.1411 - val_rpn_class_loss: 0.1437 - val_rpn_bbox_loss: 0.9123 - val_mrcnn_class_loss: 0.2456 - val_mrcnn_bbox_loss: 0.4600 - val_mrcnn_mask_loss: 0.3795\n",
            "Epoch 18/100\n",
            "100/100 [==============================] - 362s 4s/step - batch: 49.5000 - size: 6.0000 - loss: 1.3920 - rpn_class_loss: 0.0886 - rpn_bbox_loss: 0.7055 - mrcnn_class_loss: 0.0828 - mrcnn_bbox_loss: 0.2278 - mrcnn_mask_loss: 0.2872 - val_loss: 2.2415 - val_rpn_class_loss: 0.1985 - val_rpn_bbox_loss: 0.9732 - val_mrcnn_class_loss: 0.2386 - val_mrcnn_bbox_loss: 0.4660 - val_mrcnn_mask_loss: 0.3653\n",
            "Epoch 19/100\n",
            "100/100 [==============================] - 349s 3s/step - batch: 49.5000 - size: 6.0000 - loss: 1.3675 - rpn_class_loss: 0.0774 - rpn_bbox_loss: 0.6912 - mrcnn_class_loss: 0.0728 - mrcnn_bbox_loss: 0.2300 - mrcnn_mask_loss: 0.2960 - val_loss: 2.2641 - val_rpn_class_loss: 0.1520 - val_rpn_bbox_loss: 1.0352 - val_mrcnn_class_loss: 0.2417 - val_mrcnn_bbox_loss: 0.4373 - val_mrcnn_mask_loss: 0.3979\n",
            "Epoch 20/100\n",
            "100/100 [==============================] - 348s 3s/step - batch: 49.5000 - size: 6.0000 - loss: 1.4478 - rpn_class_loss: 0.0723 - rpn_bbox_loss: 0.7620 - mrcnn_class_loss: 0.0784 - mrcnn_bbox_loss: 0.2390 - mrcnn_mask_loss: 0.2961 - val_loss: 2.2132 - val_rpn_class_loss: 0.1353 - val_rpn_bbox_loss: 1.0733 - val_mrcnn_class_loss: 0.2342 - val_mrcnn_bbox_loss: 0.3990 - val_mrcnn_mask_loss: 0.3713\n",
            "Epoch 21/100\n",
            "100/100 [==============================] - 363s 4s/step - batch: 49.5000 - size: 6.0000 - loss: 1.4407 - rpn_class_loss: 0.0676 - rpn_bbox_loss: 0.7479 - mrcnn_class_loss: 0.0877 - mrcnn_bbox_loss: 0.2418 - mrcnn_mask_loss: 0.2957 - val_loss: 2.4170 - val_rpn_class_loss: 0.2361 - val_rpn_bbox_loss: 1.0957 - val_mrcnn_class_loss: 0.2758 - val_mrcnn_bbox_loss: 0.4260 - val_mrcnn_mask_loss: 0.3833\n",
            "Epoch 22/100\n",
            "100/100 [==============================] - 350s 4s/step - batch: 49.5000 - size: 6.0000 - loss: 1.3387 - rpn_class_loss: 0.0696 - rpn_bbox_loss: 0.6509 - mrcnn_class_loss: 0.0780 - mrcnn_bbox_loss: 0.2485 - mrcnn_mask_loss: 0.2916 - val_loss: 2.4710 - val_rpn_class_loss: 0.1236 - val_rpn_bbox_loss: 1.2762 - val_mrcnn_class_loss: 0.2400 - val_mrcnn_bbox_loss: 0.4872 - val_mrcnn_mask_loss: 0.3440\n",
            "Epoch 23/100\n",
            "100/100 [==============================] - 365s 4s/step - batch: 49.5000 - size: 6.0000 - loss: 1.3556 - rpn_class_loss: 0.0690 - rpn_bbox_loss: 0.6580 - mrcnn_class_loss: 0.0935 - mrcnn_bbox_loss: 0.2471 - mrcnn_mask_loss: 0.2880 - val_loss: 2.4087 - val_rpn_class_loss: 0.1708 - val_rpn_bbox_loss: 1.0419 - val_mrcnn_class_loss: 0.3611 - val_mrcnn_bbox_loss: 0.5382 - val_mrcnn_mask_loss: 0.2967\n",
            "Epoch 24/100\n",
            "100/100 [==============================] - 407s 4s/step - batch: 49.5000 - size: 6.0000 - loss: 1.3980 - rpn_class_loss: 0.0635 - rpn_bbox_loss: 0.7298 - mrcnn_class_loss: 0.0745 - mrcnn_bbox_loss: 0.2343 - mrcnn_mask_loss: 0.2958 - val_loss: 2.6047 - val_rpn_class_loss: 0.2337 - val_rpn_bbox_loss: 1.2717 - val_mrcnn_class_loss: 0.2099 - val_mrcnn_bbox_loss: 0.5477 - val_mrcnn_mask_loss: 0.3417\n",
            "Epoch 25/100\n",
            "100/100 [==============================] - 376s 4s/step - batch: 49.5000 - size: 6.0000 - loss: 1.3064 - rpn_class_loss: 0.0608 - rpn_bbox_loss: 0.6444 - mrcnn_class_loss: 0.0699 - mrcnn_bbox_loss: 0.2392 - mrcnn_mask_loss: 0.2920 - val_loss: 2.6662 - val_rpn_class_loss: 0.2645 - val_rpn_bbox_loss: 1.3339 - val_mrcnn_class_loss: 0.2196 - val_mrcnn_bbox_loss: 0.5106 - val_mrcnn_mask_loss: 0.3376\n",
            "Epoch 26/100\n",
            "100/100 [==============================] - 374s 4s/step - batch: 49.5000 - size: 6.0000 - loss: 1.3177 - rpn_class_loss: 0.0555 - rpn_bbox_loss: 0.6694 - mrcnn_class_loss: 0.0783 - mrcnn_bbox_loss: 0.2242 - mrcnn_mask_loss: 0.2904 - val_loss: 2.3131 - val_rpn_class_loss: 0.1903 - val_rpn_bbox_loss: 0.9761 - val_mrcnn_class_loss: 0.3428 - val_mrcnn_bbox_loss: 0.4783 - val_mrcnn_mask_loss: 0.3257\n",
            "Epoch 27/100\n",
            "100/100 [==============================] - 375s 4s/step - batch: 49.5000 - size: 6.0000 - loss: 1.1918 - rpn_class_loss: 0.0537 - rpn_bbox_loss: 0.5654 - mrcnn_class_loss: 0.0693 - mrcnn_bbox_loss: 0.2214 - mrcnn_mask_loss: 0.2820 - val_loss: 2.3919 - val_rpn_class_loss: 0.2415 - val_rpn_bbox_loss: 0.9958 - val_mrcnn_class_loss: 0.3377 - val_mrcnn_bbox_loss: 0.4999 - val_mrcnn_mask_loss: 0.3170\n",
            "Epoch 28/100\n",
            "100/100 [==============================] - 378s 4s/step - batch: 49.5000 - size: 6.0000 - loss: 1.1447 - rpn_class_loss: 0.0470 - rpn_bbox_loss: 0.5495 - mrcnn_class_loss: 0.0672 - mrcnn_bbox_loss: 0.2082 - mrcnn_mask_loss: 0.2728 - val_loss: 2.6070 - val_rpn_class_loss: 0.2999 - val_rpn_bbox_loss: 1.1996 - val_mrcnn_class_loss: 0.2656 - val_mrcnn_bbox_loss: 0.4874 - val_mrcnn_mask_loss: 0.3545\n",
            "Epoch 29/100\n",
            " 72/100 [====================>.........] - ETA: 1:11 - batch: 35.5000 - size: 6.0000 - loss: 1.2168 - rpn_class_loss: 0.0522 - rpn_bbox_loss: 0.6149 - mrcnn_class_loss: 0.0717 - mrcnn_bbox_loss: 0.2090 - mrcnn_mask_loss: 0.2689"
          ]
        }
      ]
    },
    {
      "cell_type": "code",
      "source": [
        "#Evaluate the models \n",
        "train_evaluate = instance_custom_training()\n",
        "train_evaluate.modelConfig(network_backbone = \"resnet101\", num_classes= 3)\n",
        "train_evaluate.load_dataset(\"/content/drive/MyDrive/structures\")\n",
        "print(\"mask_rcnn_model_batchsize2\")\n",
        "\n",
        "train_evaluate.evaluate_model(\"/content/drive/MyDrive/structures/mask_rcnn_models_batchsize2\")\n",
        "\n",
        "train_evaluate.evaluate_model(\"/content/drive/MyDrive/structures/mask_rcnn_models_batchsize4\")"
      ],
      "metadata": {
        "id": "wEmhWUl05_il",
        "outputId": "f297e42c-5758-4f54-f619-0a683b8a5daf",
        "colab": {
          "base_uri": "https://localhost:8080/"
        }
      },
      "execution_count": null,
      "outputs": [
        {
          "output_type": "stream",
          "name": "stdout",
          "text": [
            "Using resnet101 as network backbone For Mask R-CNN model\n",
            "mask_rcnn_model_batchsize2\n",
            "/content/drive/MyDrive/structures/mask_rcnn_models_batchsize2/.ipynb_checkpoints evaluation using iou_threshold 0.5 is 0.000000 \n",
            "\n",
            "/content/drive/MyDrive/structures/mask_rcnn_models_batchsize2/mask_rcnn_model.001-2.532437.h5 evaluation using iou_threshold 0.5 is 0.000000 \n",
            "\n",
            "/content/drive/MyDrive/structures/mask_rcnn_models_batchsize2/mask_rcnn_model.004-2.493129.h5 evaluation using iou_threshold 0.5 is 0.000000 \n",
            "\n",
            "/content/drive/MyDrive/structures/mask_rcnn_models_batchsize2/mask_rcnn_model.005-2.434942.h5 evaluation using iou_threshold 0.5 is 0.007512 \n",
            "\n",
            "/content/drive/MyDrive/structures/mask_rcnn_models_batchsize2/mask_rcnn_model.010-2.322743.h5 evaluation using iou_threshold 0.5 is 0.150704 \n",
            "\n",
            "/content/drive/MyDrive/structures/mask_rcnn_models_batchsize2/mask_rcnn_model.011-2.108714.h5 evaluation using iou_threshold 0.5 is 0.099844 \n",
            "\n",
            "/content/drive/MyDrive/structures/mask_rcnn_models_batchsize2/mask_rcnn_model.012-1.967673.h5 evaluation using iou_threshold 0.5 is 0.063850 \n",
            "\n",
            "/content/drive/MyDrive/structures/mask_rcnn_models_batchsize2/mask_rcnn_model.020-1.940572.h5 evaluation using iou_threshold 0.5 is 0.325956 \n",
            "\n",
            "/content/drive/MyDrive/structures/mask_rcnn_models_batchsize2/mask_rcnn_model.023-1.699520.h5 evaluation using iou_threshold 0.5 is 0.177834 \n",
            "\n",
            "/content/drive/MyDrive/structures/mask_rcnn_models_batchsize4/.ipynb_checkpoints evaluation using iou_threshold 0.5 is 0.000000 \n",
            "\n",
            "/content/drive/MyDrive/structures/mask_rcnn_models_batchsize4/mask_rcnn_model.001-3.361616.h5 evaluation using iou_threshold 0.5 is 0.000000 \n",
            "\n",
            "/content/drive/MyDrive/structures/mask_rcnn_models_batchsize4/mask_rcnn_model.002-2.600988.h5 evaluation using iou_threshold 0.5 is 0.016097 \n",
            "\n",
            "/content/drive/MyDrive/structures/mask_rcnn_models_batchsize4/mask_rcnn_model.003-2.175664.h5 evaluation using iou_threshold 0.5 is 0.082160 \n",
            "\n",
            "/content/drive/MyDrive/structures/mask_rcnn_models_batchsize4/mask_rcnn_model.011-2.013154.h5 evaluation using iou_threshold 0.5 is 0.210228 \n",
            "\n",
            "/content/drive/MyDrive/structures/mask_rcnn_models_batchsize4/mask_rcnn_model.019-1.835576.h5 evaluation using iou_threshold 0.5 is 0.273390 \n",
            "\n"
          ]
        }
      ]
    },
    {
      "cell_type": "code",
      "source": [
        "#!pip uninstall tensorflow\n",
        "#!pip install tensorflow==2.3.0\n",
        "\n",
        "import pixellib\n",
        "import tensorflow\n",
        "from pixellib.instance import custom_segmentation\n",
        "\n",
        "\n",
        "segment_image = custom_segmentation()\n",
        "segment_image.inferConfig(num_classes= 3, class_names= [\"BG\", \"qanat\", \"ruined structure\", \"mounded sites\"])\n",
        "segment_image.load_model(\"/content/drive/MyDrive/structures/mask_rcnn_models_batchsize2/mask_rcnn_model.023-1.699520.h5\")\n",
        "segment_image.segmentImage(\"/content/drive/MyDrive/structures/test_segmentation/test/qanats/3-6.jpg\", show_bboxes=True, output_image_name=\"sample_out.jpg\")\n"
      ],
      "metadata": {
        "id": "UYlN7E4x7JwC",
        "colab": {
          "base_uri": "https://localhost:8080/"
        },
        "outputId": "3e82277a-a8d2-4a61-f7b9-9891003c4f55"
      },
      "execution_count": null,
      "outputs": [
        {
          "output_type": "stream",
          "name": "stdout",
          "text": [
            "WARNING:tensorflow:From /usr/local/lib/python3.7/dist-packages/tensorflow/python/util/deprecation.py:574: calling map_fn_v2 (from tensorflow.python.ops.map_fn) with dtype is deprecated and will be removed in a future version.\n",
            "Instructions for updating:\n",
            "Use fn_output_signature instead\n"
          ]
        },
        {
          "output_type": "stream",
          "name": "stderr",
          "text": [
            "03/16/2022 13:47:41 - WARNING - tensorflow -   From /usr/local/lib/python3.7/dist-packages/tensorflow/python/util/deprecation.py:574: calling map_fn_v2 (from tensorflow.python.ops.map_fn) with dtype is deprecated and will be removed in a future version.\n",
            "Instructions for updating:\n",
            "Use fn_output_signature instead\n"
          ]
        },
        {
          "output_type": "stream",
          "name": "stdout",
          "text": [
            "WARNING:tensorflow:From /usr/local/lib/python3.7/dist-packages/tensorflow/python/keras/engine/training_v1.py:2070: Model.state_updates (from tensorflow.python.keras.engine.training) is deprecated and will be removed in a future version.\n",
            "Instructions for updating:\n",
            "This property should not be used in TensorFlow 2.0, as updates are applied automatically.\n"
          ]
        },
        {
          "output_type": "stream",
          "name": "stderr",
          "text": [
            "03/16/2022 13:47:51 - WARNING - tensorflow -   From /usr/local/lib/python3.7/dist-packages/tensorflow/python/keras/engine/training_v1.py:2070: Model.state_updates (from tensorflow.python.keras.engine.training) is deprecated and will be removed in a future version.\n",
            "Instructions for updating:\n",
            "This property should not be used in TensorFlow 2.0, as updates are applied automatically.\n"
          ]
        },
        {
          "output_type": "stream",
          "name": "stdout",
          "text": [
            "Processed image saved successfully in your current working directory.\n"
          ]
        },
        {
          "output_type": "execute_result",
          "data": {
            "text/plain": [
              "({'class_ids': array([1, 1, 1, 3, 1, 1, 1, 3, 1, 1], dtype=int32),\n",
              "  'masks': array([[[False, False, False, ..., False, False, False],\n",
              "          [False, False, False, ..., False, False, False],\n",
              "          [False, False, False, ..., False, False, False],\n",
              "          ...,\n",
              "          [False, False, False, ..., False, False, False],\n",
              "          [False, False, False, ..., False, False, False],\n",
              "          [False, False, False, ..., False, False, False]],\n",
              "  \n",
              "         [[False, False, False, ..., False, False, False],\n",
              "          [False, False, False, ..., False, False, False],\n",
              "          [False, False, False, ..., False, False, False],\n",
              "          ...,\n",
              "          [False, False, False, ..., False, False, False],\n",
              "          [False, False, False, ..., False, False, False],\n",
              "          [False, False, False, ..., False, False, False]],\n",
              "  \n",
              "         [[False, False, False, ..., False, False, False],\n",
              "          [False, False, False, ..., False, False, False],\n",
              "          [False, False, False, ..., False, False, False],\n",
              "          ...,\n",
              "          [False, False, False, ..., False, False, False],\n",
              "          [False, False, False, ..., False, False, False],\n",
              "          [False, False, False, ..., False, False, False]],\n",
              "  \n",
              "         ...,\n",
              "  \n",
              "         [[False, False, False, ..., False, False, False],\n",
              "          [False, False, False, ..., False, False, False],\n",
              "          [False, False, False, ..., False, False, False],\n",
              "          ...,\n",
              "          [False, False, False, ..., False, False, False],\n",
              "          [False, False, False, ..., False, False, False],\n",
              "          [False, False, False, ..., False, False, False]],\n",
              "  \n",
              "         [[False, False, False, ..., False, False, False],\n",
              "          [False, False, False, ..., False, False, False],\n",
              "          [False, False, False, ..., False, False, False],\n",
              "          ...,\n",
              "          [False, False, False, ..., False, False, False],\n",
              "          [False, False, False, ..., False, False, False],\n",
              "          [False, False, False, ..., False, False, False]],\n",
              "  \n",
              "         [[False, False, False, ..., False, False, False],\n",
              "          [False, False, False, ..., False, False, False],\n",
              "          [False, False, False, ..., False, False, False],\n",
              "          ...,\n",
              "          [False, False, False, ..., False, False, False],\n",
              "          [False, False, False, ..., False, False, False],\n",
              "          [False, False, False, ..., False, False, False]]]),\n",
              "  'rois': array([[342, 363, 372, 429],\n",
              "         [186, 317, 199, 360],\n",
              "         [299, 347, 322, 406],\n",
              "         [303, 344, 387, 494],\n",
              "         [232, 385, 250, 434],\n",
              "         [164, 214, 175, 245],\n",
              "         [149, 313, 160, 343],\n",
              "         [474, 382, 535, 459],\n",
              "         [131, 287, 142, 326],\n",
              "         [114, 266, 121, 295]], dtype=int32),\n",
              "  'scores': array([0.93709517, 0.9277783 , 0.8778408 , 0.85188943, 0.8491177 ,\n",
              "         0.83094895, 0.7649406 , 0.75900304, 0.7329254 , 0.7328886 ],\n",
              "        dtype=float32)},\n",
              " array([[[ 92, 157, 212],\n",
              "         [ 92, 157, 212],\n",
              "         [ 93, 158, 213],\n",
              "         ...,\n",
              "         [ 73, 113, 161],\n",
              "         [ 77, 117, 165],\n",
              "         [ 66, 106, 154]],\n",
              " \n",
              "        [[ 83, 148, 203],\n",
              "         [ 82, 147, 202],\n",
              "         [ 79, 144, 199],\n",
              "         ...,\n",
              "         [ 59,  98, 142],\n",
              "         [ 55,  94, 139],\n",
              "         [ 81, 120, 164]],\n",
              " \n",
              "        [[ 66, 130, 185],\n",
              "         [ 68, 132, 187],\n",
              "         [ 73, 137, 192],\n",
              "         ...,\n",
              "         [ 90, 126, 164],\n",
              "         [ 97, 132, 172],\n",
              "         [ 84, 120, 158]],\n",
              " \n",
              "        ...,\n",
              " \n",
              "        [[ 48,  64,  77],\n",
              "         [ 52,  68,  81],\n",
              "         [ 44,  60,  73],\n",
              "         ...,\n",
              "         [ 29,  38,  41],\n",
              "         [ 37,  46,  49],\n",
              "         [ 36,  45,  48]],\n",
              " \n",
              "        [[ 27,  43,  56],\n",
              "         [ 30,  46,  59],\n",
              "         [ 28,  44,  57],\n",
              "         ...,\n",
              "         [ 26,  35,  38],\n",
              "         [ 31,  40,  43],\n",
              "         [ 34,  43,  46]],\n",
              " \n",
              "        [[ 26,  42,  55],\n",
              "         [ 26,  42,  55],\n",
              "         [ 27,  43,  56],\n",
              "         ...,\n",
              "         [ 22,  31,  34],\n",
              "         [ 25,  34,  37],\n",
              "         [ 32,  41,  44]]], dtype=uint8))"
            ]
          },
          "metadata": {},
          "execution_count": 4
        }
      ]
    },
    {
      "cell_type": "code",
      "source": [
        "from google.colab import drive\n",
        "drive.mount('/content/drive')"
      ],
      "metadata": {
        "id": "Ueaa9oSL1yE-",
        "outputId": "1d66e695-50b3-4fb6-f3da-80c334d4daaf",
        "colab": {
          "base_uri": "https://localhost:8080/"
        }
      },
      "execution_count": 4,
      "outputs": [
        {
          "output_type": "stream",
          "name": "stdout",
          "text": [
            "Drive already mounted at /content/drive; to attempt to forcibly remount, call drive.mount(\"/content/drive\", force_remount=True).\n"
          ]
        }
      ]
    }
  ],
  "metadata": {
    "colab": {
      "collapsed_sections": [],
      "name": "mask rcnn",
      "provenance": []
    },
    "kernelspec": {
      "display_name": "Python 3",
      "name": "python3"
    },
    "accelerator": "GPU"
  },
  "nbformat": 4,
  "nbformat_minor": 0
}