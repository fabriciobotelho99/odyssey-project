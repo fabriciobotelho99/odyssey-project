{
 "cells": [
  {
   "cell_type": "code",
   "execution_count": null,
   "metadata": {
    "colab": {
     "base_uri": "https://localhost:8080/"
    },
    "executionInfo": {
     "elapsed": 33168,
     "status": "ok",
     "timestamp": 1648036655936,
     "user": {
      "displayName": "Fabrizio Diaz",
      "photoUrl": "https://lh3.googleusercontent.com/a/default-user=s64",
      "userId": "14694450053870418727"
     },
     "user_tz": 0
    },
    "id": "NeWVBhf1VxlH",
    "outputId": "c107294a-f5f7-4a02-8369-4b49401e1fd8"
   },
   "outputs": [
    {
     "name": "stdout",
     "output_type": "stream",
     "text": [
      "Found existing installation: tensorflow 2.8.0\n",
      "Uninstalling tensorflow-2.8.0:\n",
      "  Would remove:\n",
      "    /usr/local/bin/estimator_ckpt_converter\n",
      "    /usr/local/bin/import_pb_to_tensorboard\n",
      "    /usr/local/bin/saved_model_cli\n",
      "    /usr/local/bin/tensorboard\n",
      "    /usr/local/bin/tf_upgrade_v2\n",
      "    /usr/local/bin/tflite_convert\n",
      "    /usr/local/bin/toco\n",
      "    /usr/local/bin/toco_from_protos\n",
      "    /usr/local/lib/python3.7/dist-packages/tensorflow-2.8.0.dist-info/*\n",
      "    /usr/local/lib/python3.7/dist-packages/tensorflow/*\n",
      "Proceed (y/n)? y\n",
      "  Successfully uninstalled tensorflow-2.8.0\n"
     ]
    }
   ],
   "source": [
    "!pip uninstall tensorflow"
   ]
  },
  {
   "cell_type": "code",
   "execution_count": null,
   "metadata": {
    "colab": {
     "base_uri": "https://localhost:8080/"
    },
    "executionInfo": {
     "elapsed": 14196,
     "status": "ok",
     "timestamp": 1648038071568,
     "user": {
      "displayName": "Fabrizio Diaz",
      "photoUrl": "https://lh3.googleusercontent.com/a/default-user=s64",
      "userId": "14694450053870418727"
     },
     "user_tz": 0
    },
    "id": "-XbfkU7BeziQ",
    "outputId": "60a9a3e6-507a-4b7b-ff5b-005e0e3076f2"
   },
   "outputs": [
    {
     "name": "stdout",
     "output_type": "stream",
     "text": [
      "Requirement already satisfied: tensorflow==2.3.0 in /usr/local/lib/python3.7/dist-packages (2.3.0)\n",
      "Requirement already satisfied: numpy<1.19.0,>=1.16.0 in /usr/local/lib/python3.7/dist-packages (from tensorflow==2.3.0) (1.18.5)\n",
      "Requirement already satisfied: absl-py>=0.7.0 in /usr/local/lib/python3.7/dist-packages (from tensorflow==2.3.0) (1.0.0)\n",
      "Requirement already satisfied: keras-preprocessing<1.2,>=1.1.1 in /usr/local/lib/python3.7/dist-packages (from tensorflow==2.3.0) (1.1.2)\n",
      "Requirement already satisfied: gast==0.3.3 in /usr/local/lib/python3.7/dist-packages (from tensorflow==2.3.0) (0.3.3)\n",
      "Requirement already satisfied: protobuf>=3.9.2 in /usr/local/lib/python3.7/dist-packages (from tensorflow==2.3.0) (3.17.3)\n",
      "Requirement already satisfied: opt-einsum>=2.3.2 in /usr/local/lib/python3.7/dist-packages (from tensorflow==2.3.0) (3.3.0)\n",
      "Requirement already satisfied: termcolor>=1.1.0 in /usr/local/lib/python3.7/dist-packages (from tensorflow==2.3.0) (1.1.0)\n",
      "Requirement already satisfied: tensorflow-estimator<2.4.0,>=2.3.0 in /usr/local/lib/python3.7/dist-packages (from tensorflow==2.3.0) (2.3.0)\n",
      "Requirement already satisfied: scipy==1.4.1 in /usr/local/lib/python3.7/dist-packages (from tensorflow==2.3.0) (1.4.1)\n",
      "Requirement already satisfied: grpcio>=1.8.6 in /usr/local/lib/python3.7/dist-packages (from tensorflow==2.3.0) (1.44.0)\n",
      "Requirement already satisfied: wheel>=0.26 in /usr/local/lib/python3.7/dist-packages (from tensorflow==2.3.0) (0.37.1)\n",
      "Requirement already satisfied: wrapt>=1.11.1 in /usr/local/lib/python3.7/dist-packages (from tensorflow==2.3.0) (1.14.0)\n",
      "Requirement already satisfied: h5py<2.11.0,>=2.10.0 in /usr/local/lib/python3.7/dist-packages (from tensorflow==2.3.0) (2.10.0)\n",
      "Requirement already satisfied: google-pasta>=0.1.8 in /usr/local/lib/python3.7/dist-packages (from tensorflow==2.3.0) (0.2.0)\n",
      "Requirement already satisfied: six>=1.12.0 in /usr/local/lib/python3.7/dist-packages (from tensorflow==2.3.0) (1.15.0)\n",
      "Requirement already satisfied: tensorboard<3,>=2.3.0 in /usr/local/lib/python3.7/dist-packages (from tensorflow==2.3.0) (2.8.0)\n",
      "Requirement already satisfied: astunparse==1.6.3 in /usr/local/lib/python3.7/dist-packages (from tensorflow==2.3.0) (1.6.3)\n",
      "Requirement already satisfied: tensorboard-plugin-wit>=1.6.0 in /usr/local/lib/python3.7/dist-packages (from tensorboard<3,>=2.3.0->tensorflow==2.3.0) (1.8.1)\n",
      "Requirement already satisfied: requests<3,>=2.21.0 in /usr/local/lib/python3.7/dist-packages (from tensorboard<3,>=2.3.0->tensorflow==2.3.0) (2.23.0)\n",
      "Requirement already satisfied: markdown>=2.6.8 in /usr/local/lib/python3.7/dist-packages (from tensorboard<3,>=2.3.0->tensorflow==2.3.0) (3.3.6)\n",
      "Requirement already satisfied: google-auth-oauthlib<0.5,>=0.4.1 in /usr/local/lib/python3.7/dist-packages (from tensorboard<3,>=2.3.0->tensorflow==2.3.0) (0.4.6)\n",
      "Requirement already satisfied: werkzeug>=0.11.15 in /usr/local/lib/python3.7/dist-packages (from tensorboard<3,>=2.3.0->tensorflow==2.3.0) (1.0.1)\n",
      "Requirement already satisfied: google-auth<3,>=1.6.3 in /usr/local/lib/python3.7/dist-packages (from tensorboard<3,>=2.3.0->tensorflow==2.3.0) (1.35.0)\n",
      "Requirement already satisfied: setuptools>=41.0.0 in /usr/local/lib/python3.7/dist-packages (from tensorboard<3,>=2.3.0->tensorflow==2.3.0) (57.4.0)\n",
      "Requirement already satisfied: tensorboard-data-server<0.7.0,>=0.6.0 in /usr/local/lib/python3.7/dist-packages (from tensorboard<3,>=2.3.0->tensorflow==2.3.0) (0.6.1)\n",
      "Requirement already satisfied: pyasn1-modules>=0.2.1 in /usr/local/lib/python3.7/dist-packages (from google-auth<3,>=1.6.3->tensorboard<3,>=2.3.0->tensorflow==2.3.0) (0.2.8)\n",
      "Requirement already satisfied: cachetools<5.0,>=2.0.0 in /usr/local/lib/python3.7/dist-packages (from google-auth<3,>=1.6.3->tensorboard<3,>=2.3.0->tensorflow==2.3.0) (4.2.4)\n",
      "Requirement already satisfied: rsa<5,>=3.1.4 in /usr/local/lib/python3.7/dist-packages (from google-auth<3,>=1.6.3->tensorboard<3,>=2.3.0->tensorflow==2.3.0) (4.8)\n",
      "Requirement already satisfied: requests-oauthlib>=0.7.0 in /usr/local/lib/python3.7/dist-packages (from google-auth-oauthlib<0.5,>=0.4.1->tensorboard<3,>=2.3.0->tensorflow==2.3.0) (1.3.1)\n",
      "Requirement already satisfied: importlib-metadata>=4.4 in /usr/local/lib/python3.7/dist-packages (from markdown>=2.6.8->tensorboard<3,>=2.3.0->tensorflow==2.3.0) (4.11.3)\n",
      "Requirement already satisfied: zipp>=0.5 in /usr/local/lib/python3.7/dist-packages (from importlib-metadata>=4.4->markdown>=2.6.8->tensorboard<3,>=2.3.0->tensorflow==2.3.0) (3.7.0)\n",
      "Requirement already satisfied: typing-extensions>=3.6.4 in /usr/local/lib/python3.7/dist-packages (from importlib-metadata>=4.4->markdown>=2.6.8->tensorboard<3,>=2.3.0->tensorflow==2.3.0) (3.10.0.2)\n",
      "Requirement already satisfied: pyasn1<0.5.0,>=0.4.6 in /usr/local/lib/python3.7/dist-packages (from pyasn1-modules>=0.2.1->google-auth<3,>=1.6.3->tensorboard<3,>=2.3.0->tensorflow==2.3.0) (0.4.8)\n",
      "Requirement already satisfied: urllib3!=1.25.0,!=1.25.1,<1.26,>=1.21.1 in /usr/local/lib/python3.7/dist-packages (from requests<3,>=2.21.0->tensorboard<3,>=2.3.0->tensorflow==2.3.0) (1.24.3)\n",
      "Requirement already satisfied: idna<3,>=2.5 in /usr/local/lib/python3.7/dist-packages (from requests<3,>=2.21.0->tensorboard<3,>=2.3.0->tensorflow==2.3.0) (2.10)\n",
      "Requirement already satisfied: chardet<4,>=3.0.2 in /usr/local/lib/python3.7/dist-packages (from requests<3,>=2.21.0->tensorboard<3,>=2.3.0->tensorflow==2.3.0) (3.0.4)\n",
      "Requirement already satisfied: certifi>=2017.4.17 in /usr/local/lib/python3.7/dist-packages (from requests<3,>=2.21.0->tensorboard<3,>=2.3.0->tensorflow==2.3.0) (2021.10.8)\n",
      "Requirement already satisfied: oauthlib>=3.0.0 in /usr/local/lib/python3.7/dist-packages (from requests-oauthlib>=0.7.0->google-auth-oauthlib<0.5,>=0.4.1->tensorboard<3,>=2.3.0->tensorflow==2.3.0) (3.2.0)\n",
      "Requirement already satisfied: tifffile in /usr/local/lib/python3.7/dist-packages (2021.11.2)\n",
      "Requirement already satisfied: numpy>=1.15.1 in /usr/local/lib/python3.7/dist-packages (from tifffile) (1.18.5)\n",
      "Requirement already satisfied: imagecodecs in /usr/local/lib/python3.7/dist-packages (2021.11.20)\n",
      "Requirement already satisfied: numpy>=1.16.5 in /usr/local/lib/python3.7/dist-packages (from imagecodecs) (1.18.5)\n",
      "Requirement already satisfied: imgaug in /usr/local/lib/python3.7/dist-packages (0.2.9)\n",
      "Requirement already satisfied: imageio in /usr/local/lib/python3.7/dist-packages (from imgaug) (2.4.1)\n",
      "Requirement already satisfied: opencv-python in /usr/local/lib/python3.7/dist-packages (from imgaug) (4.5.5.64)\n",
      "Requirement already satisfied: matplotlib in /usr/local/lib/python3.7/dist-packages (from imgaug) (3.2.2)\n",
      "Requirement already satisfied: six in /usr/local/lib/python3.7/dist-packages (from imgaug) (1.15.0)\n",
      "Requirement already satisfied: Shapely in /usr/local/lib/python3.7/dist-packages (from imgaug) (1.8.1.post1)\n",
      "Requirement already satisfied: Pillow in /usr/local/lib/python3.7/dist-packages (from imgaug) (9.0.1)\n",
      "Requirement already satisfied: numpy>=1.15.0 in /usr/local/lib/python3.7/dist-packages (from imgaug) (1.18.5)\n",
      "Requirement already satisfied: scipy in /usr/local/lib/python3.7/dist-packages (from imgaug) (1.4.1)\n",
      "Requirement already satisfied: scikit-image>=0.11.0 in /usr/local/lib/python3.7/dist-packages (from imgaug) (0.18.3)\n",
      "Requirement already satisfied: tifffile>=2019.7.26 in /usr/local/lib/python3.7/dist-packages (from scikit-image>=0.11.0->imgaug) (2021.11.2)\n",
      "Requirement already satisfied: networkx>=2.0 in /usr/local/lib/python3.7/dist-packages (from scikit-image>=0.11.0->imgaug) (2.6.3)\n",
      "Requirement already satisfied: PyWavelets>=1.1.1 in /usr/local/lib/python3.7/dist-packages (from scikit-image>=0.11.0->imgaug) (1.3.0)\n",
      "Requirement already satisfied: kiwisolver>=1.0.1 in /usr/local/lib/python3.7/dist-packages (from matplotlib->imgaug) (1.4.0)\n",
      "Requirement already satisfied: cycler>=0.10 in /usr/local/lib/python3.7/dist-packages (from matplotlib->imgaug) (0.11.0)\n",
      "Requirement already satisfied: pyparsing!=2.0.4,!=2.1.2,!=2.1.6,>=2.0.1 in /usr/local/lib/python3.7/dist-packages (from matplotlib->imgaug) (3.0.7)\n",
      "Requirement already satisfied: python-dateutil>=2.1 in /usr/local/lib/python3.7/dist-packages (from matplotlib->imgaug) (2.8.2)\n",
      "Requirement already satisfied: typing-extensions in /usr/local/lib/python3.7/dist-packages (from kiwisolver>=1.0.1->matplotlib->imgaug) (3.10.0.2)\n"
     ]
    }
   ],
   "source": [
    "!pip install tensorflow==2.3.0\n",
    "#!pip install pixellib==0.6.6\n",
    "!pip install tifffile\n",
    "!pip install imagecodecs \n",
    "!pip install imgaug"
   ]
  },
  {
   "cell_type": "code",
   "execution_count": null,
   "metadata": {
    "colab": {
     "base_uri": "https://localhost:8080/"
    },
    "executionInfo": {
     "elapsed": 578,
     "status": "ok",
     "timestamp": 1648039088374,
     "user": {
      "displayName": "Fabrizio Diaz",
      "photoUrl": "https://lh3.googleusercontent.com/a/default-user=s64",
      "userId": "14694450053870418727"
     },
     "user_tz": 0
    },
    "id": "_PreYyku08fR",
    "outputId": "3d591e33-3a95-4dce-978c-00fde6cf726f"
   },
   "outputs": [
    {
     "name": "stdout",
     "output_type": "stream",
     "text": [
      "Tensorflow version ==  2.3.0\n",
      "Num GPUs Available:  1\n",
      "Wed Mar 23 13:42:16 2022       \n",
      "+-----------------------------------------------------------------------------+\n",
      "| NVIDIA-SMI 460.32.03    Driver Version: 460.32.03    CUDA Version: 11.2     |\n",
      "|-------------------------------+----------------------+----------------------+\n",
      "| GPU  Name        Persistence-M| Bus-Id        Disp.A | Volatile Uncorr. ECC |\n",
      "| Fan  Temp  Perf  Pwr:Usage/Cap|         Memory-Usage | GPU-Util  Compute M. |\n",
      "|                               |                      |               MIG M. |\n",
      "|===============================+======================+======================|\n",
      "|   0  Tesla K80           Off  | 00000000:00:04.0 Off |                    0 |\n",
      "| N/A   73C    P0    70W / 149W |   9492MiB / 11441MiB |      0%      Default |\n",
      "|                               |                      |                  N/A |\n",
      "+-------------------------------+----------------------+----------------------+\n",
      "                                                                               \n",
      "+-----------------------------------------------------------------------------+\n",
      "| Processes:                                                                  |\n",
      "|  GPU   GI   CI        PID   Type   Process name                  GPU Memory |\n",
      "|        ID   ID                                                   Usage      |\n",
      "|=============================================================================|\n",
      "+-----------------------------------------------------------------------------+\n"
     ]
    }
   ],
   "source": [
    "import tensorflow as tf\n",
    "\n",
    "print(\"Tensorflow version == \", tf.__version__)\n",
    "print(\"Num GPUs Available: \", len(tf.config.list_physical_devices('GPU')))\n",
    "\n",
    "!nvidia-smi\n"
   ]
  },
  {
   "cell_type": "code",
   "execution_count": null,
   "metadata": {
    "colab": {
     "base_uri": "https://localhost:8080/"
    },
    "executionInfo": {
     "elapsed": 1855,
     "status": "ok",
     "timestamp": 1648038170216,
     "user": {
      "displayName": "Fabrizio Diaz",
      "photoUrl": "https://lh3.googleusercontent.com/a/default-user=s64",
      "userId": "14694450053870418727"
     },
     "user_tz": 0
    },
    "id": "aZuvstCu7alg",
    "outputId": "04d96a21-515b-4f70-bbc9-821ac4f23e20"
   },
   "outputs": [
    {
     "name": "stdout",
     "output_type": "stream",
     "text": [
      "Tensorflow version ==  2.3.0\n",
      "keras version ==  2.4.0\n"
     ]
    }
   ],
   "source": [
    "print(\"Tensorflow version == \", tf.__version__)\n",
    "print(\"keras version == \", tf.keras.__version__)\n",
    "\n",
    "import pixellib\n",
    "from pixellib.custom_train import instance_custom_training\n",
    "%load_ext tensorboard"
   ]
  },
  {
   "cell_type": "code",
   "execution_count": null,
   "metadata": {
    "colab": {
     "base_uri": "https://localhost:8080/"
    },
    "executionInfo": {
     "elapsed": 15626,
     "status": "ok",
     "timestamp": 1648038187721,
     "user": {
      "displayName": "Fabrizio Diaz",
      "photoUrl": "https://lh3.googleusercontent.com/a/default-user=s64",
      "userId": "14694450053870418727"
     },
     "user_tz": 0
    },
    "id": "3l9ivCz71anQ",
    "outputId": "dd881842-7c9c-4110-ebbf-93a0fa263cc3"
   },
   "outputs": [
    {
     "name": "stdout",
     "output_type": "stream",
     "text": [
      "Using resnet101 as network backbone For Mask R-CNN model\n"
     ]
    }
   ],
   "source": [
    "train_maskrcnn = instance_custom_training()\n",
    "train_maskrcnn.modelConfig(network_backbone = \"resnet101\", num_classes= 3, batch_size=2)\n",
    "train_maskrcnn.load_pretrained_model(\"/content/drive/MyDrive/mask_rcnn_coco.h5\")\n",
    "train_maskrcnn.load_dataset(\"/content/drive/MyDrive/structures\")"
   ]
  },
  {
   "cell_type": "code",
   "execution_count": null,
   "metadata": {
    "id": "mb6aRzQzgflP"
   },
   "outputs": [],
   "source": [
    "train_maskrcnn.train_model(num_epochs = 100, augmentation=True, path_trained_models= \"/content/drive/MyDrive/structures/models_resnet101_batchsize2\")"
   ]
  },
  {
   "cell_type": "code",
   "execution_count": null,
   "metadata": {
    "colab": {
     "base_uri": "https://localhost:8080/"
    },
    "executionInfo": {
     "elapsed": 664962,
     "status": "ok",
     "timestamp": 1647211115255,
     "user": {
      "displayName": "Fabrizio Diaz",
      "photoUrl": "https://lh3.googleusercontent.com/a/default-user=s64",
      "userId": "14694450053870418727"
     },
     "user_tz": 0
    },
    "id": "wEmhWUl05_il",
    "outputId": "f297e42c-5758-4f54-f619-0a683b8a5daf"
   },
   "outputs": [
    {
     "name": "stdout",
     "output_type": "stream",
     "text": [
      "Using resnet101 as network backbone For Mask R-CNN model\n",
      "mask_rcnn_model_batchsize2\n",
      "/content/drive/MyDrive/structures/mask_rcnn_models_batchsize2/.ipynb_checkpoints evaluation using iou_threshold 0.5 is 0.000000 \n",
      "\n",
      "/content/drive/MyDrive/structures/mask_rcnn_models_batchsize2/mask_rcnn_model.001-2.532437.h5 evaluation using iou_threshold 0.5 is 0.000000 \n",
      "\n",
      "/content/drive/MyDrive/structures/mask_rcnn_models_batchsize2/mask_rcnn_model.004-2.493129.h5 evaluation using iou_threshold 0.5 is 0.000000 \n",
      "\n",
      "/content/drive/MyDrive/structures/mask_rcnn_models_batchsize2/mask_rcnn_model.005-2.434942.h5 evaluation using iou_threshold 0.5 is 0.007512 \n",
      "\n",
      "/content/drive/MyDrive/structures/mask_rcnn_models_batchsize2/mask_rcnn_model.010-2.322743.h5 evaluation using iou_threshold 0.5 is 0.150704 \n",
      "\n",
      "/content/drive/MyDrive/structures/mask_rcnn_models_batchsize2/mask_rcnn_model.011-2.108714.h5 evaluation using iou_threshold 0.5 is 0.099844 \n",
      "\n",
      "/content/drive/MyDrive/structures/mask_rcnn_models_batchsize2/mask_rcnn_model.012-1.967673.h5 evaluation using iou_threshold 0.5 is 0.063850 \n",
      "\n",
      "/content/drive/MyDrive/structures/mask_rcnn_models_batchsize2/mask_rcnn_model.020-1.940572.h5 evaluation using iou_threshold 0.5 is 0.325956 \n",
      "\n",
      "/content/drive/MyDrive/structures/mask_rcnn_models_batchsize2/mask_rcnn_model.023-1.699520.h5 evaluation using iou_threshold 0.5 is 0.177834 \n",
      "\n",
      "/content/drive/MyDrive/structures/mask_rcnn_models_batchsize4/.ipynb_checkpoints evaluation using iou_threshold 0.5 is 0.000000 \n",
      "\n",
      "/content/drive/MyDrive/structures/mask_rcnn_models_batchsize4/mask_rcnn_model.001-3.361616.h5 evaluation using iou_threshold 0.5 is 0.000000 \n",
      "\n",
      "/content/drive/MyDrive/structures/mask_rcnn_models_batchsize4/mask_rcnn_model.002-2.600988.h5 evaluation using iou_threshold 0.5 is 0.016097 \n",
      "\n",
      "/content/drive/MyDrive/structures/mask_rcnn_models_batchsize4/mask_rcnn_model.003-2.175664.h5 evaluation using iou_threshold 0.5 is 0.082160 \n",
      "\n",
      "/content/drive/MyDrive/structures/mask_rcnn_models_batchsize4/mask_rcnn_model.011-2.013154.h5 evaluation using iou_threshold 0.5 is 0.210228 \n",
      "\n",
      "/content/drive/MyDrive/structures/mask_rcnn_models_batchsize4/mask_rcnn_model.019-1.835576.h5 evaluation using iou_threshold 0.5 is 0.273390 \n",
      "\n"
     ]
    }
   ],
   "source": [
    "#Evaluate the models \n",
    "train_evaluate = instance_custom_training()\n",
    "train_evaluate.modelConfig(network_backbone = \"resnet101\", num_classes= 3)\n",
    "train_evaluate.load_dataset(\"/content/drive/MyDrive/structures\")\n",
    "print(\"mask_rcnn_model_batchsize2\")\n",
    "\n",
    "train_evaluate.evaluate_model(\"/content/drive/MyDrive/structures/mask_rcnn_models_batchsize2\")\n",
    "\n",
    "train_evaluate.evaluate_model(\"/content/drive/MyDrive/structures/mask_rcnn_models_batchsize4\")"
   ]
  },
  {
   "cell_type": "code",
   "execution_count": null,
   "metadata": {
    "colab": {
     "base_uri": "https://localhost:8080/"
    },
    "executionInfo": {
     "elapsed": 25534,
     "status": "ok",
     "timestamp": 1647433713088,
     "user": {
      "displayName": "Fabrizio Diaz",
      "photoUrl": "https://lh3.googleusercontent.com/a/default-user=s64",
      "userId": "14694450053870418727"
     },
     "user_tz": 0
    },
    "id": "UYlN7E4x7JwC",
    "outputId": "3e82277a-a8d2-4a61-f7b9-9891003c4f55"
   },
   "outputs": [
    {
     "name": "stdout",
     "output_type": "stream",
     "text": [
      "WARNING:tensorflow:From /usr/local/lib/python3.7/dist-packages/tensorflow/python/util/deprecation.py:574: calling map_fn_v2 (from tensorflow.python.ops.map_fn) with dtype is deprecated and will be removed in a future version.\n",
      "Instructions for updating:\n",
      "Use fn_output_signature instead\n"
     ]
    },
    {
     "name": "stderr",
     "output_type": "stream",
     "text": [
      "03/16/2022 13:47:41 - WARNING - tensorflow -   From /usr/local/lib/python3.7/dist-packages/tensorflow/python/util/deprecation.py:574: calling map_fn_v2 (from tensorflow.python.ops.map_fn) with dtype is deprecated and will be removed in a future version.\n",
      "Instructions for updating:\n",
      "Use fn_output_signature instead\n"
     ]
    },
    {
     "name": "stdout",
     "output_type": "stream",
     "text": [
      "WARNING:tensorflow:From /usr/local/lib/python3.7/dist-packages/tensorflow/python/keras/engine/training_v1.py:2070: Model.state_updates (from tensorflow.python.keras.engine.training) is deprecated and will be removed in a future version.\n",
      "Instructions for updating:\n",
      "This property should not be used in TensorFlow 2.0, as updates are applied automatically.\n"
     ]
    },
    {
     "name": "stderr",
     "output_type": "stream",
     "text": [
      "03/16/2022 13:47:51 - WARNING - tensorflow -   From /usr/local/lib/python3.7/dist-packages/tensorflow/python/keras/engine/training_v1.py:2070: Model.state_updates (from tensorflow.python.keras.engine.training) is deprecated and will be removed in a future version.\n",
      "Instructions for updating:\n",
      "This property should not be used in TensorFlow 2.0, as updates are applied automatically.\n"
     ]
    },
    {
     "name": "stdout",
     "output_type": "stream",
     "text": [
      "Processed image saved successfully in your current working directory.\n"
     ]
    },
    {
     "data": {
      "text/plain": [
       "({'class_ids': array([1, 1, 1, 3, 1, 1, 1, 3, 1, 1], dtype=int32),\n",
       "  'masks': array([[[False, False, False, ..., False, False, False],\n",
       "          [False, False, False, ..., False, False, False],\n",
       "          [False, False, False, ..., False, False, False],\n",
       "          ...,\n",
       "          [False, False, False, ..., False, False, False],\n",
       "          [False, False, False, ..., False, False, False],\n",
       "          [False, False, False, ..., False, False, False]],\n",
       "  \n",
       "         [[False, False, False, ..., False, False, False],\n",
       "          [False, False, False, ..., False, False, False],\n",
       "          [False, False, False, ..., False, False, False],\n",
       "          ...,\n",
       "          [False, False, False, ..., False, False, False],\n",
       "          [False, False, False, ..., False, False, False],\n",
       "          [False, False, False, ..., False, False, False]],\n",
       "  \n",
       "         [[False, False, False, ..., False, False, False],\n",
       "          [False, False, False, ..., False, False, False],\n",
       "          [False, False, False, ..., False, False, False],\n",
       "          ...,\n",
       "          [False, False, False, ..., False, False, False],\n",
       "          [False, False, False, ..., False, False, False],\n",
       "          [False, False, False, ..., False, False, False]],\n",
       "  \n",
       "         ...,\n",
       "  \n",
       "         [[False, False, False, ..., False, False, False],\n",
       "          [False, False, False, ..., False, False, False],\n",
       "          [False, False, False, ..., False, False, False],\n",
       "          ...,\n",
       "          [False, False, False, ..., False, False, False],\n",
       "          [False, False, False, ..., False, False, False],\n",
       "          [False, False, False, ..., False, False, False]],\n",
       "  \n",
       "         [[False, False, False, ..., False, False, False],\n",
       "          [False, False, False, ..., False, False, False],\n",
       "          [False, False, False, ..., False, False, False],\n",
       "          ...,\n",
       "          [False, False, False, ..., False, False, False],\n",
       "          [False, False, False, ..., False, False, False],\n",
       "          [False, False, False, ..., False, False, False]],\n",
       "  \n",
       "         [[False, False, False, ..., False, False, False],\n",
       "          [False, False, False, ..., False, False, False],\n",
       "          [False, False, False, ..., False, False, False],\n",
       "          ...,\n",
       "          [False, False, False, ..., False, False, False],\n",
       "          [False, False, False, ..., False, False, False],\n",
       "          [False, False, False, ..., False, False, False]]]),\n",
       "  'rois': array([[342, 363, 372, 429],\n",
       "         [186, 317, 199, 360],\n",
       "         [299, 347, 322, 406],\n",
       "         [303, 344, 387, 494],\n",
       "         [232, 385, 250, 434],\n",
       "         [164, 214, 175, 245],\n",
       "         [149, 313, 160, 343],\n",
       "         [474, 382, 535, 459],\n",
       "         [131, 287, 142, 326],\n",
       "         [114, 266, 121, 295]], dtype=int32),\n",
       "  'scores': array([0.93709517, 0.9277783 , 0.8778408 , 0.85188943, 0.8491177 ,\n",
       "         0.83094895, 0.7649406 , 0.75900304, 0.7329254 , 0.7328886 ],\n",
       "        dtype=float32)},\n",
       " array([[[ 92, 157, 212],\n",
       "         [ 92, 157, 212],\n",
       "         [ 93, 158, 213],\n",
       "         ...,\n",
       "         [ 73, 113, 161],\n",
       "         [ 77, 117, 165],\n",
       "         [ 66, 106, 154]],\n",
       " \n",
       "        [[ 83, 148, 203],\n",
       "         [ 82, 147, 202],\n",
       "         [ 79, 144, 199],\n",
       "         ...,\n",
       "         [ 59,  98, 142],\n",
       "         [ 55,  94, 139],\n",
       "         [ 81, 120, 164]],\n",
       " \n",
       "        [[ 66, 130, 185],\n",
       "         [ 68, 132, 187],\n",
       "         [ 73, 137, 192],\n",
       "         ...,\n",
       "         [ 90, 126, 164],\n",
       "         [ 97, 132, 172],\n",
       "         [ 84, 120, 158]],\n",
       " \n",
       "        ...,\n",
       " \n",
       "        [[ 48,  64,  77],\n",
       "         [ 52,  68,  81],\n",
       "         [ 44,  60,  73],\n",
       "         ...,\n",
       "         [ 29,  38,  41],\n",
       "         [ 37,  46,  49],\n",
       "         [ 36,  45,  48]],\n",
       " \n",
       "        [[ 27,  43,  56],\n",
       "         [ 30,  46,  59],\n",
       "         [ 28,  44,  57],\n",
       "         ...,\n",
       "         [ 26,  35,  38],\n",
       "         [ 31,  40,  43],\n",
       "         [ 34,  43,  46]],\n",
       " \n",
       "        [[ 26,  42,  55],\n",
       "         [ 26,  42,  55],\n",
       "         [ 27,  43,  56],\n",
       "         ...,\n",
       "         [ 22,  31,  34],\n",
       "         [ 25,  34,  37],\n",
       "         [ 32,  41,  44]]], dtype=uint8))"
      ]
     },
     "execution_count": 4,
     "metadata": {},
     "output_type": "execute_result"
    }
   ],
   "source": [
    "#!pip uninstall tensorflow\n",
    "#!pip install tensorflow==2.3.0\n",
    "\n",
    "import pixellib\n",
    "import tensorflow\n",
    "from pixellib.instance import custom_segmentation\n",
    "\n",
    "\n",
    "segment_image = custom_segmentation()\n",
    "segment_image.inferConfig(num_classes= 3, class_names= [\"BG\", \"qanat\", \"ruined structure\", \"mounded sites\"])\n",
    "segment_image.load_model(\"/content/drive/MyDrive/structures/mask_rcnn_models_batchsize2/mask_rcnn_model.023-1.699520.h5\")\n",
    "segment_image.segmentImage(\"/content/drive/MyDrive/structures/test_segmentation/test/qanats/3-6.jpg\", show_bboxes=True, output_image_name=\"sample_out.jpg\")\n"
   ]
  },
  {
   "cell_type": "code",
   "execution_count": null,
   "metadata": {
    "colab": {
     "base_uri": "https://localhost:8080/"
    },
    "executionInfo": {
     "elapsed": 16949,
     "status": "ok",
     "timestamp": 1648036621724,
     "user": {
      "displayName": "Fabrizio Diaz",
      "photoUrl": "https://lh3.googleusercontent.com/a/default-user=s64",
      "userId": "14694450053870418727"
     },
     "user_tz": 0
    },
    "id": "Ueaa9oSL1yE-",
    "outputId": "3e6d3724-8258-49b0-94ec-b0ee0e4ad290"
   },
   "outputs": [
    {
     "name": "stdout",
     "output_type": "stream",
     "text": [
      "Mounted at /content/drive\n"
     ]
    }
   ],
   "source": [
    "from google.colab import drive\n",
    "drive.mount('/content/drive')"
   ]
  }
 ],
 "metadata": {
  "accelerator": "GPU",
  "colab": {
   "collapsed_sections": [],
   "name": "resnet101",
   "provenance": [
    {
     "file_id": "/v2/external/notebooks/tensorflow_version.ipynb",
     "timestamp": 1647127271099
    }
   ]
  },
  "kernelspec": {
   "display_name": "Python 3 (ipykernel)",
   "language": "python",
   "name": "python3"
  },
  "language_info": {
   "codemirror_mode": {
    "name": "ipython",
    "version": 3
   },
   "file_extension": ".py",
   "mimetype": "text/x-python",
   "name": "python",
   "nbconvert_exporter": "python",
   "pygments_lexer": "ipython3",
   "version": "3.7.13"
  }
 },
 "nbformat": 4,
 "nbformat_minor": 1
}
